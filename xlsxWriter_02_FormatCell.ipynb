{
 "cells": [
  {
   "cell_type": "markdown",
   "metadata": {},
   "source": [
    "https://xlsxwriter.readthedocs.io/format.html"
   ]
  },
  {
   "cell_type": "code",
   "execution_count": 18,
   "metadata": {},
   "outputs": [],
   "source": [
    "import xlsxwriter\n",
    "\n",
    "import re\n",
    "\n",
    "# create a new file \n",
    "workbook = xlsxwriter.Workbook('xlsxWriter_02_format.xlsx')\n"
   ]
  },
  {
   "cell_type": "code",
   "execution_count": 19,
   "metadata": {},
   "outputs": [],
   "source": [
    "# add a new sheet \n",
    "worksheet = workbook.add_worksheet(\"num_format\") \n",
    "\n",
    "formats = [ '0.000', '#,##0', '#,##0.00', '0.00'\n",
    "           , 'mm/dd/yy', 'd mmmm yyyy', 'd mmmm yyyy', 'dd/mm/yyyy hh:mm AM/PM'\n",
    "           , '0 \"dollar and\" .00 \"cents\"' ] + ['[Green]General;[Red]-General;General']*3\n",
    "\n",
    "values = [3.1415926, 1234.5, 1234.567, 49.99\n",
    "          , 36892.521, 36892.521, 36892.521, 36892.521\n",
    "          , 500.45, 123, -45, 0.0 \n",
    "         ]\n",
    "\n",
    "colors = [\"balck\", \"blue\", \"brown\", \"cyan\", \"gray\"\n",
    "             , \"green\", \"lime\", \"magenta\", \"navy\", \"orange\"\n",
    "             , \"pink\", \"purple\", \"red\", \"silver\", \"white\", \"yellow\"]\n",
    "\n",
    "row = 1\n",
    "for c_format_str, c_value in zip(formats, values ):\n",
    "    c_format = workbook.add_format()\n",
    "    c_format.set_num_format(c_format_str)\n",
    "\n",
    "    worksheet.write(row, 0, c_value, c_format)\n",
    "\n",
    "    row = row + 1\n"
   ]
  },
  {
   "cell_type": "code",
   "execution_count": 20,
   "metadata": {},
   "outputs": [],
   "source": [
    "# https://xlsxwriter.readthedocs.io/working_with_colors.html#colors\n",
    "\n",
    "worksheet = workbook.add_worksheet(\"color_format\") \n",
    "\n",
    "colors = [\"black\", \"blue\", \"brown\", \"cyan\", \"gray\"\n",
    "             , \"green\", \"lime\", \"magenta\", \"navy\", \"orange\"\n",
    "             , \"pink\", \"purple\", \"red\", \"silver\", \"white\", \"yellow\"]\n",
    "\n",
    "align = re.split(\"\\s+\", \"\"\"\n",
    "left\n",
    "center\n",
    "right\n",
    "fill\n",
    "justify\n",
    "center_across\n",
    "distributed\n",
    "\"\"\".strip() )*3\n",
    "\n",
    "for row, color in enumerate(colors):\n",
    "    f_color_frmt    = workbook.add_format() ; f_color_frmt.set_fg_color( color )\n",
    "    c_color_frmt    = workbook.add_format() ; c_color_frmt.set_font_color(color)\n",
    "    font_size_frmt  = workbook.add_format() ; font_size_frmt.set_font_size(row + 5)\n",
    "    align_frmt      = workbook.add_format()  ; align_frmt.set_align( align[row] )\n",
    "\n",
    "    worksheet.write(row, 0, color          )\n",
    "    worksheet.write(row, 1, color, f_color_frmt)\n",
    "    worksheet.write(row, 2, color, c_color_frmt)\n",
    "    worksheet.write(row, 3, color, font_size_frmt )\n",
    "    worksheet.write(row, 4, color, align_frmt )\n",
    "    \n",
    "    props = {'bold': True, \"font_size\": row+5,\n",
    "              \"font_color\": color, \"fg_color\": colors[-1*row], \n",
    "              \"align\": align[row], \n",
    "            }\n",
    "    combo = workbook.add_format(props)\n",
    "    worksheet.write(row, 5, color, combo )\n"
   ]
  },
  {
   "cell_type": "code",
   "execution_count": 21,
   "metadata": {},
   "outputs": [],
   "source": [
    "workbook.close()"
   ]
  },
  {
   "cell_type": "code",
   "execution_count": null,
   "metadata": {},
   "outputs": [],
   "source": []
  },
  {
   "cell_type": "code",
   "execution_count": null,
   "metadata": {},
   "outputs": [],
   "source": []
  }
 ],
 "metadata": {
  "kernelspec": {
   "display_name": "Python 3",
   "language": "python",
   "name": "python3"
  },
  "language_info": {
   "codemirror_mode": {
    "name": "ipython",
    "version": 3
   },
   "file_extension": ".py",
   "mimetype": "text/x-python",
   "name": "python",
   "nbconvert_exporter": "python",
   "pygments_lexer": "ipython3",
   "version": "3.7.0"
  }
 },
 "nbformat": 4,
 "nbformat_minor": 2
}
