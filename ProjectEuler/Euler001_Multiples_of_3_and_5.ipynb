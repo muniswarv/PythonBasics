{
 "cells": [
  {
   "cell_type": "markdown",
   "metadata": {},
   "source": [
    "### Project Euler 01 to 05 \n",
    "https://projecteuler.net/archives\n",
    "\n",
    "Solved problems\n"
   ]
  },
  {
   "cell_type": "markdown",
   "metadata": {},
   "source": [
    "#### **Problem 1**\n",
    "\n",
    "If we list all the natural numbers below 10 that are multiples of 3 or 5, we get 3, 5, 6 and 9. The sum of these multiples is 23.\n",
    "\n",
    "Find the sum of all the multiples of 3 or 5 below 1000.\n"
   ]
  },
  {
   "cell_type": "code",
   "execution_count": 1,
   "metadata": {},
   "outputs": [],
   "source": [
    "def pr1_mutilples_of_3_and_5(n):\n",
    "    nums = [ e for e in range(n) if e%3 == 0 or e%5 == 0]\n",
    "    return sum(nums) \n",
    "\n"
   ]
  },
  {
   "cell_type": "code",
   "execution_count": 2,
   "metadata": {},
   "outputs": [
    {
     "name": "stdout",
     "output_type": "stream",
     "text": [
      "Code is correct - resulted 23 is same as extected 23\n",
      "Code is correct - resulted 14 is same as extected 14\n",
      "Code is correct - resulted 14 is same as extected 14\n",
      "Answer for n=1000 :  233168\n"
     ]
    }
   ],
   "source": [
    "def test_pr1_mutilples_of_3_and_5(n, exp):\n",
    "    result = pr1_mutilples_of_3_and_5(n)\n",
    "    if result == exp: \n",
    "        print(\"Code is correct - resulted {0} is same as extected {1}\".format( result, exp) )\n",
    "    else:\n",
    "        print(\"Code is incorrect - resulted {0} is not same as extected {1}\".format(result, exp) )\n",
    "\n",
    "test_pr1_mutilples_of_3_and_5(10, 23)\n",
    "test_pr1_mutilples_of_3_and_5(7, 14)\n",
    "test_pr1_mutilples_of_3_and_5(8, 14)\n",
    "\n",
    "print(\"Answer for n=1000 : \", pr1_mutilples_of_3_and_5(1000) )"
   ]
  }
 ],
 "metadata": {
  "kernelspec": {
   "display_name": "Python 3",
   "language": "python",
   "name": "python3"
  },
  "language_info": {
   "codemirror_mode": {
    "name": "ipython",
    "version": 3
   },
   "file_extension": ".py",
   "mimetype": "text/x-python",
   "name": "python",
   "nbconvert_exporter": "python",
   "pygments_lexer": "ipython3",
   "version": "3.6.5"
  }
 },
 "nbformat": 4,
 "nbformat_minor": 2
}
