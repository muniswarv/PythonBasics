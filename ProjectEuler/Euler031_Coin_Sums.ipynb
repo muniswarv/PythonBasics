{
 "cells": [
  {
   "cell_type": "markdown",
   "metadata": {},
   "source": [
    "Problem 31: Coin sums\n",
    "    \n",
    "\n",
    "In England the currency is made up of pound, £, and pence, p, and there are eight coins in general circulation:\n",
    "\n",
    "    1p, 2p, 5p, 10p, 20p, 50p, £1 (100p) and £2 (200p)\n",
    "\n",
    "It is possible to make £2 in the following way:\n",
    "\n",
    "    1×£1 + 1×50p + 2×20p + 1×5p + 1×2p + 3×1p\n",
    "\n",
    "How many different ways can £2 be made using any number of coins?\n"
   ]
  },
  {
   "cell_type": "code",
   "execution_count": 1,
   "metadata": {},
   "outputs": [],
   "source": [
    "def coin_combo(c_sum, denom ):\n",
    "    # print(c_sum, denom)\n",
    "    if len(denom) == 1: return [ [(denom[0], c_sum//denom[0]) ] ]\n",
    "    \n",
    "    max_demo = denom[-1]\n",
    "    n_coins = c_sum//max_demo\n",
    "    o_combo = []\n",
    "    for n in range(n_coins + 1):\n",
    "        n_sum = c_sum - n * max_demo\n",
    "        combos = coin_combo(n_sum, denom[:-1])\n",
    "        for combo in combos:\n",
    "            combo.append( (n, max_demo))\n",
    "            \n",
    "        o_combo.extend(combos)\n",
    "    \n",
    "    return o_combo\n",
    "        "
   ]
  },
  {
   "cell_type": "code",
   "execution_count": 2,
   "metadata": {},
   "outputs": [
    {
     "data": {
      "text/plain": [
       "[[(1, 5), (0, 2)], [(1, 3), (1, 2)], [(1, 1), (2, 2)]]"
      ]
     },
     "execution_count": 2,
     "metadata": {},
     "output_type": "execute_result"
    }
   ],
   "source": [
    "coin_combo(5, [1, 2])"
   ]
  },
  {
   "cell_type": "code",
   "execution_count": 3,
   "metadata": {},
   "outputs": [
    {
     "data": {
      "text/plain": [
       "[[(1, 10), (0, 2), (0, 5)],\n",
       " [(1, 8), (1, 2), (0, 5)],\n",
       " [(1, 6), (2, 2), (0, 5)],\n",
       " [(1, 4), (3, 2), (0, 5)],\n",
       " [(1, 2), (4, 2), (0, 5)],\n",
       " [(1, 0), (5, 2), (0, 5)],\n",
       " [(1, 5), (0, 2), (1, 5)],\n",
       " [(1, 3), (1, 2), (1, 5)],\n",
       " [(1, 1), (2, 2), (1, 5)],\n",
       " [(1, 0), (0, 2), (2, 5)]]"
      ]
     },
     "execution_count": 3,
     "metadata": {},
     "output_type": "execute_result"
    }
   ],
   "source": [
    "coin_combo(10, [1, 2, 5])"
   ]
  },
  {
   "cell_type": "code",
   "execution_count": 4,
   "metadata": {},
   "outputs": [
    {
     "data": {
      "text/plain": [
       "73681"
      ]
     },
     "execution_count": 4,
     "metadata": {},
     "output_type": "execute_result"
    }
   ],
   "source": [
    "denom = [1, 2, 5, 10, 20, 50, 100]\n",
    "c_sum = 200\n",
    "len( coin_combo(c_sum, denom) )"
   ]
  },
  {
   "cell_type": "code",
   "execution_count": 5,
   "metadata": {},
   "outputs": [
    {
     "name": "stdout",
     "output_type": "stream",
     "text": [
      "256 ms ± 2.17 ms per loop (mean ± std. dev. of 7 runs, 1 loop each)\n"
     ]
    }
   ],
   "source": [
    "denom = [1, 2, 5, 10, 20, 50, 100]\n",
    "c_sum = 200\n",
    "%timeit len( coin_combo(c_sum, denom) )"
   ]
  },
  {
   "cell_type": "code",
   "execution_count": 19,
   "metadata": {},
   "outputs": [],
   "source": [
    "dp_vault = [  ]\n",
    "\n",
    "from copy import deepcopy\n",
    "\n",
    "def from_dp_vault(c_sum, denom):\n",
    "    for ( v_sum, v_denom, v_combo) in dp_vault:\n",
    "        if v_sum == c_sum and v_denom == denom: return deepcopy(v_combo)\n",
    "        \n",
    "    return []\n",
    "\n",
    "def coin_combo_dp__notWroking(c_sum, denom ):\n",
    "    # print(c_sum, denom)\n",
    "    if len(denom) == 1: \n",
    "        combo = [ [(denom[0], c_sum//denom[0]) ] ]\n",
    "        global dp_vault ; # Initialize dp_vault\n",
    "        dp_vault = [ ( c_sum, denom, deepcopy(combo) ) ]\n",
    "        return combo\n",
    "    \n",
    "    v_combo = from_dp_vault(c_sum, denom)\n",
    "    if v_combo: return v_combo\n",
    "    \n",
    "    max_demo = denom[-1]\n",
    "    n_coins = c_sum//max_demo\n",
    "    o_combo = []\n",
    "    for n in range(n_coins + 1):\n",
    "        n_sum = c_sum - n * max_demo\n",
    "        combos = coin_combo_dp(n_sum, denom[:-1])\n",
    "        for combo in combos:\n",
    "            # print(combo)\n",
    "            combo.append( (n, max_demo))\n",
    "            \n",
    "        o_combo.extend(combos)\n",
    "        \n",
    "    dp_vault.append( (c_sum, denom, deepcopy(o_combo) ) ); # Update the dp_vault\n",
    "    \n",
    "    return o_combo\n",
    "        "
   ]
  },
  {
   "cell_type": "code",
   "execution_count": 20,
   "metadata": {},
   "outputs": [
    {
     "name": "stdout",
     "output_type": "stream",
     "text": [
      "[(0, [1], [[(1, 0), (0, 2), (2, 5)]]), (0, [1, 2], [[(1, 0), (0, 2), (2, 5)]]), (10, [1, 2, 5], [[(1, 10), (0, 2), (0, 5)], [(1, 8), (1, 2), (0, 5)], [(1, 6), (2, 2), (0, 5)], [(1, 4), (3, 2), (0, 5)], [(1, 2), (4, 2), (0, 5)], [(1, 0), (5, 2), (0, 5)], [(1, 5), (0, 2), (1, 5)], [(1, 3), (1, 2), (1, 5)], [(1, 1), (2, 2), (1, 5)], [(1, 0), (0, 2), (2, 5)]])]\n"
     ]
    },
    {
     "data": {
      "text/plain": [
       "[[(1, 10), (0, 2), (0, 5)], [(1, 8), (1, 2), (0, 5)], [(1, 6), (2, 2), (0, 5)], [(1, 4), (3, 2), (0, 5)], [(1, 2), (4, 2), (0, 5)], [(1, 0), (5, 2), (0, 5)], [(1, 5), (0, 2), (1, 5)], [(1, 3), (1, 2), (1, 5)], [(1, 1), (2, 2), (1, 5)], [(1, 0), (0, 2), (2, 5)]]"
      ]
     },
     "execution_count": 20,
     "metadata": {},
     "output_type": "execute_result"
    }
   ],
   "source": [
    "coin_combo_dp(10, [1, 2, 5])\n",
    "print(dp_vault)\n",
    "coin_combo_dp(10, [1, 2, 5])"
   ]
  },
  {
   "cell_type": "code",
   "execution_count": 11,
   "metadata": {},
   "outputs": [
    {
     "data": {
      "text/plain": [
       "73681"
      ]
     },
     "execution_count": 11,
     "metadata": {},
     "output_type": "execute_result"
    }
   ],
   "source": [
    "denom = [1, 2, 5, 10, 20, 50, 100]\n",
    "c_sum = 200\n",
    "len( coin_combo_dp(c_sum, denom) )"
   ]
  },
  {
   "cell_type": "code",
   "execution_count": 12,
   "metadata": {},
   "outputs": [
    {
     "name": "stdout",
     "output_type": "stream",
     "text": [
      "Normal Recursion\n",
      "257 ms ± 1.64 ms per loop (mean ± std. dev. of 7 runs, 1 loop each)\n"
     ]
    }
   ],
   "source": [
    "denom = [1, 2, 5, 10, 20, 50, 100]\n",
    "c_sum = 200\n",
    "print( \"Normal Recursion\")\n",
    "%timeit len( coin_combo(c_sum, denom) )"
   ]
  },
  {
   "cell_type": "code",
   "execution_count": 13,
   "metadata": {},
   "outputs": [
    {
     "name": "stdout",
     "output_type": "stream",
     "text": [
      "Dynamic program Recursion\n"
     ]
    },
    {
     "name": "stderr",
     "output_type": "stream",
     "text": [
      "IOPub data rate exceeded.\n",
      "The notebook server will temporarily stop sending output\n",
      "to the client in order to avoid crashing it.\n",
      "To change this limit, set the config variable\n",
      "`--NotebookApp.iopub_data_rate_limit`.\n",
      "\n",
      "Current values:\n",
      "NotebookApp.iopub_data_rate_limit=1000000.0 (bytes/sec)\n",
      "NotebookApp.rate_limit_window=3.0 (secs)\n",
      "\n"
     ]
    }
   ],
   "source": [
    "denom = [1, 2, 5, 10, 20, 50, 100]\n",
    "c_sum = 200\n",
    "print( \"Dynamic program Recursion\")\n",
    "%timeit len( coin_combo_dp(c_sum, denom) )\n",
    "print(dp_vault)"
   ]
  },
  {
   "cell_type": "code",
   "execution_count": 16,
   "metadata": {},
   "outputs": [
    {
     "name": "stdout",
     "output_type": "stream",
     "text": [
      "Pretty printing has been turned OFF\n"
     ]
    }
   ],
   "source": [
    "%pprint dp_vault"
   ]
  },
  {
   "cell_type": "code",
   "execution_count": null,
   "metadata": {},
   "outputs": [],
   "source": []
  }
 ],
 "metadata": {
  "kernelspec": {
   "display_name": "Python 3",
   "language": "python",
   "name": "python3"
  },
  "language_info": {
   "codemirror_mode": {
    "name": "ipython",
    "version": 3
   },
   "file_extension": ".py",
   "mimetype": "text/x-python",
   "name": "python",
   "nbconvert_exporter": "python",
   "pygments_lexer": "ipython3",
   "version": "3.6.5"
  }
 },
 "nbformat": 4,
 "nbformat_minor": 2
}
