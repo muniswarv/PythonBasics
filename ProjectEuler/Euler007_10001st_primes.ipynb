{
 "cells": [
  {
   "cell_type": "markdown",
   "metadata": {},
   "source": [
    "### Problem 7: \n",
    "\n",
    "\n",
    "By listing the first six prime numbers: 2, 3, 5, 7, 11, and 13, we can see that the 6th prime is 13.\n",
    "\n",
    "What is the 10,001st prime number?\n"
   ]
  },
  {
   "cell_type": "code",
   "execution_count": 2,
   "metadata": {},
   "outputs": [],
   "source": [
    "import math\n",
    "\n",
    "def getFactors(n):\n",
    "    factr_pairs = [ (e, n//e) for e in range(2, int(math.sqrt(n)) + 1  ) if n%e == 0 ]\n",
    "    factors = [1, n]\n",
    "    for e in factr_pairs: factors.extend(e)\n",
    "    return sorted(factors, key=int, reverse=True)\n",
    "        \n",
    "def isPrime(n):\n",
    "    return getFactors(n) == [ n, 1 ]\n",
    "\n",
    "def nthPrime(n):\n",
    "    \n",
    "    if n < 2  : return 2\n",
    "    elif n < 3: return 3\n",
    "    count = 2; i = 3\n",
    "    while(count < n):\n",
    "        i += 2\n",
    "        if isPrime(i): count += 1\n",
    "            \n",
    "    return i\n",
    "            \n"
   ]
  },
  {
   "cell_type": "code",
   "execution_count": 8,
   "metadata": {},
   "outputs": [
    {
     "name": "stdout",
     "output_type": "stream",
     "text": [
      "5 13 29\n",
      "Answer : 10001st prime is  104743\n",
      "1.6 s ± 42.6 ms per loop (mean ± std. dev. of 7 runs, 1 loop each)\n"
     ]
    }
   ],
   "source": [
    "print(nthPrime(3), nthPrime(6), nthPrime(10))\n",
    "print(\"Answer : 10001st prime is \", nthPrime(10001))\n",
    "\n",
    "import timeit\n",
    "\n",
    "%timeit nthPrime(10001)"
   ]
  },
  {
   "cell_type": "code",
   "execution_count": null,
   "metadata": {},
   "outputs": [],
   "source": []
  }
 ],
 "metadata": {
  "kernelspec": {
   "display_name": "Python 3",
   "language": "python",
   "name": "python3"
  },
  "language_info": {
   "codemirror_mode": {
    "name": "ipython",
    "version": 3
   },
   "file_extension": ".py",
   "mimetype": "text/x-python",
   "name": "python",
   "nbconvert_exporter": "python",
   "pygments_lexer": "ipython3",
   "version": "3.6.5"
  }
 },
 "nbformat": 4,
 "nbformat_minor": 2
}
