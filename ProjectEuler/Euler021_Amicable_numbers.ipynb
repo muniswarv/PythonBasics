{
 "cells": [
  {
   "cell_type": "markdown",
   "metadata": {},
   "source": [
    "\n",
    "### Problem 21 : Amicable numbers\n",
    "\n",
    "Let d(n) be defined as the sum of proper divisors of n (numbers less than n which divide evenly into n).\n",
    "If d(a) = b and d(b) = a, where a ≠ b, then a and b are an amicable pair and each of a and b are called amicable numbers.\n",
    "\n",
    "For example, the proper divisors of 220 are 1, 2, 4, 5, 10, 11, 20, 22, 44, 55 and 110; therefore d(220) = 284. The proper divisors of 284 are 1, 2, 4, 71 and 142; so d(284) = 220.\n",
    "\n",
    "Evaluate the sum of all the amicable numbers under 10000.\n"
   ]
  },
  {
   "cell_type": "code",
   "execution_count": 20,
   "metadata": {},
   "outputs": [],
   "source": [
    "\n",
    "def getFactors(n):\n",
    "    import math\n",
    "    factr_pairs = [ (e, n//e) for e in range(2, int(math.sqrt(n)) + 1  ) if n%e == 0 ]\n",
    "    factors = [1, n]\n",
    "    for e0, e1 in factr_pairs: \n",
    "        factors.append( e0)\n",
    "        if e0 != e1: factors.append(e1)\n",
    "        \n",
    "    return sorted(factors)\n",
    "\n",
    "def getAmicableNumber(n, show=True):\n",
    "    \"\"\"\n",
    "    return pair if amicable else return None\n",
    "    \"\"\"\n",
    "    s1 = sum( getFactors(n)[:-1] )\n",
    "    s2 = sum( getFactors(s1)[:-1] )\n",
    "    if show: print(s1, s2)\n",
    "    return (n, s1) if s2 == n and n != s1 else ()\n",
    "\n",
    "def getAmicableNumbersUnder(n, show=True):\n",
    "    nums = []\n",
    "    \n",
    "    for i in range(n):\n",
    "        if not i in nums:\n",
    "            pair = getAmicableNumber(i, show=show)\n",
    "            if pair:\n",
    "                (i, s1) =  pair\n",
    "                nums.append(i)\n",
    "                if s1 not in nums: nums.append(s1)\n",
    "                    \n",
    "    print(nums)\n",
    "    \n",
    "    return nums\n",
    "                    \n"
   ]
  },
  {
   "cell_type": "code",
   "execution_count": 21,
   "metadata": {},
   "outputs": [
    {
     "name": "stdout",
     "output_type": "stream",
     "text": [
      "284 220\n"
     ]
    },
    {
     "data": {
      "text/plain": [
       "[1, 2, 4, 5, 10, 11, 20, 22, 44, 55, 110]"
      ]
     },
     "execution_count": 21,
     "metadata": {},
     "output_type": "execute_result"
    }
   ],
   "source": [
    "getAmicableNumber(220)\n",
    "getFactors(220)[:-1]"
   ]
  },
  {
   "cell_type": "code",
   "execution_count": 25,
   "metadata": {},
   "outputs": [
    {
     "name": "stdout",
     "output_type": "stream",
     "text": [
      "4 => [1, 2]\n",
      "5 => [1]\n",
      "10 => [1, 2, 5]\n",
      "36 => [1, 2, 3, 4, 6, 9, 12, 18]\n",
      "49 => [1, 7]\n"
     ]
    }
   ],
   "source": [
    "for i in [4, 5, 10, 36, 49]: \n",
    "    print( i, \"=>\", getFactors(i)[:-1] )"
   ]
  },
  {
   "cell_type": "code",
   "execution_count": 37,
   "metadata": {},
   "outputs": [
    {
     "name": "stdout",
     "output_type": "stream",
     "text": [
      "220 => (220, 284)\n"
     ]
    }
   ],
   "source": [
    "for i in [4, 220, 80]: \n",
    "    pair = getAmicableNumber(i, show=False)\n",
    "    if pair : print( i, \"=>\", pair )"
   ]
  },
  {
   "cell_type": "code",
   "execution_count": 38,
   "metadata": {},
   "outputs": [
    {
     "name": "stdout",
     "output_type": "stream",
     "text": [
      "[]\n"
     ]
    },
    {
     "data": {
      "text/plain": [
       "[]"
      ]
     },
     "execution_count": 38,
     "metadata": {},
     "output_type": "execute_result"
    }
   ],
   "source": [
    "getAmicableNumbersUnder(100, show=False)"
   ]
  },
  {
   "cell_type": "code",
   "execution_count": 39,
   "metadata": {},
   "outputs": [
    {
     "name": "stdout",
     "output_type": "stream",
     "text": [
      "220 => (220, 284)\n",
      "284 => (284, 220)\n"
     ]
    }
   ],
   "source": [
    "for i in range(200, 300): \n",
    "    pair = getAmicableNumber(i, show=False)\n",
    "    if pair : print( i, \"=>\", pair )"
   ]
  },
  {
   "cell_type": "code",
   "execution_count": 42,
   "metadata": {},
   "outputs": [
    {
     "name": "stdout",
     "output_type": "stream",
     "text": [
      "[220, 284]\n"
     ]
    },
    {
     "data": {
      "text/plain": [
       "[220, 284]"
      ]
     },
     "execution_count": 42,
     "metadata": {},
     "output_type": "execute_result"
    }
   ],
   "source": [
    "getAmicableNumbersUnder(300, show=False)"
   ]
  },
  {
   "cell_type": "code",
   "execution_count": 46,
   "metadata": {},
   "outputs": [
    {
     "name": "stdout",
     "output_type": "stream",
     "text": [
      "[220, 284, 1184, 1210, 2620, 2924, 5020, 5564, 6232, 6368]\n"
     ]
    },
    {
     "data": {
      "text/plain": [
       "31626"
      ]
     },
     "execution_count": 46,
     "metadata": {},
     "output_type": "execute_result"
    }
   ],
   "source": [
    "sum( getAmicableNumbersUnder(10000, show=False) )"
   ]
  },
  {
   "cell_type": "code",
   "execution_count": null,
   "metadata": {},
   "outputs": [],
   "source": []
  }
 ],
 "metadata": {
  "kernelspec": {
   "display_name": "Python 3",
   "language": "python",
   "name": "python3"
  },
  "language_info": {
   "codemirror_mode": {
    "name": "ipython",
    "version": 3
   },
   "file_extension": ".py",
   "mimetype": "text/x-python",
   "name": "python",
   "nbconvert_exporter": "python",
   "pygments_lexer": "ipython3",
   "version": "3.6.5"
  }
 },
 "nbformat": 4,
 "nbformat_minor": 2
}
