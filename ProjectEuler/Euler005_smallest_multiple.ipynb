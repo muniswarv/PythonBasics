{
 "cells": [
  {
   "cell_type": "markdown",
   "metadata": {},
   "source": [
    "### Project Euler 01 to 05 \n",
    "https://projecteuler.net/archives\n",
    "\n",
    "Solved problems\n"
   ]
  },
  {
   "cell_type": "markdown",
   "metadata": {},
   "source": [
    "#### Problem 5: Smallest multiple\n",
    "\n",
    "\n",
    "2520 is the smallest number that can be divided by each of the numbers from 1 to 10 without any remainder.\n",
    "\n",
    "What is the smallest positive number that is evenly divisible by all of the numbers from 1 to 20?\n"
   ]
  },
  {
   "cell_type": "code",
   "execution_count": 1,
   "metadata": {},
   "outputs": [
    {
     "name": "stdout",
     "output_type": "stream",
     "text": [
      "Answer: Smallest Multiple of numbers till 20 =  232792560\n",
      "Answer: Smallest Multiple of numbers till 50 =  3099044504245996706400\n",
      "Answer: Smallest Multiple of numbers till 100 =  69720375229712477164533808935312303556800\n",
      "Answer: Smallest Multiple of numbers till 200 =  337293588832926264639465766794841407432394382785157234228847021917234018060677390066992000\n"
     ]
    }
   ],
   "source": [
    "import math\n",
    "def pr5_smallest_multiple_sol1(n):\n",
    "    \"\"\"\n",
    "    for 20 it takes long time\n",
    "    \"\"\"\n",
    "    out = 1\n",
    "    while(True):\n",
    "        if not [ False for i in range(1, n+1) if out%i != 0 ]: return out\n",
    "        out += 1\n",
    "        # print(out)\n",
    "        \n",
    "    return None\n",
    "\n",
    "def pr5_getFactors(n):\n",
    "    factr_pairs = [ (e, n//e) for e in range(2, int(math.sqrt(n)) + 1  ) if n%e == 0 ]\n",
    "    factors = [1, n]\n",
    "    for e in factr_pairs: factors.extend(e)\n",
    "    return sorted(factors, key=int, reverse=True)\n",
    "\n",
    "def pr5_isPrime(n):\n",
    "    return pr5_getFactors(n) == [n, 1]\n",
    "\n",
    "def pr5_smallest_multiple_primeFactor(n):\n",
    "    \"\"\"\n",
    "    for 20 it takes long time\n",
    "    \"\"\"\n",
    "    nums = []\n",
    "    allNums = list( range(2, n+1) )\n",
    "    \n",
    "    primes = [ e for e in range(2, n+1) if pr5_isPrime(e)]\n",
    "    # print(primes)\n",
    "    while( len(allNums) > 0 ):\n",
    "        # print(\"prime factors =>\", nums, \"; allNums =>\", allNums)\n",
    "        for prime in primes:\n",
    "            someDiv = [ (True, e) for e in allNums if e%prime == 0] \n",
    "            # print(someDiv)\n",
    "            if someDiv:\n",
    "                # To improve - can do better reduction operation\n",
    "                newNums = []\n",
    "                for e in allNums:\n",
    "                    newNums.append( e//prime if e%prime == 0 else e )\n",
    "                allNums = [e for e in newNums if e > 1]\n",
    "                nums.append(prime)\n",
    "                # print(\"prime factors =>\", nums, \"; allNums =>\", allNums)\n",
    "                break\n",
    "                \n",
    "    lcm = 1;\n",
    "    for e in nums: lcm *= e\n",
    "        \n",
    "    return lcm\n",
    "\n",
    "#\n",
    "pr5_smallest_multiple = pr5_smallest_multiple_primeFactor\n",
    "\n",
    "# pr5_smallest_multiple(10)\n",
    "'''\n",
    "for i in range(2, 20):\n",
    "    print( i, \"=>\",  pr5_smallest_multiple(i) )\n",
    "'''\n",
    "\n",
    "print( \"Answer: Smallest Multiple of numbers till 20 = \", pr5_smallest_multiple(20) )\n",
    "print( \"Answer: Smallest Multiple of numbers till 50 = \", pr5_smallest_multiple(50) )\n",
    "print( \"Answer: Smallest Multiple of numbers till 100 = \", pr5_smallest_multiple(100) )\n",
    "print( \"Answer: Smallest Multiple of numbers till 200 = \", pr5_smallest_multiple(200) )"
   ]
  },
  {
   "cell_type": "code",
   "execution_count": null,
   "metadata": {},
   "outputs": [],
   "source": []
  }
 ],
 "metadata": {
  "kernelspec": {
   "display_name": "Python 3",
   "language": "python",
   "name": "python3"
  },
  "language_info": {
   "codemirror_mode": {
    "name": "ipython",
    "version": 3
   },
   "file_extension": ".py",
   "mimetype": "text/x-python",
   "name": "python",
   "nbconvert_exporter": "python",
   "pygments_lexer": "ipython3",
   "version": "3.6.5"
  }
 },
 "nbformat": 4,
 "nbformat_minor": 2
}
