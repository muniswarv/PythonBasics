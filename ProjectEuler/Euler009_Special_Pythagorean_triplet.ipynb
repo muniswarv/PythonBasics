{
 "cells": [
  {
   "cell_type": "markdown",
   "metadata": {},
   "source": [
    "### Problem 8 : Special Pythagorean triplet\n",
    "\n",
    "\n",
    "A Pythagorean triplet is a set of three natural numbers, $a < b < c$, for which,\n",
    "\n",
    "$a^2 + b^2 = c^2$\n",
    "\n",
    "For example, $3^2 + 4^2 = 9 + 16 = 25 = 5^2$.\n",
    "\n",
    "There exists exactly one Pythagorean triplet for which $a + b + c = 1000$.\n",
    "Find the product abc.\n"
   ]
  },
  {
   "cell_type": "markdown",
   "metadata": {},
   "source": []
  },
  {
   "cell_type": "markdown",
   "metadata": {},
   "source": [
    "**Rule1**: $a < s / 3$, as a is the smallest\n",
    "\n",
    "**Rule2**:\n",
    "\n",
    "$2ab = s^2 - 2*s*c$\n",
    "      \n",
    "=> $(a+b)^2 = (1000 - c)^2$\n",
    "  \n",
    "=>  $a2 + 2ab + b^2 = 1000^2 - 2000c +c^2$\n",
    "  \n",
    "=> $2ab = 1000^2 - 2000c $\n",
    "      \n",
    "=> $c = ( s^2 - 2ab ) / 2 * s $\n",
    "\n"
   ]
  },
  {
   "cell_type": "code",
   "execution_count": 7,
   "metadata": {},
   "outputs": [],
   "source": [
    "def pr8_linearSearch(s):\n",
    "    # print( list(range(s//3, 1, -1)))\n",
    "    for a in range(s//3, 1, -1):\n",
    "        b = a + 1\n",
    "        # print(a, b)\n",
    "        while(True):\n",
    "           c =  s - (a + b)\n",
    "           # print(s, a, b, c)\n",
    "           \n",
    "           if (c < b): break\n",
    "           if  a**2 + b**2 == c**2: return (a*b*c, a, b, c)\n",
    "           b += 1\n",
    "            \n",
    "    return None\n",
    "\n"
   ]
  },
  {
   "cell_type": "code",
   "execution_count": 13,
   "metadata": {},
   "outputs": [],
   "source": [
    "def test_pr8_linearSearch(s):\n",
    "    \n",
    "    (prod, a, b, c) = pr8_linearSearch(s)\n",
    "    if (a**2 + b**2 == c**2 ) and (a+b+c == s):\n",
    "        print( \"PASS:\", (prod, a, b, c) )\n",
    "    else:\n",
    "        print( \"FAIL:\", (prod, a, b, c) )\n",
    "    "
   ]
  },
  {
   "cell_type": "code",
   "execution_count": 14,
   "metadata": {},
   "outputs": [
    {
     "name": "stdout",
     "output_type": "stream",
     "text": [
      "PASS: (60, 3, 4, 5)\n"
     ]
    }
   ],
   "source": [
    "test_pr8_linearSearch(12)"
   ]
  },
  {
   "cell_type": "code",
   "execution_count": 16,
   "metadata": {},
   "outputs": [
    {
     "name": "stdout",
     "output_type": "stream",
     "text": [
      "PASS: (31875000, 200, 375, 425)\n"
     ]
    }
   ],
   "source": [
    "test_pr8_linearSearch(1000)"
   ]
  },
  {
   "cell_type": "code",
   "execution_count": 21,
   "metadata": {},
   "outputs": [
    {
     "name": "stdout",
     "output_type": "stream",
     "text": [
      "7.06 µs ± 199 ns per loop (mean ± std. dev. of 7 runs, 100000 loops each)\n"
     ]
    }
   ],
   "source": [
    "%timeit pr8_linearSearch(24) "
   ]
  },
  {
   "cell_type": "code",
   "execution_count": 23,
   "metadata": {},
   "outputs": [
    {
     "name": "stdout",
     "output_type": "stream",
     "text": [
      "PASS: (480, 6, 8, 10)\n"
     ]
    }
   ],
   "source": [
    "test_pr8_linearSearch(24)"
   ]
  },
  {
   "cell_type": "code",
   "execution_count": 27,
   "metadata": {},
   "outputs": [
    {
     "name": "stdout",
     "output_type": "stream",
     "text": [
      "PASS: (31875000, 200, 375, 425)\n"
     ]
    },
    {
     "data": {
      "text/plain": [
       "425.0"
      ]
     },
     "execution_count": 27,
     "metadata": {},
     "output_type": "execute_result"
    }
   ],
   "source": [
    "test_pr8_linearSearch(1000)\n",
    "\n",
    "import math\n",
    "math.sqrt( 200**2 + 375**2)"
   ]
  }
 ],
 "metadata": {
  "kernelspec": {
   "display_name": "Python 3",
   "language": "python",
   "name": "python3"
  },
  "language_info": {
   "codemirror_mode": {
    "name": "ipython",
    "version": 3
   },
   "file_extension": ".py",
   "mimetype": "text/x-python",
   "name": "python",
   "nbconvert_exporter": "python",
   "pygments_lexer": "ipython3",
   "version": "3.6.5"
  }
 },
 "nbformat": 4,
 "nbformat_minor": 2
}
