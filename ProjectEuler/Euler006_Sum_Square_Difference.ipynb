{
 "cells": [
  {
   "cell_type": "markdown",
   "metadata": {},
   "source": [
    "### Project Euler 05 to 06 \n",
    "https://projecteuler.net/archives\n",
    "\n",
    "Solved problems"
   ]
  },
  {
   "cell_type": "markdown",
   "metadata": {},
   "source": [
    "#### Problem 6: Sum square difference\n",
    "\n",
    "\n",
    "The sum of the squares of the first ten natural numbers is,\n",
    "\\exp{1,2} + \\exp(2,2) + ... + 10**2 = 385\n",
    "\n",
    "The square of the sum of the first ten natural numbers is,\n",
    "(1 + 2 + ... + 10)2 = 552 = 3025\n",
    "\n",
    "Hence the difference between the sum of the squares of the first ten natural numbers and the square of the sum is 3025 − 385 = 2640.\n",
    "\n",
    "Find the difference between the sum of the squares of the first one hundred natural numbers and the square of the sum.\n"
   ]
  },
  {
   "cell_type": "code",
   "execution_count": 7,
   "metadata": {},
   "outputs": [
    {
     "name": "stdout",
     "output_type": "stream",
     "text": [
      "Answer: 4 => (70, 30, 10)\n",
      "Answer: 10 => (2640, 385, 55)\n",
      "Answer: 100 => (25164150, 338350, 5050)\n"
     ]
    }
   ],
   "source": [
    "def pr6_sum_squar_dif_1(n):\n",
    "    s_squa = sum( [ e*e for e in range(1,n+1) ] ) \n",
    "    s_num  = sum( range(1,n+1) )\n",
    "    \n",
    "    return (s_num*s_num - s_squa, s_squa, s_num)\n",
    "\n",
    "print( \"Answer: 4 =>\", pr6_sum_squar_dif(4) )\n",
    "print( \"Answer: 10 =>\", pr6_sum_squar_dif(10) )\n",
    "print( \"Answer: 100 =>\", pr6_sum_squar_dif(100) )\n"
   ]
  },
  {
   "cell_type": "code",
   "execution_count": null,
   "metadata": {},
   "outputs": [],
   "source": []
  }
 ],
 "metadata": {
  "kernelspec": {
   "display_name": "Python 3",
   "language": "python",
   "name": "python3"
  },
  "language_info": {
   "codemirror_mode": {
    "name": "ipython",
    "version": 3
   },
   "file_extension": ".py",
   "mimetype": "text/x-python",
   "name": "python",
   "nbconvert_exporter": "python",
   "pygments_lexer": "ipython3",
   "version": "3.6.5"
  }
 },
 "nbformat": 4,
 "nbformat_minor": 2
}
