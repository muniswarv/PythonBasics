{
 "cells": [
  {
   "cell_type": "markdown",
   "metadata": {},
   "source": [
    "### Project Euler 01 to 05 \n",
    "https://projecteuler.net/archives\n",
    "\n",
    "Solved problems\n"
   ]
  },
  {
   "cell_type": "markdown",
   "metadata": {},
   "source": [
    "#### **Problem 1**\n",
    "\n",
    "If we list all the natural numbers below 10 that are multiples of 3 or 5, we get 3, 5, 6 and 9. The sum of these multiples is 23.\n",
    "\n",
    "Find the sum of all the multiples of 3 or 5 below 1000.\n"
   ]
  },
  {
   "cell_type": "code",
   "execution_count": 1,
   "metadata": {},
   "outputs": [
    {
     "name": "stdout",
     "output_type": "stream",
     "text": [
      "Code is correct - resulted 23 is same as extected 23\n",
      "Code is correct - resulted 14 is same as extected 14\n",
      "Code is correct - resulted 14 is same as extected 14\n",
      "Answer for n=1000 :  233168\n"
     ]
    }
   ],
   "source": [
    "def pr1_mutilples_of_3_and_5(n):\n",
    "    nums = [ e for e in range(n) if e%3 == 0 or e%5 == 0]\n",
    "    return sum(nums) \n",
    "\n",
    "def test_pr1_mutilples_of_3_and_5(n, exp):\n",
    "    result = pr1_mutilples_of_3_and_5(n)\n",
    "    if result == exp: \n",
    "        print(\"Code is correct - resulted {0} is same as extected {1}\".format( result, exp) )\n",
    "    else:\n",
    "        print(\"Code is incorrect - resulted {0} is not same as extected {1}\".format(result, exp) )\n",
    "\n",
    "test_pr1_mutilples_of_3_and_5(10, 23)\n",
    "test_pr1_mutilples_of_3_and_5(7, 14)\n",
    "test_pr1_mutilples_of_3_and_5(8, 14)\n",
    "\n",
    "print(\"Answer for n=1000 : \", pr1_mutilples_of_3_and_5(1000) )"
   ]
  },
  {
   "cell_type": "markdown",
   "metadata": {},
   "source": [
    "**Problem 3**\n",
    "\n",
    "The prime factors of 13195 are 5, 7, 13 and 29.\n",
    "What is the largest prime factor of the number 600851475143 ?\n"
   ]
  },
  {
   "cell_type": "code",
   "execution_count": 2,
   "metadata": {},
   "outputs": [
    {
     "name": "stdout",
     "output_type": "stream",
     "text": [
      "[9, 3, 3, 1]\n",
      "PASS: 29 is largest prime factor of 13195\n",
      "PASS: 3 is largest prime factor of 9\n",
      "PASS: 7 is largest prime factor of 21\n",
      "#-=-=-=-=-=-=-=-=-=-=-=-=-=-=-=-=-=-=-=-=-=-=-=-=-=-=-=-=-=-=-=-=-=-=-=-=-=-=-=-=\n",
      "Answer : Larger prime factor of 600851475143 is  6857\n"
     ]
    }
   ],
   "source": [
    "# First Solution\n",
    "import math\n",
    "\n",
    "def pr3_getFactors(n):\n",
    "    factr_pairs = [ (e, n//e) for e in range(2, int(math.sqrt(n)) + 1  ) if n%e == 0 ]\n",
    "    factors = [1, n]\n",
    "    for e in factr_pairs: factors.extend(e)\n",
    "    return sorted(factors, key=int, reverse=True)\n",
    "        \n",
    "def pr3_isPrime(n):\n",
    "    return pr3_getFactors(n) == [ n, 1 ]\n",
    "\n",
    "def pr3_LargestPrimeFactors(n):\n",
    "    for e in pr3_getFactors(n):\n",
    "        # print(e)\n",
    "        if pr3_isPrime(e): return e\n",
    "        \n",
    "    return 1\n",
    "\n",
    "def test_pr3_LargestPrimeFactors(n, exp):\n",
    "     resulted = pr3_LargestPrimeFactors(n)\n",
    "     if  resulted  == exp: \n",
    "        print(\"PASS: {0} is largest prime factor of {1}\".format(resulted, n))\n",
    "     else:\n",
    "        print(\"FAIL: {0} is not largest prime factor of {1}. correct is {2} \".format(resulted, n, exp))\n",
    "\n",
    "print( pr3_getFactors(9))\n",
    "test_pr3_LargestPrimeFactors(13195, 29)\n",
    "test_pr3_LargestPrimeFactors(9, 3)\n",
    "test_pr3_LargestPrimeFactors(21, 7)\n",
    "\n",
    "print(\"#\"+\"-=\"*40)\n",
    "print(\"Answer : Larger prime factor of 600851475143 is \", pr3_LargestPrimeFactors(600851475143) )"
   ]
  },
  {
   "cell_type": "markdown",
   "metadata": {},
   "source": [
    "#### Problem: 4 - Largest palindrome product\n",
    "\n",
    "A palindromic number reads the same both ways. The largest palindrome made from the product of two 2-digit numbers is 9009 = 91 × 99.\n",
    "\n",
    "Find the largest palindrome made from the product of two 3-digit numbers.\n"
   ]
  },
  {
   "cell_type": "code",
   "execution_count": 3,
   "metadata": {},
   "outputs": [
    {
     "name": "stdout",
     "output_type": "stream",
     "text": [
      "PASS: largest Palindrom Product 9009 == 9009 for input 2, nums = (99, 91)\n",
      "\n",
      "#-=-=-=-=-=-=-=-=-=-=-=-=-=-=-=-=-=-=-=-=-=-=-=-=-=-=-=-=-=-=-=-=-=-=-=-=-=-=-=-=\n",
      "Answer : Larger Palendrom product of 3 digit numbers is (906609, (993, 913))\n",
      "Answer : Larger Palendrom product of 4 digit numbers is (99000099, (9999, 9901))\n"
     ]
    }
   ],
   "source": [
    "\n",
    "def pr4_isPalindrome(n):\n",
    "    return str(n) == str(n)[::-1]\n",
    "\n",
    "def pr4_largestPalindromProduct_wrong(n):\n",
    "    \"\"\"\n",
    "    Assumes n > 0; number of digits should be greater than zero\n",
    "    \"\"\"\n",
    "    nums = list( range(10**n-1, 10**(n-1)-1, -1) )\n",
    "    # print( list(nums) )\n",
    "    for e1 in nums:\n",
    "        for e2 in nums:\n",
    "            # print(e1, e2)\n",
    "            if pr4_isPalindrome(e1 * e2): return (e1*e2, (e1, e2) )\n",
    "        \n",
    "    \n",
    "    return None\n",
    "    # for e1, e2 in [ (e1, e2) [ [ for e1 in nums ]   ]\n",
    "    \n",
    "\n",
    "#-=-=-=-=-=-=-=-=-=-=-=-=-=-=-=-=-=-=-=-=-=-=-=-=-=-=-=-=-=-=-=-=-=-=-=-=-=-=-=-=\n",
    "# Simple broken down\n",
    "#-=-=-=-=-=-=-=-=-=-=-=-=-=-=-=-=-=-=-=-=-=-=-=-=-=-=-=-=-=-=-=-=-=-=-=-=-=-=-=-=\n",
    "\n",
    "def pr4_largestPalindromProduct_sol1(n):\n",
    "    \"\"\"\n",
    "    Assumes n > 0; number of digits should be greater than zero\n",
    "    \"\"\"\n",
    "    nums = list( range(10**n-1, 10**(n-1)-1, -1) )\n",
    "    # print( list(nums) )\n",
    "    pallendroms = [ (e1*e2, (e1, e2)) for e1 in nums for e2 in nums if pr4_isPalindrome(e1 * e2)]\n",
    "   \n",
    "    return max( pallendroms )\n",
    "        \n",
    "#-=-=-=-=-=-=-=-=-=-=-=-=-=-=-=-=-=-=-=-=-=-=-=-=-=-=-=-=-=-=-=-=-=-=-=-=-=-=-=-=\n",
    "# Short form solution\n",
    "#-=-=-=-=-=-=-=-=-=-=-=-=-=-=-=-=-=-=-=-=-=-=-=-=-=-=-=-=-=-=-=-=-=-=-=-=-=-=-=-=\n",
    "from itertools import product\n",
    "def pr4_largestPalindromProduct_sol2(n):\n",
    "    nums = range(10**n, 10**(n-1)-1, -1)\n",
    "    pallendroms = [ (e1*e2, (e1, e2) ) for e1, e2 in product( nums, nums ) if str(e1*e2) == str(e1*e2)[::-1] ]\n",
    "    return max( pallendroms )\n",
    "\n",
    "#-=-=-=-=-=-=-=-=-=-=-=-=-=-=-=-=-=-=-=-=-=-=-=-=-=-=-=-=-=-=-=-=-=-=-=-=-=-=-=-=\n",
    "# Map and check\n",
    "# Prefer sol1 than sol2: \n",
    "# Sol1 is more Readbility, has extra function call\n",
    "# Sol2 is faster lesser function call at sacrifice of readability\n",
    "#-=-=-=-=-=-=-=-=-=-=-=-=-=-=-=-=-=-=-=-=-=-=-=-=-=-=-=-=-=-=-=-=-=-=-=-=-=-=-=-=\n",
    "pr4_largestPalindromProduct = pr4_largestPalindromProduct_sol1 ; \n",
    "# pr4_largestPalindromProduct = pr4_largestPalindromProduct_sol2\n",
    "\n",
    "def test_pr4_largestPalindromProduct(n, exp):\n",
    "     (resulted, nums) = pr4_largestPalindromProduct(n)\n",
    "     if  resulted  == exp: \n",
    "        print(\"PASS: largest Palindrom Product {0} == {1} for input {2}, nums = {3}\".format(resulted, exp, n, nums))\n",
    "     else:\n",
    "        print(\"FAIL: largest Palindrom Product {0} != {1} for input {2}, nums = {3}\".format(resulted, exp, n, nums))\n",
    "        \n",
    "\n",
    "test_pr4_largestPalindromProduct(2, 9009)\n",
    "# test_pr4_largestPalindromProduct(1, 9)        \n",
    "# test_pr4_largestPalindromProduct(0, 1); # Gives an error\n",
    "\n",
    "print(\"\\n#\"+\"-=\"*40)\n",
    "print(\"Answer : Larger Palendrom product of 3 digit numbers is\", pr4_largestPalindromProduct(3) )\n",
    "print(\"Answer : Larger Palendrom product of 4 digit numbers is\", pr4_largestPalindromProduct(4) )\n"
   ]
  },
  {
   "cell_type": "markdown",
   "metadata": {},
   "source": [
    "#### Problem 5: Smallest multiple\n",
    "\n",
    "\n",
    "2520 is the smallest number that can be divided by each of the numbers from 1 to 10 without any remainder.\n",
    "\n",
    "What is the smallest positive number that is evenly divisible by all of the numbers from 1 to 20?\n"
   ]
  },
  {
   "cell_type": "code",
   "execution_count": 56,
   "metadata": {},
   "outputs": [
    {
     "name": "stdout",
     "output_type": "stream",
     "text": [
      "Answer: Smallest Multiple of numbers till 20 =  232792560\n",
      "Answer: Smallest Multiple of numbers till 50 =  3099044504245996706400\n",
      "Answer: Smallest Multiple of numbers till 100 =  69720375229712477164533808935312303556800\n",
      "Answer: Smallest Multiple of numbers till 200 =  337293588832926264639465766794841407432394382785157234228847021917234018060677390066992000\n"
     ]
    }
   ],
   "source": [
    "def pr5_smallest_multiple_sol1(n):\n",
    "    \"\"\"\n",
    "    for 20 it takes long time\n",
    "    \"\"\"\n",
    "    out = 1\n",
    "    while(True):\n",
    "        if not [ False for i in range(1, n+1) if out%i != 0 ]: return out\n",
    "        out += 1\n",
    "        # print(out)\n",
    "        \n",
    "    return None\n",
    "\n",
    "def pr5_getFactors(n):\n",
    "    factr_pairs = [ (e, n//e) for e in range(2, int(math.sqrt(n)) + 1  ) if n%e == 0 ]\n",
    "    factors = [1, n]\n",
    "    for e in factr_pairs: factors.extend(e)\n",
    "    return sorted(factors, key=int, reverse=True)\n",
    "\n",
    "def pr5_isPrime(n):\n",
    "    return pr5_getFactors(n) == [n, 1]\n",
    "\n",
    "def pr5_smallest_multiple_primeFactor(n):\n",
    "    \"\"\"\n",
    "    for 20 it takes long time\n",
    "    \"\"\"\n",
    "    nums = []\n",
    "    allNums = list( range(2, n+1) )\n",
    "    \n",
    "    primes = [ e for e in range(2, n+1) if pr5_isPrime(e)]\n",
    "    # print(primes)\n",
    "    while( len(allNums) > 0 ):\n",
    "        # print(\"prime factors =>\", nums, \"; allNums =>\", allNums)\n",
    "        for prime in primes:\n",
    "            someDiv = [ (True, e) for e in allNums if e%prime == 0] \n",
    "            # print(someDiv)\n",
    "            if someDiv:\n",
    "                # To improve - can do better reduction operation\n",
    "                newNums = []\n",
    "                for e in allNums:\n",
    "                    newNums.append( e//prime if e%prime == 0 else e )\n",
    "                allNums = [e for e in newNums if e > 1]\n",
    "                nums.append(prime)\n",
    "                # print(\"prime factors =>\", nums, \"; allNums =>\", allNums)\n",
    "                break\n",
    "                \n",
    "    lcm = 1;\n",
    "    for e in nums: lcm *= e\n",
    "        \n",
    "    return lcm\n",
    "\n",
    "#\n",
    "pr5_smallest_multiple = pr5_smallest_multiple_primeFactor\n",
    "\n",
    "# pr5_smallest_multiple(10)\n",
    "'''\n",
    "for i in range(2, 20):\n",
    "    print( i, \"=>\",  pr5_smallest_multiple(i) )\n",
    "'''\n",
    "\n",
    "print( \"Answer: Smallest Multiple of numbers till 20 = \", pr5_smallest_multiple(20) )\n",
    "print( \"Answer: Smallest Multiple of numbers till 50 = \", pr5_smallest_multiple(50) )\n",
    "print( \"Answer: Smallest Multiple of numbers till 100 = \", pr5_smallest_multiple(100) )\n",
    "print( \"Answer: Smallest Multiple of numbers till 200 = \", pr5_smallest_multiple(200) )"
   ]
  },
  {
   "cell_type": "code",
   "execution_count": null,
   "metadata": {},
   "outputs": [],
   "source": []
  }
 ],
 "metadata": {
  "kernelspec": {
   "display_name": "Python 3",
   "language": "python",
   "name": "python3"
  },
  "language_info": {
   "codemirror_mode": {
    "name": "ipython",
    "version": 3
   },
   "file_extension": ".py",
   "mimetype": "text/x-python",
   "name": "python",
   "nbconvert_exporter": "python",
   "pygments_lexer": "ipython3",
   "version": "3.6.5"
  }
 },
 "nbformat": 4,
 "nbformat_minor": 2
}
