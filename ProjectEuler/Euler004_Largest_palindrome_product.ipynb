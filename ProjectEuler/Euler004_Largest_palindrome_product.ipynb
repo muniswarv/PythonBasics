{
 "cells": [
  {
   "cell_type": "markdown",
   "metadata": {},
   "source": [
    "### Project Euler 01 to 05 \n",
    "https://projecteuler.net/archives\n",
    "\n",
    "Solved problems\n"
   ]
  },
  {
   "cell_type": "markdown",
   "metadata": {},
   "source": [
    "#### Problem: 4 - Largest palindrome product\n",
    "\n",
    "A palindromic number reads the same both ways. The largest palindrome made from the product of two 2-digit numbers is 9009 = 91 × 99.\n",
    "\n",
    "Find the largest palindrome made from the product of two 3-digit numbers.\n"
   ]
  },
  {
   "cell_type": "code",
   "execution_count": 3,
   "metadata": {},
   "outputs": [
    {
     "name": "stdout",
     "output_type": "stream",
     "text": [
      "PASS: largest Palindrom Product 9009 == 9009 for input 2, nums = (99, 91)\n",
      "\n",
      "#-=-=-=-=-=-=-=-=-=-=-=-=-=-=-=-=-=-=-=-=-=-=-=-=-=-=-=-=-=-=-=-=-=-=-=-=-=-=-=-=\n",
      "Answer : Larger Palendrom product of 3 digit numbers is (906609, (993, 913))\n",
      "Answer : Larger Palendrom product of 4 digit numbers is (99000099, (9999, 9901))\n"
     ]
    }
   ],
   "source": [
    "\n",
    "def pr4_isPalindrome(n):\n",
    "    return str(n) == str(n)[::-1]\n",
    "\n",
    "def pr4_largestPalindromProduct_wrong(n):\n",
    "    \"\"\"\n",
    "    Assumes n > 0; number of digits should be greater than zero\n",
    "    \"\"\"\n",
    "    nums = list( range(10**n-1, 10**(n-1)-1, -1) )\n",
    "    # print( list(nums) )\n",
    "    for e1 in nums:\n",
    "        for e2 in nums:\n",
    "            # print(e1, e2)\n",
    "            if pr4_isPalindrome(e1 * e2): return (e1*e2, (e1, e2) )\n",
    "        \n",
    "    \n",
    "    return None\n",
    "    # for e1, e2 in [ (e1, e2) [ [ for e1 in nums ]   ]\n",
    "    \n",
    "\n",
    "#-=-=-=-=-=-=-=-=-=-=-=-=-=-=-=-=-=-=-=-=-=-=-=-=-=-=-=-=-=-=-=-=-=-=-=-=-=-=-=-=\n",
    "# Simple broken down\n",
    "#-=-=-=-=-=-=-=-=-=-=-=-=-=-=-=-=-=-=-=-=-=-=-=-=-=-=-=-=-=-=-=-=-=-=-=-=-=-=-=-=\n",
    "\n",
    "def pr4_largestPalindromProduct_sol1(n):\n",
    "    \"\"\"\n",
    "    Assumes n > 0; number of digits should be greater than zero\n",
    "    \"\"\"\n",
    "    nums = list( range(10**n-1, 10**(n-1)-1, -1) )\n",
    "    # print( list(nums) )\n",
    "    pallendroms = [ (e1*e2, (e1, e2)) for e1 in nums for e2 in nums if pr4_isPalindrome(e1 * e2)]\n",
    "   \n",
    "    return max( pallendroms )\n",
    "        \n",
    "#-=-=-=-=-=-=-=-=-=-=-=-=-=-=-=-=-=-=-=-=-=-=-=-=-=-=-=-=-=-=-=-=-=-=-=-=-=-=-=-=\n",
    "# Short form solution\n",
    "#-=-=-=-=-=-=-=-=-=-=-=-=-=-=-=-=-=-=-=-=-=-=-=-=-=-=-=-=-=-=-=-=-=-=-=-=-=-=-=-=\n",
    "from itertools import product\n",
    "def pr4_largestPalindromProduct_sol2(n):\n",
    "    nums = range(10**n, 10**(n-1)-1, -1)\n",
    "    pallendroms = [ (e1*e2, (e1, e2) ) for e1, e2 in product( nums, nums ) if str(e1*e2) == str(e1*e2)[::-1] ]\n",
    "    return max( pallendroms )\n",
    "\n",
    "#-=-=-=-=-=-=-=-=-=-=-=-=-=-=-=-=-=-=-=-=-=-=-=-=-=-=-=-=-=-=-=-=-=-=-=-=-=-=-=-=\n",
    "# Map and check\n",
    "# Prefer sol1 than sol2: \n",
    "# Sol1 is more Readbility, has extra function call\n",
    "# Sol2 is faster lesser function call at sacrifice of readability\n",
    "#-=-=-=-=-=-=-=-=-=-=-=-=-=-=-=-=-=-=-=-=-=-=-=-=-=-=-=-=-=-=-=-=-=-=-=-=-=-=-=-=\n",
    "pr4_largestPalindromProduct = pr4_largestPalindromProduct_sol1 ; \n",
    "# pr4_largestPalindromProduct = pr4_largestPalindromProduct_sol2\n",
    "\n",
    "def test_pr4_largestPalindromProduct(n, exp):\n",
    "     (resulted, nums) = pr4_largestPalindromProduct(n)\n",
    "     if  resulted  == exp: \n",
    "        print(\"PASS: largest Palindrom Product {0} == {1} for input {2}, nums = {3}\".format(resulted, exp, n, nums))\n",
    "     else:\n",
    "        print(\"FAIL: largest Palindrom Product {0} != {1} for input {2}, nums = {3}\".format(resulted, exp, n, nums))\n",
    "        \n",
    "\n",
    "test_pr4_largestPalindromProduct(2, 9009)\n",
    "# test_pr4_largestPalindromProduct(1, 9)        \n",
    "# test_pr4_largestPalindromProduct(0, 1); # Gives an error\n",
    "\n",
    "print(\"\\n#\"+\"-=\"*40)\n",
    "print(\"Answer : Larger Palendrom product of 3 digit numbers is\", pr4_largestPalindromProduct(3) )\n",
    "print(\"Answer : Larger Palendrom product of 4 digit numbers is\", pr4_largestPalindromProduct(4) )\n"
   ]
  },
  {
   "cell_type": "code",
   "execution_count": null,
   "metadata": {},
   "outputs": [],
   "source": []
  }
 ],
 "metadata": {
  "kernelspec": {
   "display_name": "Python 3",
   "language": "python",
   "name": "python3"
  },
  "language_info": {
   "codemirror_mode": {
    "name": "ipython",
    "version": 3
   },
   "file_extension": ".py",
   "mimetype": "text/x-python",
   "name": "python",
   "nbconvert_exporter": "python",
   "pygments_lexer": "ipython3",
   "version": "3.6.5"
  }
 },
 "nbformat": 4,
 "nbformat_minor": 2
}
