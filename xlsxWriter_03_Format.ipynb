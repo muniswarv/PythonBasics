{
 "cells": [
  {
   "cell_type": "code",
   "execution_count": null,
   "metadata": {},
   "outputs": [],
   "source": [
    "# Some data we want to write to the worksheet.\n",
    "billBook = (\n",
    "    ['Rent', 1000, 0.10, 2.5],\n",
    "    ['Gas',   100, 0.11, 3.6],\n",
    "    ['Food',  300, 0.12, 4.7],\n",
    "    ['Gym',    50, 0.13, 5.8],\n",
    ")\n",
    "# Start from the first cell. Rows and columns are zero indexed.\n",
    "row = 0\n",
    "col = 0\n",
    "\n",
    "# Iterate over the data and write it out row by row.\n",
    "for item, cost, gst, discount in billBook:\n",
    "    worksheet.write(row, col,     item)\n",
    "    worksheet.write(row, col + 1, cost)\n",
    "    worksheet.write(row, col + 2, gst)\n",
    "    worksheet.write(row, col + 3, discount)\n",
    "\n",
    "    row += 1\n",
    "#worksheet.close()"
   ]
  }
 ],
 "metadata": {
  "kernelspec": {
   "display_name": "Python 3",
   "language": "python",
   "name": "python3"
  },
  "language_info": {
   "codemirror_mode": {
    "name": "ipython",
    "version": 3
   },
   "file_extension": ".py",
   "mimetype": "text/x-python",
   "name": "python",
   "nbconvert_exporter": "python",
   "pygments_lexer": "ipython3",
   "version": "3.7.0"
  }
 },
 "nbformat": 4,
 "nbformat_minor": 2
}
