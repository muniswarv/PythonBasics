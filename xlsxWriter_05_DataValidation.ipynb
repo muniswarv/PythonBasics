{
 "cells": [
  {
   "cell_type": "markdown",
   "metadata": {},
   "source": [
    "\n",
    "* https://xlsxwriter.readthedocs.io/example_data_validate.html\n",
    "    "
   ]
  },
  {
   "cell_type": "code",
   "execution_count": 1,
   "metadata": {},
   "outputs": [
    {
     "data": {
      "text/plain": [
       "0"
      ]
     },
     "execution_count": 1,
     "metadata": {},
     "output_type": "execute_result"
    }
   ],
   "source": [
    "###############################################################################\n",
    "#\n",
    "# Example of how to add data validation and dropdown lists to an\n",
    "# XlsxWriter file.\n",
    "#\n",
    "# Data validation is a feature of Excel which allows you to restrict\n",
    "# the data that a user enters in a cell and to display help and\n",
    "# warning messages. It also allows you to restrict input to values in\n",
    "# a drop down list.\n",
    "#\n",
    "# Copyright 2013-2018, John McNamara, jmcnamara@cpan.org\n",
    "#\n",
    "from datetime import date, time\n",
    "import xlsxwriter\n",
    "\n",
    "workbook = xlsxwriter.Workbook('xlsxWritter_05_data_validate.xlsx')\n",
    "worksheet = workbook.add_worksheet()\n",
    "\n",
    "# Add a format for the header cells.\n",
    "header_format = workbook.add_format({\n",
    "    'border': 1,\n",
    "    'bg_color': '#C6EFCE',\n",
    "    'bold': True,\n",
    "    'text_wrap': True,\n",
    "    'valign': 'vcenter',\n",
    "    'indent': 1,\n",
    "})\n",
    "\n",
    "# Set up layout of the worksheet.\n",
    "worksheet.set_column('A:A', 68)\n",
    "worksheet.set_column('B:B', 15)\n",
    "worksheet.set_column('D:D', 15)\n",
    "worksheet.set_row(0, 36)\n",
    "\n",
    "# Write the header cells and some data that will be used in the examples.\n",
    "heading1 = 'Some examples of data validation in XlsxWriter'\n",
    "heading2 = 'Enter values in this column'\n",
    "heading3 = 'Sample Data'\n",
    "\n",
    "worksheet.write('A1', heading1, header_format)\n",
    "worksheet.write('B1', heading2, header_format)\n",
    "worksheet.write('D1', heading3, header_format)\n",
    "\n",
    "worksheet.write_row('D3', ['Integers', 1, 10])\n",
    "worksheet.write_row('D4', ['List data', 'open', 'high', 'close'])\n",
    "worksheet.write_row('D5', ['Formula', '=AND(F5=50,G5=60)', 50, 60])\n",
    "\n",
    "\n"
   ]
  },
  {
   "cell_type": "code",
   "execution_count": 2,
   "metadata": {},
   "outputs": [],
   "source": [
    "# Example 1. Limiting input to an integer in a fixed range.\n",
    "#\n",
    "txt = 'Enter an integer between 1 and 10'\n",
    "\n",
    "worksheet.write('A3', txt)\n",
    "worksheet.data_validation('B3', {'validate': 'integer',\n",
    "                                 'criteria': 'between',\n",
    "                                 'minimum': 1,\n",
    "                                 'maximum': 10})\n"
   ]
  },
  {
   "cell_type": "code",
   "execution_count": 3,
   "metadata": {},
   "outputs": [],
   "source": [
    "# Example 2. Limiting input to an integer outside a fixed range.\n",
    "#\n",
    "txt = 'Enter an integer that is not between 1 and 10 (using cell references)'\n",
    "\n",
    "\n",
    "worksheet.write('A5', txt)\n",
    "worksheet.data_validation('B5', {'validate': 'integer',\n",
    "                                 'criteria': 'not between',\n",
    "                                 'minimum': '=E3',\n",
    "                                 'maximum': '=F3'})\n",
    "\n",
    "\n"
   ]
  },
  {
   "cell_type": "code",
   "execution_count": 4,
   "metadata": {},
   "outputs": [],
   "source": [
    "# Example 3. Limiting input to an integer greater than a fixed value.\n",
    "#\n",
    "txt = 'Enter an integer greater than 0'\n",
    "\n",
    "worksheet.write('A7', txt)\n",
    "worksheet.data_validation('B7', {'validate': 'integer',\n",
    "                                 'criteria': '>',\n",
    "                                 'value': 0})\n",
    "\n"
   ]
  },
  {
   "cell_type": "code",
   "execution_count": 5,
   "metadata": {},
   "outputs": [],
   "source": [
    "\n",
    "# Example 4. Limiting input to an integer less than a fixed value.\n",
    "#\n",
    "txt = 'Enter an integer less than 10'\n",
    "\n",
    "worksheet.write('A9', txt)\n",
    "worksheet.data_validation('B9', {'validate': 'integer',\n",
    "                                 'criteria': '<',\n",
    "                                 'value': 10})\n",
    "\n"
   ]
  },
  {
   "cell_type": "code",
   "execution_count": 6,
   "metadata": {},
   "outputs": [],
   "source": [
    "\n",
    "# Example 5. Limiting input to a decimal in a fixed range.\n",
    "#\n",
    "txt = 'Enter a decimal between 0.1 and 0.5'\n",
    "\n",
    "worksheet.write('A11', txt)\n",
    "worksheet.data_validation('B11', {'validate': 'decimal',\n",
    "                                  'criteria': 'between',\n",
    "                                  'minimum': 0.1,\n",
    "                                  'maximum': 0.5})\n"
   ]
  },
  {
   "cell_type": "code",
   "execution_count": 7,
   "metadata": {},
   "outputs": [],
   "source": [
    "\n",
    "# Example 6. Limiting input to a value in a dropdown list.\n",
    "#\n",
    "txt = 'Select a value from a drop down list'\n",
    "\n",
    "worksheet.write('A13', txt)\n",
    "worksheet.data_validation('B13', {'validate': 'list',\n",
    "                                  'source': ['open', 'high', 'close']})\n",
    "\n",
    "\n",
    "# Example 7. Limiting input to a value in a dropdown list.\n",
    "#\n",
    "txt = 'Select a value from a drop down list (using a cell range)'\n",
    "\n",
    "worksheet.write('A15', txt)\n",
    "worksheet.data_validation('B15', {'validate': 'list',\n",
    "                                  'source': '=$E$4:$G$4'})\n",
    "\n",
    "\n"
   ]
  },
  {
   "cell_type": "code",
   "execution_count": 8,
   "metadata": {},
   "outputs": [],
   "source": [
    "# Example 8. Limiting input to a date in a fixed range.\n",
    "#\n",
    "txt = 'Enter a date between 1/1/2008 and 12/12/2008'\n",
    "\n",
    "worksheet.write('A17', txt)\n",
    "worksheet.data_validation('B17', {'validate': 'date',\n",
    "                                  'criteria': 'between',\n",
    "                                  'minimum': date(2013, 1, 1),\n",
    "                                  'maximum': date(2013, 12, 12)})\n"
   ]
  },
  {
   "cell_type": "code",
   "execution_count": 9,
   "metadata": {},
   "outputs": [],
   "source": [
    "# Example 9. Limiting input to a time in a fixed range.\n",
    "#\n",
    "txt = 'Enter a time between 6:00 and 12:00'\n",
    "\n",
    "worksheet.write('A19', txt)\n",
    "worksheet.data_validation('B19', {'validate': 'time',\n",
    "                                  'criteria': 'between',\n",
    "                                  'minimum': time(6, 0),\n",
    "                                  'maximum': time(12, 0)})"
   ]
  },
  {
   "cell_type": "code",
   "execution_count": 10,
   "metadata": {},
   "outputs": [],
   "source": [
    "# Example 10. Limiting input to a string greater than a fixed length.\n",
    "#\n",
    "txt = 'Enter a string longer than 3 characters'\n",
    "\n",
    "worksheet.write('A21', txt)\n",
    "worksheet.data_validation('B21', {'validate': 'length',\n",
    "                                  'criteria': '>',\n",
    "                                  'value': 3})\n",
    "\n"
   ]
  },
  {
   "cell_type": "code",
   "execution_count": 11,
   "metadata": {},
   "outputs": [],
   "source": [
    "\n",
    "# Example 11. Limiting input based on a formula.\n",
    "#\n",
    "txt = 'Enter a value if the following is true \"=AND(F5=50,G5=60)\"'\n",
    "\n",
    "worksheet.write('A23', txt)\n",
    "worksheet.data_validation('B23', {'validate': 'custom',\n",
    "                                  'value': '=AND(F5=50,G5=60)'})\n",
    "\n"
   ]
  },
  {
   "cell_type": "code",
   "execution_count": 12,
   "metadata": {},
   "outputs": [],
   "source": [
    "\n",
    "# Example 12. Displaying and modifying data validation messages.\n",
    "#\n",
    "txt = 'Displays a message when you select the cell'\n",
    "\n",
    "worksheet.write('A25', txt)\n",
    "worksheet.data_validation('B25', {'validate': 'integer',\n",
    "                                  'criteria': 'between',\n",
    "                                  'minimum': 1,\n",
    "                                  'maximum': 100,\n",
    "                                  'input_title': 'Enter an integer:',\n",
    "                                  'input_message': 'between 1 and 100'})\n",
    "\n",
    "\n"
   ]
  },
  {
   "cell_type": "code",
   "execution_count": 13,
   "metadata": {},
   "outputs": [],
   "source": [
    "# Example 13. Displaying and modifying data validation messages.\n",
    "#\n",
    "txt = \"Display a custom error message when integer isn't between 1 and 100\"\n",
    "\n",
    "worksheet.write('A27', txt)\n",
    "worksheet.data_validation('B27', {'validate': 'integer',\n",
    "                                  'criteria': 'between',\n",
    "                                  'minimum': 1,\n",
    "                                  'maximum': 100,\n",
    "                                  'input_title': 'Enter an integer:',\n",
    "                                  'input_message': 'between 1 and 100',\n",
    "                                  'error_title': 'Input value is not valid!',\n",
    "                                  'error_message':\n",
    "                                  'It should be an integer between 1 and 100'})\n",
    "\n",
    "\n"
   ]
  },
  {
   "cell_type": "code",
   "execution_count": 14,
   "metadata": {},
   "outputs": [],
   "source": [
    "# Example 14. Displaying and modifying data validation messages.\n",
    "#\n",
    "txt = \"Display a custom info message when integer isn't between 1 and 100\"\n",
    "\n",
    "worksheet.write('A29', txt)\n",
    "worksheet.data_validation('B29', {'validate': 'integer',\n",
    "                                  'criteria': 'between',\n",
    "                                  'minimum': 1,\n",
    "                                  'maximum': 100,\n",
    "                                  'input_title': 'Enter an integer:',\n",
    "                                  'input_message': 'between 1 and 100',\n",
    "                                  'error_title': 'Input value is not valid!',\n",
    "                                  'error_message':\n",
    "                                  'It should be an integer between 1 and 100',\n",
    "                                  'error_type': 'information'})\n",
    "\n"
   ]
  },
  {
   "cell_type": "code",
   "execution_count": 15,
   "metadata": {},
   "outputs": [],
   "source": [
    "workbook.close()"
   ]
  },
  {
   "cell_type": "code",
   "execution_count": null,
   "metadata": {},
   "outputs": [],
   "source": []
  }
 ],
 "metadata": {
  "kernelspec": {
   "display_name": "Python 3",
   "language": "python",
   "name": "python3"
  },
  "language_info": {
   "codemirror_mode": {
    "name": "ipython",
    "version": 3
   },
   "file_extension": ".py",
   "mimetype": "text/x-python",
   "name": "python",
   "nbconvert_exporter": "python",
   "pygments_lexer": "ipython3",
   "version": "3.7.0"
  }
 },
 "nbformat": 4,
 "nbformat_minor": 2
}
