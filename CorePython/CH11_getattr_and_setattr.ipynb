{
 "cells": [
  {
   "cell_type": "markdown",
   "metadata": {},
   "source": [
    "# Class and objects\n"
   ]
  },
  {
   "cell_type": "markdown",
   "metadata": {},
   "source": [
    "Intro: Methods : getattr, setattr, hasattr\n",
    "    \n",
    "* Create attributes on fly\n",
    "* Access attributes\n",
    "* Enquire for an attribute\n",
    "* Print all attributes, but not properties\n"
   ]
  },
  {
   "cell_type": "code",
   "execution_count": 1,
   "metadata": {},
   "outputs": [],
   "source": [
    "class Foo(object):\n",
    "\n",
    "    def __init__(self, props):\n",
    "        \"\"\" Constructor Function \n",
    "        Options Usage:\n",
    "        \"\"\"\n",
    "        for key, value in list(props.items()):\n",
    "            setattr(self, key, value)\n",
    "\n",
    "        self.otherName = \"other\"\n",
    "\n",
    "    @property\n",
    "    def fooProp(self):\n",
    "        return \"fooProp\"\n",
    "\n",
    "    def printAttri(self, props):\n",
    "        propMap = {}\n",
    "        for key in props:\n",
    "            propMap[key] = getattr(self, key)\n",
    "\n",
    "        print(propMap)\n",
    "\n",
    "    def printAttriIfHave(self, props):\n",
    "        propMap = {}\n",
    "        for key in props:\n",
    "            if hasattr(self, key):\n",
    "                propMap[key] = getattr(self, key)\n",
    "            else:\n",
    "                print(\"Error: attr not present {0}\".format(key))\n",
    "\n",
    "        print(propMap)\n",
    "\n",
    "    def printAllAttri(self):\n",
    "        \n",
    "        print(\"all attributes\")\n",
    "        print(self.__dict__)\n"
   ]
  },
  {
   "cell_type": "code",
   "execution_count": 2,
   "metadata": {},
   "outputs": [],
   "source": [
    "props = { \"name\": \"foo\", \"value\": 1 }\n",
    "foo = Foo(props)"
   ]
  },
  {
   "cell_type": "code",
   "execution_count": 3,
   "metadata": {},
   "outputs": [
    {
     "name": "stdout",
     "output_type": "stream",
     "text": [
      "name : foo ; value : 1\n"
     ]
    }
   ],
   "source": [
    "print(\"name : {0} ; value : {1}\".format( foo.name, foo.value ))"
   ]
  },
  {
   "cell_type": "code",
   "execution_count": 4,
   "metadata": {},
   "outputs": [
    {
     "name": "stdout",
     "output_type": "stream",
     "text": [
      "{'name': 'foo', 'value': 1}\n"
     ]
    }
   ],
   "source": [
    "foo.printAttri( list(props.keys()) )"
   ]
  },
  {
   "cell_type": "code",
   "execution_count": 7,
   "metadata": {},
   "outputs": [
    {
     "name": "stdout",
     "output_type": "stream",
     "text": [
      "{'name': 'foo', 'value': 1}\n",
      "\n",
      "{'otherName': 'other', 'name': 'foo', 'value': 1}\n",
      "\n",
      "Error: attr not present dummy\n",
      "{}\n",
      "\n"
     ]
    }
   ],
   "source": [
    "foo.printAttriIfHave( list(props.keys()) ); print(\"\")\n",
    "allProps = [\"otherName\"] + list(props.keys()) ;  \n",
    "foo.printAttriIfHave( allProps ); print(\"\")\n",
    "foo.printAttriIfHave( [ \"dummy\"] ) ; print(\"\")"
   ]
  },
  {
   "cell_type": "code",
   "execution_count": 5,
   "metadata": {},
   "outputs": [
    {
     "ename": "AttributeError",
     "evalue": "'Foo' object has no attribute 'dummy'",
     "output_type": "error",
     "traceback": [
      "\u001b[0;31m---------------------------------------------------------------------------\u001b[0m",
      "\u001b[0;31mAttributeError\u001b[0m                            Traceback (most recent call last)",
      "\u001b[0;32m<ipython-input-5-29f30f3e6821>\u001b[0m in \u001b[0;36m<module>\u001b[0;34m()\u001b[0m\n\u001b[0;32m----> 1\u001b[0;31m \u001b[0mfoo\u001b[0m\u001b[0;34m.\u001b[0m\u001b[0mprintAttri\u001b[0m\u001b[0;34m(\u001b[0m \u001b[0;34m[\u001b[0m \u001b[0;34m\"dummy\"\u001b[0m\u001b[0;34m]\u001b[0m \u001b[0;34m)\u001b[0m\u001b[0;34m\u001b[0m\u001b[0m\n\u001b[0m",
      "\u001b[0;32m<ipython-input-1-05234ba1d481>\u001b[0m in \u001b[0;36mprintAttri\u001b[0;34m(self, props)\u001b[0m\n\u001b[1;32m     17\u001b[0m         \u001b[0mpropMap\u001b[0m \u001b[0;34m=\u001b[0m \u001b[0;34m{\u001b[0m\u001b[0;34m}\u001b[0m\u001b[0;34m\u001b[0m\u001b[0m\n\u001b[1;32m     18\u001b[0m         \u001b[0;32mfor\u001b[0m \u001b[0mkey\u001b[0m \u001b[0;32min\u001b[0m \u001b[0mprops\u001b[0m\u001b[0;34m:\u001b[0m\u001b[0;34m\u001b[0m\u001b[0m\n\u001b[0;32m---> 19\u001b[0;31m             \u001b[0mpropMap\u001b[0m\u001b[0;34m[\u001b[0m\u001b[0mkey\u001b[0m\u001b[0;34m]\u001b[0m \u001b[0;34m=\u001b[0m \u001b[0mgetattr\u001b[0m\u001b[0;34m(\u001b[0m\u001b[0mself\u001b[0m\u001b[0;34m,\u001b[0m \u001b[0mkey\u001b[0m\u001b[0;34m)\u001b[0m\u001b[0;34m\u001b[0m\u001b[0m\n\u001b[0m\u001b[1;32m     20\u001b[0m \u001b[0;34m\u001b[0m\u001b[0m\n\u001b[1;32m     21\u001b[0m         \u001b[0mprint\u001b[0m\u001b[0;34m(\u001b[0m\u001b[0mpropMap\u001b[0m\u001b[0;34m)\u001b[0m\u001b[0;34m\u001b[0m\u001b[0m\n",
      "\u001b[0;31mAttributeError\u001b[0m: 'Foo' object has no attribute 'dummy'"
     ]
    }
   ],
   "source": [
    "foo.printAttri( [ \"dummy\"] )"
   ]
  },
  {
   "cell_type": "code",
   "execution_count": null,
   "metadata": {},
   "outputs": [],
   "source": [
    "\n",
    "    \n",
    "    divMsg(\"Printing with getAttri\")\n",
    "    foo.printAttri( list(props.keys()) )\n",
    "    \n",
    "    divMsg(\"Printing with dot access\")\n",
    "    print(\"name : {0} ; value : {1}\".format( foo.name, foo.value ))\n",
    "\n",
    "    divMsg(\"Printing with getAttri\")\n",
    "    foo.printAttri( list(props.keys()) )\n",
    "    print(\"\")\n",
    "    allProps = [\"otherName\"] + list(props.keys())\n",
    "    foo.printAttri( allProps )\n",
    "\n",
    "    print(\"\")\n",
    "    try: \n",
    "        foo.printAttri( [ \"dummy\"] )\n",
    "    except AttributeError as e:\n",
    "        print(\"Raises Exception: AttributeError - {0}\".format(str(e)))\n",
    "\n",
    "    divMsg(\"Printing with getAttri If present\")\n",
    "\n",
    "    foo.printAttriIfHave( list(props.keys()) ); print(\"\")\n",
    "    allProps = [\"otherName\"] + list(props.keys()) ;  \n",
    "    foo.printAttriIfHave( allProps ); print(\"\")\n",
    "    foo.printAttriIfHave( [ \"dummy\"] ) ; print(\"\")\n",
    "    \n",
    "    divMsg(\"print all Object attributes\")\n",
    "    foo.printAllAttri()\n",
    "    divMsg(\"\")"
   ]
  }
 ],
 "metadata": {
  "kernelspec": {
   "display_name": "Python 3",
   "language": "python",
   "name": "python3"
  },
  "language_info": {
   "codemirror_mode": {
    "name": "ipython",
    "version": 3
   },
   "file_extension": ".py",
   "mimetype": "text/x-python",
   "name": "python",
   "nbconvert_exporter": "python",
   "pygments_lexer": "ipython3",
   "version": "3.6.5"
  }
 },
 "nbformat": 4,
 "nbformat_minor": 2
}
