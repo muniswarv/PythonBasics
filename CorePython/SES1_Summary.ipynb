{
 "cells": [
  {
   "cell_type": "markdown",
   "metadata": {},
   "source": [
    "# Data Types\n",
    "\n",
    "Intro: Data Types\n",
    "    \n",
    "* number\n",
    "    * Integers\n",
    "    * Long Integers\n",
    "    * Floating Point Real Numbers\n",
    "    * Complex Numbers\n",
    "* Sequences\n",
    "    * String\n",
    "    * List\n",
    "    * Tuple\n",
    "    * Dict\n",
    "    * Set\n",
    "    \n",
    "    https://docs.python.org/3.5/library/stdtypes.html#\n",
    "    "
   ]
  },
  {
   "cell_type": "markdown",
   "metadata": {},
   "source": [
    "# Conditional statement\n",
    "    * if\n",
    "    * elif\n",
    "    * else \n",
    "    \n",
    "  \n",
    "Note: Python have no Switch Case style"
   ]
  },
  {
   "cell_type": "markdown",
   "metadata": {},
   "source": [
    "# Loops \n",
    "\n",
    "  - For loop\n",
    "  - While loop\n",
    "  - Reduction operations\n",
    "  - Special Methods\n",
    "\t* enumerate\n",
    "\t* zip"
   ]
  },
  {
   "cell_type": "markdown",
   "metadata": {},
   "source": [
    "# Functions: Callable Objects\n",
    "\n"
   ]
  },
  {
   "cell_type": "raw",
   "metadata": {},
   "source": [
    "# Functions/Callable Objects\n",
    "\n",
    "| Function type          | description                                                           |\n",
    "| :---                   | :---                                                                  |\n",
    "| Built-in functions     | A function implemented in C (for CPython), like len or time.strftime. |\n",
    "| Built-in methods       | Methods implemented in C, like dict.get.                              |\n",
    "| User-defined functions | Created with def statements or lambda expressions.                    |\n",
    "| Methods                | Functions defined in the body of a class.                             |\n",
    "| Magic Class            | Method predefined in object class, with certain task                  |\n",
    "| User-Defined Callable  | Class instance with __call__ method                                   |\n",
    "| Generator functions    | Functions or methods that use the yield keyword    "
   ]
  },
  {
   "cell_type": "markdown",
   "metadata": {},
   "source": [
    "# Regular Expression\n",
    "\n",
    "Intro: Regular Expressions\n",
    "    * Module re and its methods\n",
    "    "
   ]
  },
  {
   "cell_type": "markdown",
   "metadata": {},
   "source": [
    "# Intro: Regular Expression \n",
    "\n",
    "__Methods__\n",
    "    \n",
    "| Methods | Description                                                                            |\n",
    "| :---    | :---                                                                                   |\n",
    "| compile | Compile a regular expression                                                           |\n",
    "| findall | Finds all the matched strings                                                          |\n",
    "| match   | Match a string from begining. Returns match object  if matched otherwise return None   |\n",
    "| search  | Match a string in whole string. Returns match object  if matched otherwise return None |\n",
    "| split   | Splits the string with given regular expression                                        |\n",
    "| sub     | Substiute the string, with given regular expression                                    |\n",
    "\n",
    "\n",
    "__Attributes__\n",
    "\n",
    "\n",
    "| Attribute     | Description          |\n",
    "| :---          | :---                 |\n",
    "| A             | All matched          |\n",
    "| I, IGNORECASE | Ignore case          |\n",
    "| L             |                      |\n",
    "| M, MULTILINE  | Multiple line string |\n",
    "| S, Scanner    |                      |\n",
    "| U, UNICODE    | Unicode string       |\n",
    "| X             |                      |\n",
    "\n"
   ]
  },
  {
   "cell_type": "markdown",
   "metadata": {},
   "source": [
    "# Python File-IO\n",
    "\n",
    "\n",
    "Intro: File IO functions\n",
    "- Open  file pointer\n",
    "- Writing a file\n",
    "- Updating an existing file\n",
    "- Reading a file\n",
    "- Move around file \n",
    "- Working with stdout/stdin/stderr standard channels"
   ]
  },
  {
   "cell_type": "markdown",
   "metadata": {},
   "source": [
    "# Class and Objects\n",
    "    * Creating a class \n",
    "    * Creating Objects\n",
    "    * Class Magic Methods\n",
    "    "
   ]
  },
  {
   "cell_type": "markdown",
   "metadata": {},
   "source": [
    "# Exception Handling\n",
    "\n",
    "Intro:\n",
    "    * Learn to catch exceptions\n",
    "    * Different exception class\n",
    "    * Create your own exception\n"
   ]
  },
  {
   "cell_type": "markdown",
   "metadata": {},
   "source": [
    "# Writing basic scripts\n",
    "    * Simple scripts\n",
    "    * Passing arguments\n",
    "    * Option parser"
   ]
  },
  {
   "cell_type": "code",
   "execution_count": null,
   "metadata": {},
   "outputs": [],
   "source": []
  }
 ],
 "metadata": {
  "kernelspec": {
   "display_name": "Python 3",
   "language": "python",
   "name": "python3"
  },
  "language_info": {
   "codemirror_mode": {
    "name": "ipython",
    "version": 3
   },
   "file_extension": ".py",
   "mimetype": "text/x-python",
   "name": "python",
   "nbconvert_exporter": "python",
   "pygments_lexer": "ipython3",
   "version": "3.6.5"
  }
 },
 "nbformat": 4,
 "nbformat_minor": 2
}
