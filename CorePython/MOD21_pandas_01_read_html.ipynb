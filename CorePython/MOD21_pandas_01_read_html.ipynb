{
 "cells": [
  {
   "cell_type": "code",
   "execution_count": 8,
   "metadata": {},
   "outputs": [],
   "source": [
    "import pandas\n",
    "import re, pdb"
   ]
  },
  {
   "cell_type": "code",
   "execution_count": 9,
   "metadata": {},
   "outputs": [],
   "source": [
    "url = \"https://docs.python.org/dev/library/unittest.html#unittest.TestCase\""
   ]
  },
  {
   "cell_type": "code",
   "execution_count": 10,
   "metadata": {},
   "outputs": [],
   "source": [
    "dfs = pandas.read_html(url, header=0)"
   ]
  },
  {
   "cell_type": "code",
   "execution_count": 11,
   "metadata": {},
   "outputs": [
    {
     "data": {
      "text/plain": [
       "5"
      ]
     },
     "execution_count": 11,
     "metadata": {},
     "output_type": "execute_result"
    }
   ],
   "source": [
    "len(dfs)"
   ]
  },
  {
   "cell_type": "code",
   "execution_count": 15,
   "metadata": {},
   "outputs": [
    {
     "data": {
      "text/html": [
       "<div>\n",
       "<style scoped>\n",
       "    .dataframe tbody tr th:only-of-type {\n",
       "        vertical-align: middle;\n",
       "    }\n",
       "\n",
       "    .dataframe tbody tr th {\n",
       "        vertical-align: top;\n",
       "    }\n",
       "\n",
       "    .dataframe thead th {\n",
       "        text-align: right;\n",
       "    }\n",
       "</style>\n",
       "<table border=\"1\" class=\"dataframe\">\n",
       "  <thead>\n",
       "    <tr style=\"text-align: right;\">\n",
       "      <th></th>\n",
       "      <th>Method</th>\n",
       "      <th>Checks that</th>\n",
       "      <th>New in</th>\n",
       "    </tr>\n",
       "  </thead>\n",
       "  <tbody>\n",
       "    <tr>\n",
       "      <th>0</th>\n",
       "      <td>assertEqual(a, b)</td>\n",
       "      <td>a == b</td>\n",
       "      <td>NaN</td>\n",
       "    </tr>\n",
       "    <tr>\n",
       "      <th>1</th>\n",
       "      <td>assertNotEqual(a, b)</td>\n",
       "      <td>a != b</td>\n",
       "      <td>NaN</td>\n",
       "    </tr>\n",
       "    <tr>\n",
       "      <th>2</th>\n",
       "      <td>assertTrue(x)</td>\n",
       "      <td>bool(x) is True</td>\n",
       "      <td>NaN</td>\n",
       "    </tr>\n",
       "    <tr>\n",
       "      <th>3</th>\n",
       "      <td>assertFalse(x)</td>\n",
       "      <td>bool(x) is False</td>\n",
       "      <td>NaN</td>\n",
       "    </tr>\n",
       "    <tr>\n",
       "      <th>4</th>\n",
       "      <td>assertIs(a, b)</td>\n",
       "      <td>a is b</td>\n",
       "      <td>3.1</td>\n",
       "    </tr>\n",
       "    <tr>\n",
       "      <th>5</th>\n",
       "      <td>assertIsNot(a, b)</td>\n",
       "      <td>a is not b</td>\n",
       "      <td>3.1</td>\n",
       "    </tr>\n",
       "    <tr>\n",
       "      <th>6</th>\n",
       "      <td>assertIsNone(x)</td>\n",
       "      <td>x is None</td>\n",
       "      <td>3.1</td>\n",
       "    </tr>\n",
       "    <tr>\n",
       "      <th>7</th>\n",
       "      <td>assertIsNotNone(x)</td>\n",
       "      <td>x is not None</td>\n",
       "      <td>3.1</td>\n",
       "    </tr>\n",
       "    <tr>\n",
       "      <th>8</th>\n",
       "      <td>assertIn(a, b)</td>\n",
       "      <td>a in b</td>\n",
       "      <td>3.1</td>\n",
       "    </tr>\n",
       "    <tr>\n",
       "      <th>9</th>\n",
       "      <td>assertNotIn(a, b)</td>\n",
       "      <td>a not in b</td>\n",
       "      <td>3.1</td>\n",
       "    </tr>\n",
       "    <tr>\n",
       "      <th>10</th>\n",
       "      <td>assertIsInstance(a, b)</td>\n",
       "      <td>isinstance(a, b)</td>\n",
       "      <td>3.2</td>\n",
       "    </tr>\n",
       "    <tr>\n",
       "      <th>11</th>\n",
       "      <td>assertNotIsInstance(a, b)</td>\n",
       "      <td>not isinstance(a, b)</td>\n",
       "      <td>3.2</td>\n",
       "    </tr>\n",
       "  </tbody>\n",
       "</table>\n",
       "</div>"
      ],
      "text/plain": [
       "                       Method           Checks that  New in\n",
       "0           assertEqual(a, b)                a == b     NaN\n",
       "1        assertNotEqual(a, b)                a != b     NaN\n",
       "2               assertTrue(x)       bool(x) is True     NaN\n",
       "3              assertFalse(x)      bool(x) is False     NaN\n",
       "4              assertIs(a, b)                a is b     3.1\n",
       "5           assertIsNot(a, b)            a is not b     3.1\n",
       "6             assertIsNone(x)             x is None     3.1\n",
       "7          assertIsNotNone(x)         x is not None     3.1\n",
       "8              assertIn(a, b)                a in b     3.1\n",
       "9           assertNotIn(a, b)            a not in b     3.1\n",
       "10     assertIsInstance(a, b)      isinstance(a, b)     3.2\n",
       "11  assertNotIsInstance(a, b)  not isinstance(a, b)     3.2"
      ]
     },
     "execution_count": 15,
     "metadata": {},
     "output_type": "execute_result"
    }
   ],
   "source": [
    "dfs[0]"
   ]
  },
  {
   "cell_type": "code",
   "execution_count": 42,
   "metadata": {},
   "outputs": [
    {
     "name": "stdout",
     "output_type": "stream",
     "text": [
      " 0 | assertEqual(a, b)                                  | a == b\n",
      " 1 | assertNotEqual(a, b)                               | a != b\n",
      " 2 | assertTrue(x)                                      | bool(x) is True\n",
      " 3 | assertFalse(x)                                     | bool(x) is False\n",
      " 4 | assertIs(a, b)                                     | a is b\n",
      " 5 | assertIsNot(a, b)                                  | a is not b\n",
      " 6 | assertIsNone(x)                                    | x is None\n",
      " 7 | assertIsNotNone(x)                                 | x is not None\n",
      " 8 | assertIn(a, b)                                     | a in b\n",
      " 9 | assertNotIn(a, b)                                  | a not in b\n",
      "10 | assertIsInstance(a, b)                             | isinstance(a, b)\n",
      "11 | assertNotIsInstance(a, b)                          | not isinstance(a, b)\n",
      " 0 |                                                    | \n",
      " 0 | assertRaises(exc, fun, *args, **kwds)              | fun(*args, **kwds) raises exc\n",
      " 1 | assertRaisesRegex(exc, r, fun, *args, **kwds)      | fun(*args, **kwds) raises exc and the message matches regex r\n",
      " 2 | assertWarns(warn, fun, *args, **kwds)              | fun(*args, **kwds) raises warn\n",
      " 3 | assertWarnsRegex(warn, r, fun, *args, **kwds)      | fun(*args, **kwds) raises warn and the message matches regex r\n",
      " 4 | assertLogs(logger, level)                          | The with block logs on logger with minimum level\n",
      " 0 |                                                    | \n",
      " 0 | assertAlmostEqual(a, b)                            | round(a-b, 7) == 0\n",
      " 1 | assertNotAlmostEqual(a, b)                         | round(a-b, 7) != 0\n",
      " 2 | assertGreater(a, b)                                | a > b\n",
      " 3 | assertGreaterEqual(a, b)                           | a >= b\n",
      " 4 | assertLess(a, b)                                   | a < b\n",
      " 5 | assertLessEqual(a, b)                              | a <= b\n",
      " 6 | assertRegex(s, r)                                  | r.search(s)\n",
      " 7 | assertNotRegex(s, r)                               | not r.search(s)\n",
      " 8 | assertCountEqual(a, b)                             | a and b have the same elements in the same number, regardless of their order\n",
      " 0 |                                                    | \n",
      " 0 | assertMultiLineEqual(a, b)                         | strings\n",
      " 1 | assertSequenceEqual(a, b)                          | sequences\n",
      " 2 | assertListEqual(a, b)                              | lists\n",
      " 3 | assertTupleEqual(a, b)                             | tuples\n",
      " 4 | assertSetEqual(a, b)                               | sets or frozensets\n",
      " 5 | assertDictEqual(a, b)                              | dicts\n",
      " 0 |                                                    | \n",
      " 0 | assertEqual()                                      | failUnlessEqual\n",
      " 1 | assertNotEqual()                                   | failIfEqual\n",
      " 2 | assertTrue()                                       | failUnless\n",
      " 3 | assertFalse()                                      | failIf\n",
      " 4 | assertRaises()                                     | failUnlessRaises\n",
      " 5 | assertAlmostEqual()                                | failUnlessAlmostEqual\n",
      " 6 | assertNotAlmostEqual()                             | failIfAlmostEqual\n"
     ]
    },
    {
     "ename": "ValueError",
     "evalue": "Unknown format code 's' for object of type 'float'",
     "output_type": "error",
     "traceback": [
      "\u001b[0;31m---------------------------------------------------------------------------\u001b[0m",
      "\u001b[0;31mValueError\u001b[0m                                Traceback (most recent call last)",
      "\u001b[0;32m<ipython-input-42-020e709f6d6a>\u001b[0m in \u001b[0;36m<module>\u001b[0;34m()\u001b[0m\n\u001b[1;32m      3\u001b[0m     \u001b[0;32mfor\u001b[0m \u001b[0mrow\u001b[0m \u001b[0;32min\u001b[0m \u001b[0mdf\u001b[0m\u001b[0;34m.\u001b[0m\u001b[0mto_records\u001b[0m\u001b[0;34m(\u001b[0m\u001b[0;34m)\u001b[0m\u001b[0;34m:\u001b[0m\u001b[0;34m\u001b[0m\u001b[0m\n\u001b[1;32m      4\u001b[0m         \u001b[0;31m# print( type(row.tolist()) )\u001b[0m\u001b[0;34m\u001b[0m\u001b[0;34m\u001b[0m\u001b[0m\n\u001b[0;32m----> 5\u001b[0;31m         \u001b[0mprint\u001b[0m\u001b[0;34m(\u001b[0m\u001b[0mfrmtStr\u001b[0m\u001b[0;34m.\u001b[0m\u001b[0mformat\u001b[0m\u001b[0;34m(\u001b[0m\u001b[0;34m*\u001b[0m\u001b[0mrow\u001b[0m\u001b[0;34m.\u001b[0m\u001b[0mtolist\u001b[0m\u001b[0;34m(\u001b[0m\u001b[0;34m)\u001b[0m\u001b[0;34m)\u001b[0m\u001b[0;34m)\u001b[0m\u001b[0;34m\u001b[0m\u001b[0m\n\u001b[0m\u001b[1;32m      6\u001b[0m \u001b[0;34m\u001b[0m\u001b[0m\n\u001b[1;32m      7\u001b[0m     \u001b[0mprint\u001b[0m\u001b[0;34m(\u001b[0m\u001b[0mfrmtStr\u001b[0m\u001b[0;34m.\u001b[0m\u001b[0mformat\u001b[0m\u001b[0;34m(\u001b[0m\u001b[0;36m0\u001b[0m\u001b[0;34m,\u001b[0m \u001b[0;34m\"\"\u001b[0m\u001b[0;34m,\u001b[0m \u001b[0;34m\"\"\u001b[0m\u001b[0;34m)\u001b[0m \u001b[0;34m)\u001b[0m\u001b[0;34m\u001b[0m\u001b[0m\n",
      "\u001b[0;31mValueError\u001b[0m: Unknown format code 's' for object of type 'float'"
     ]
    }
   ],
   "source": [
    "for df in dfs:\n",
    "    frmtStr = \"{0:2d} | {1:50s} | {2:s}\"\n",
    "    for row in df.to_records():\n",
    "        # print( type(row.tolist()) )\n",
    "        print(frmtStr.format(*row.tolist()))\n",
    "    \n",
    "    print(frmtStr.format(0, \"\", \"\") )"
   ]
  },
  {
   "cell_type": "code",
   "execution_count": 26,
   "metadata": {},
   "outputs": [
    {
     "data": {
      "text/plain": [
       "[',Method,Checks that,New in',\n",
       " '0,\"assertRaises(exc, fun, *args, **kwds)\",\"fun(*args, **kwds) raises exc\",',\n",
       " '1,\"assertRaisesRegex(exc, r, fun, *args, **kwds)\",\"fun(*args, **kwds) raises exc and the message matches regex r\",3.1',\n",
       " '2,\"assertWarns(warn, fun, *args, **kwds)\",\"fun(*args, **kwds) raises warn\",3.2',\n",
       " '3,\"assertWarnsRegex(warn, r, fun, *args, **kwds)\",\"fun(*args, **kwds) raises warn and the message matches regex r\",3.2',\n",
       " '4,\"assertLogs(logger, level)\",The with block logs on logger with minimum level,3.4',\n",
       " '']"
      ]
     },
     "execution_count": 26,
     "metadata": {},
     "output_type": "execute_result"
    }
   ],
   "source": [
    "df.to_csv().split(\"\\n\")"
   ]
  },
  {
   "cell_type": "code",
   "execution_count": 14,
   "metadata": {},
   "outputs": [
    {
     "name": "stdout",
     "output_type": "stream",
     "text": [
      "a == b\n",
      "a                    | == b\n",
      "a != b\n",
      "a                    | != b\n",
      "bool(x) is True\n",
      "is                   | True\n",
      "bool(x) is False\n",
      "is                   | False\n",
      "a is b\n",
      "a                    | is b\n",
      "a is not b\n",
      "a                    | is not b\n",
      "x is None\n",
      "x                    | is None\n",
      "x is not None\n",
      "x                    | is not None\n",
      "a in b\n",
      "a                    | in b\n",
      "a not in b\n",
      "a                    | not in b\n",
      "isinstance(a, b)\n",
      "not isinstance(a, b)\n",
      "not                  | isinstance(a, b)\n"
     ]
    }
   ],
   "source": [
    "regex = r\"(\\w+)\\s+(.*)\"\n",
    "\n",
    "for value in list( df.to_dict().values())[1].values():\n",
    "    print(value)\n",
    "    try:\n",
    "        retVal = re.findall(regex, value)\n",
    "        # pdb.set_trace()\n",
    "        if retVal: \n",
    "            [(exmp, desc)] = retVal\n",
    "            print( \"{0:20s} | {1:s}\".format(exmp, desc))\n",
    "    except Exception as err:\n",
    "        print(err)\n",
    "        pass"
   ]
  },
  {
   "cell_type": "code",
   "execution_count": 6,
   "metadata": {},
   "outputs": [],
   "source": [
    "[(a, b)] = re.findall(regex, \"a b\")"
   ]
  },
  {
   "cell_type": "code",
   "execution_count": null,
   "metadata": {},
   "outputs": [],
   "source": []
  }
 ],
 "metadata": {
  "kernelspec": {
   "display_name": "Python 3",
   "language": "python",
   "name": "python3"
  },
  "language_info": {
   "codemirror_mode": {
    "name": "ipython",
    "version": 3
   },
   "file_extension": ".py",
   "mimetype": "text/x-python",
   "name": "python",
   "nbconvert_exporter": "python",
   "pygments_lexer": "ipython3",
   "version": "3.6.5"
  }
 },
 "nbformat": 4,
 "nbformat_minor": 2
}
