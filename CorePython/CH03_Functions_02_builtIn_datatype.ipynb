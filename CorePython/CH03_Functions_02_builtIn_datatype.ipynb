{
 "cells": [
  {
   "cell_type": "markdown",
   "metadata": {},
   "source": [
    "# Data Types"
   ]
  },
  {
   "cell_type": "markdown",
   "metadata": {},
   "source": [
    "Intro: Data Types\n",
    "    \n",
    "* number\n",
    "    * Integers\n",
    "    * Long Integers\n",
    "    * Floating Point Real Numbers\n",
    "    * Complex Numbers\n",
    "* String\n",
    "* List\n",
    "* Tuple\n",
    "* Dict\n",
    "* Set"
   ]
  },
  {
   "cell_type": "raw",
   "metadata": {},
   "source": [
    "Intro: Introduction to data types\n",
    "    \n",
    "dataType | method  | Class of data type\n",
    ":---     | :---    | :---\n",
    "int      | int     | number\n",
    "float    | float   | number\n",
    "complex  | complex | number\n",
    "list     | list    | Mutable sequence\n",
    "dict     | dict    | Mutable sequence\n",
    "string   | str     | Immutable sequence\n",
    "tuple    | tuple   | Immutable sequence\n",
    "set      | set     | Immutable sequence"
   ]
  },
  {
   "cell_type": "code",
   "execution_count": null,
   "metadata": {},
   "outputs": [],
   "source": [
    "i   =  1 ; # Interger\n",
    "f   = 3.1415926535897932384626433832795 ; # Floating point number\n",
    "c   = 1.23 + 4.56J ; # Complex numbers"
   ]
  },
  {
   "cell_type": "code",
   "execution_count": 2,
   "metadata": {},
   "outputs": [
    {
     "name": "stdout",
     "output_type": "stream",
     "text": [
      "Interger : i =  1\n",
      "Float    : f =  3.141592653589793\n",
      "Complex  : c =  (1.23+4.56j)\n"
     ]
    }
   ],
   "source": [
    "print( \"Interger : i = \", i)\n",
    "print( \"Float    : f = \", f)\n",
    "print( \"Complex  : c = \", c)"
   ]
  },
  {
   "cell_type": "code",
   "execution_count": 30,
   "metadata": {},
   "outputs": [],
   "source": [
    "s = \"abcdefghij\";  # String\n",
    "l = [0, 1, 2, 3, 4, 5, 6, 7, 8, 9]; # List \n",
    "t = (0, 1, 2, 3, 4, 5, 6, 7, 8, 9); # Tuple\n",
    "d = { \"a\": 0, \"b\": 1, \"c\": 2, \"d\": 3, \"e\": 4 } ; # Dict\n",
    "S = { 0, 1, 2, 3, 4, 5, 6, 7, 8, 9} ; # Set "
   ]
  },
  {
   "cell_type": "code",
   "execution_count": 31,
   "metadata": {},
   "outputs": [
    {
     "name": "stdout",
     "output_type": "stream",
     "text": [
      "String   : s =  abcdefghij\n",
      "List     : l =  [0, 1, 2, 3, 4, 5, 6, 7, 8, 9]\n",
      "Tuple    : t =  (0, 1, 2, 3, 4, 5, 6, 7, 8, 9)\n",
      "Dict     : d =  {'a': 0, 'b': 1, 'c': 2, 'd': 3, 'e': 4}\n",
      "Set      : S =  {0, 1, 2, 3, 4, 5, 6, 7, 8, 9}\n"
     ]
    }
   ],
   "source": [
    "\n",
    "print( \"String   : s = \", s)\n",
    "print( \"List     : l = \", l)\n",
    "print( \"Tuple    : t = \", t)\n",
    "print( \"Dict     : d = \", d)\n",
    "print( \"Set      : S = \", S)\n"
   ]
  },
  {
   "cell_type": "markdown",
   "metadata": {},
   "source": [
    "## DataType methods"
   ]
  },
  {
   "cell_type": "raw",
   "metadata": {},
   "source": [
    "Intro: Data Type methods\n",
    "    \n",
    "Method  | Description                          | Legal argument\n",
    ":---    | :---                                 | :---\n",
    "int     | Create/Convert Integer number        | str, number\n",
    "float   | Create/Convert Floating Point number | str, int, float\n",
    "complex | Create/Convert Complex numbers       | str, int, float\n",
    "list    | Create/Convert list                  | all sequences like list, tuple, dict, set\n",
    "dict    | Create/Convert dictionary            | all paired sequences\n",
    "tuple   | Create/Convert tuple                 | all sequences like list, tuple, dict, set\n",
    "set     | Create/Convert set                   | all sequences like list, tuple, dict, set\n",
    "str     | Create/Convert string                | All objects with __str__\n",
    "repr    | Create/Convert string                | All objects with __repr__\n",
    "hex     | Converts number to Hex format        |\n",
    "oct     | Converts number to oct format        |\n",
    "bin     | Converts number to Bin format        |"
   ]
  },
  {
   "cell_type": "code",
   "execution_count": 32,
   "metadata": {},
   "outputs": [
    {
     "data": {
      "text/plain": [
       "100"
      ]
     },
     "execution_count": 32,
     "metadata": {},
     "output_type": "execute_result"
    }
   ],
   "source": [
    "int(\"100\")"
   ]
  },
  {
   "cell_type": "code",
   "execution_count": 33,
   "metadata": {},
   "outputs": [
    {
     "data": {
      "text/plain": [
       "100.0"
      ]
     },
     "execution_count": 33,
     "metadata": {},
     "output_type": "execute_result"
    }
   ],
   "source": [
    "float(\"100\")"
   ]
  },
  {
   "cell_type": "code",
   "execution_count": 34,
   "metadata": {},
   "outputs": [
    {
     "data": {
      "text/plain": [
       "(100+0j)"
      ]
     },
     "execution_count": 34,
     "metadata": {},
     "output_type": "execute_result"
    }
   ],
   "source": [
    "complex(\"100\")"
   ]
  },
  {
   "cell_type": "code",
   "execution_count": 35,
   "metadata": {},
   "outputs": [
    {
     "data": {
      "text/plain": [
       "(100+6j)"
      ]
     },
     "execution_count": 35,
     "metadata": {},
     "output_type": "execute_result"
    }
   ],
   "source": [
    "complex(\"100+6j\")"
   ]
  },
  {
   "cell_type": "code",
   "execution_count": 36,
   "metadata": {},
   "outputs": [
    {
     "data": {
      "text/plain": [
       "'(100+6j)'"
      ]
     },
     "execution_count": 36,
     "metadata": {},
     "output_type": "execute_result"
    }
   ],
   "source": [
    "str(100+6j)"
   ]
  },
  {
   "cell_type": "code",
   "execution_count": 37,
   "metadata": {},
   "outputs": [
    {
     "data": {
      "text/plain": [
       "['a', 'b', 'c']"
      ]
     },
     "execution_count": 37,
     "metadata": {},
     "output_type": "execute_result"
    }
   ],
   "source": [
    "list(\"abc\")"
   ]
  },
  {
   "cell_type": "code",
   "execution_count": 38,
   "metadata": {},
   "outputs": [
    {
     "data": {
      "text/plain": [
       "('a', 'b', 'c')"
      ]
     },
     "execution_count": 38,
     "metadata": {},
     "output_type": "execute_result"
    }
   ],
   "source": [
    "tuple(\"abc\")"
   ]
  },
  {
   "cell_type": "code",
   "execution_count": 39,
   "metadata": {},
   "outputs": [
    {
     "data": {
      "text/plain": [
       "('a', 'b', 'c')"
      ]
     },
     "execution_count": 39,
     "metadata": {},
     "output_type": "execute_result"
    }
   ],
   "source": [
    "l = ['a', 'b', 'c']\n",
    "tuple(l)"
   ]
  },
  {
   "cell_type": "code",
   "execution_count": 40,
   "metadata": {},
   "outputs": [
    {
     "data": {
      "text/plain": [
       "['a', 'b', 'c']"
      ]
     },
     "execution_count": 40,
     "metadata": {},
     "output_type": "execute_result"
    }
   ],
   "source": [
    "t = ('a', 'b', 'c')\n",
    "list(t)"
   ]
  },
  {
   "cell_type": "code",
   "execution_count": 41,
   "metadata": {},
   "outputs": [
    {
     "data": {
      "text/plain": [
       "(('a', 1), ('b', 2), ('c', 3))"
      ]
     },
     "execution_count": 41,
     "metadata": {},
     "output_type": "execute_result"
    }
   ],
   "source": [
    "k = ['a', 'b', 'c']\n",
    "v = [1, 2, 3]\n",
    "\n",
    "tuple(zip(k, v))"
   ]
  },
  {
   "cell_type": "code",
   "execution_count": 42,
   "metadata": {},
   "outputs": [
    {
     "data": {
      "text/plain": [
       "{'a': 1, 'b': 2, 'c': 3}"
      ]
     },
     "execution_count": 42,
     "metadata": {},
     "output_type": "execute_result"
    }
   ],
   "source": [
    "t_p = (('a', 1), ('b', 2), ('c', 3))\n",
    "dict(t_p)"
   ]
  },
  {
   "cell_type": "code",
   "execution_count": 43,
   "metadata": {},
   "outputs": [
    {
     "data": {
      "text/plain": [
       "{'a': 1, 'b': 2, 'c': 3}"
      ]
     },
     "execution_count": 43,
     "metadata": {},
     "output_type": "execute_result"
    }
   ],
   "source": [
    "l_p = list(t_p)\n",
    "dict(l_p)"
   ]
  },
  {
   "cell_type": "code",
   "execution_count": 44,
   "metadata": {},
   "outputs": [
    {
     "data": {
      "text/plain": [
       "{'a', 'b', 'c'}"
      ]
     },
     "execution_count": 44,
     "metadata": {},
     "output_type": "execute_result"
    }
   ],
   "source": [
    "set(l)"
   ]
  },
  {
   "cell_type": "code",
   "execution_count": 45,
   "metadata": {},
   "outputs": [
    {
     "data": {
      "text/plain": [
       "{'a', 'b', 'c'}"
      ]
     },
     "execution_count": 45,
     "metadata": {},
     "output_type": "execute_result"
    }
   ],
   "source": [
    "set(t)"
   ]
  },
  {
   "cell_type": "code",
   "execution_count": 46,
   "metadata": {},
   "outputs": [
    {
     "data": {
      "text/plain": [
       "{'a', 'b', 'c', 'd', 'e'}"
      ]
     },
     "execution_count": 46,
     "metadata": {},
     "output_type": "execute_result"
    }
   ],
   "source": [
    "set(d)"
   ]
  },
  {
   "cell_type": "code",
   "execution_count": 47,
   "metadata": {},
   "outputs": [
    {
     "ename": "TypeError",
     "evalue": "'int' object is not iterable",
     "output_type": "error",
     "traceback": [
      "\u001b[0;31m---------------------------------------------------------------------------\u001b[0m",
      "\u001b[0;31mTypeError\u001b[0m                                 Traceback (most recent call last)",
      "\u001b[0;32m<ipython-input-47-7ade7017386b>\u001b[0m in \u001b[0;36m<module>\u001b[0;34m()\u001b[0m\n\u001b[0;32m----> 1\u001b[0;31m \u001b[0mlist\u001b[0m\u001b[0;34m(\u001b[0m\u001b[0;36m1\u001b[0m\u001b[0;34m)\u001b[0m\u001b[0;34m\u001b[0m\u001b[0m\n\u001b[0m",
      "\u001b[0;31mTypeError\u001b[0m: 'int' object is not iterable"
     ]
    }
   ],
   "source": []
  },
  {
   "cell_type": "markdown",
   "metadata": {},
   "source": [
    "## Method: chr"
   ]
  },
  {
   "cell_type": "code",
   "execution_count": 7,
   "metadata": {},
   "outputs": [
    {
     "name": "stdout",
     "output_type": "stream",
     "text": [
      "chr(65) => 'A'\n",
      "chr(97) => 'a'\n",
      "chr(9) => '\t'\n",
      "chr(48) => '0'\n"
     ]
    }
   ],
   "source": [
    "l = [65, 97, 9, 48]\n",
    "for e in l:\n",
    "    print(\"chr({0:d}) => '{1:s}'\".format(e, chr(e)))\n"
   ]
  },
  {
   "cell_type": "code",
   "execution_count": 12,
   "metadata": {},
   "outputs": [
    {
     "ename": "ValueError",
     "evalue": "Unknown format code 'R' for object of type 'str'",
     "output_type": "error",
     "traceback": [
      "\u001b[0;31m---------------------------------------------------------------------------\u001b[0m",
      "\u001b[0;31mValueError\u001b[0m                                Traceback (most recent call last)",
      "\u001b[0;32m<ipython-input-12-1e25cb83f63b>\u001b[0m in \u001b[0;36m<module>\u001b[0;34m()\u001b[0m\n\u001b[1;32m      1\u001b[0m \u001b[0ml\u001b[0m \u001b[0;34m=\u001b[0m \u001b[0;34m\"abcd,$%#\"\u001b[0m\u001b[0;34m\u001b[0m\u001b[0m\n\u001b[1;32m      2\u001b[0m \u001b[0;32mfor\u001b[0m \u001b[0me\u001b[0m \u001b[0;32min\u001b[0m \u001b[0ml\u001b[0m\u001b[0;34m:\u001b[0m\u001b[0;34m\u001b[0m\u001b[0m\n\u001b[0;32m----> 3\u001b[0;31m     \u001b[0mprint\u001b[0m\u001b[0;34m(\u001b[0m\u001b[0;34m\"ascii({0}) => '{1:R}'\"\u001b[0m\u001b[0;34m.\u001b[0m\u001b[0mformat\u001b[0m\u001b[0;34m(\u001b[0m\u001b[0me\u001b[0m\u001b[0;34m,\u001b[0m \u001b[0mascii\u001b[0m\u001b[0;34m(\u001b[0m\u001b[0me\u001b[0m\u001b[0;34m)\u001b[0m\u001b[0;34m)\u001b[0m\u001b[0;34m)\u001b[0m\u001b[0;34m\u001b[0m\u001b[0m\n\u001b[0m",
      "\u001b[0;31mValueError\u001b[0m: Unknown format code 'R' for object of type 'str'"
     ]
    }
   ],
   "source": [
    "l = \"abcd,$%#\"\n",
    "for e in l:\n",
    "    print(\"ascii({0}) => '{1:R}'\".format(e, ascii(e)))"
   ]
  },
  {
   "cell_type": "code",
   "execution_count": 9,
   "metadata": {},
   "outputs": [
    {
     "data": {
      "text/plain": [
       "\"'a'\""
      ]
     },
     "execution_count": 9,
     "metadata": {},
     "output_type": "execute_result"
    }
   ],
   "source": [
    "ascii(\"a\")"
   ]
  },
  {
   "cell_type": "code",
   "execution_count": 23,
   "metadata": {},
   "outputs": [
    {
     "name": "stdout",
     "output_type": "stream",
     "text": [
      "bin   |   5 == 0b101\n",
      "oct   |   5 == 0o5\n",
      "hex   |   5 == 0x5\n",
      "\n",
      "bin   |  75 == 0b1001011\n",
      "oct   |  75 == 0o113\n",
      "hex   |  75 == 0x4b\n",
      "\n",
      "bin   |  54 == 0b110110\n",
      "oct   |  54 == 0o66\n",
      "hex   |  54 == 0x36\n",
      "\n",
      "bin   | 112 == 0b1110000\n",
      "oct   | 112 == 0o160\n",
      "hex   | 112 == 0x70\n",
      "\n"
     ]
    }
   ],
   "source": [
    "l_mtd = [bin, oct, hex]\n",
    "for e in [5, 75, 54, 112]:\n",
    "    print( \"{0:5s} | {1:3d} == {2:s}\".format(\"bin\", e, bin(e)))\n",
    "    print( \"{0:5s} | {1:3d} == {2:s}\".format(\"oct\", e, oct(e)))\n",
    "    print( \"{0:5s} | {1:3d} == {2:s}\".format(\"hex\", e, hex(e)))\n",
    "    print()\n",
    "\n"
   ]
  },
  {
   "cell_type": "code",
   "execution_count": 14,
   "metadata": {},
   "outputs": [
    {
     "data": {
      "text/plain": [
       "'0o101'"
      ]
     },
     "execution_count": 14,
     "metadata": {},
     "output_type": "execute_result"
    }
   ],
   "source": [
    "oct(65)"
   ]
  },
  {
   "cell_type": "code",
   "execution_count": 15,
   "metadata": {},
   "outputs": [
    {
     "data": {
      "text/plain": [
       "'0x41'"
      ]
     },
     "execution_count": 15,
     "metadata": {},
     "output_type": "execute_result"
    }
   ],
   "source": [
    "hex(65)"
   ]
  },
  {
   "cell_type": "code",
   "execution_count": null,
   "metadata": {},
   "outputs": [],
   "source": []
  }
 ],
 "metadata": {
  "kernelspec": {
   "display_name": "Python 3",
   "language": "python",
   "name": "python3"
  },
  "language_info": {
   "codemirror_mode": {
    "name": "ipython",
    "version": 3
   },
   "file_extension": ".py",
   "mimetype": "text/x-python",
   "name": "python",
   "nbconvert_exporter": "python",
   "pygments_lexer": "ipython3",
   "version": "3.6.5"
  }
 },
 "nbformat": 4,
 "nbformat_minor": 2
}
