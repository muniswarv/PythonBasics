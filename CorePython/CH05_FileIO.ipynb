{
 "cells": [
  {
   "cell_type": "markdown",
   "metadata": {},
   "source": [
    "# Python File-IO\n"
   ]
  },
  {
   "cell_type": "markdown",
   "metadata": {},
   "source": [
    "Intro: File IO functions\n",
    "- Open  file pointer\n",
    "- Writing a file\n",
    "- Updating an existing file\n",
    "- Reading a file\n",
    "- Move around file \n",
    "- Working with stdout/stdin/stderr standard channels"
   ]
  },
  {
   "cell_type": "markdown",
   "metadata": {},
   "source": [
    "| Operation                        | Interpretation                                                   |\n",
    "| :--- | :--- |\n",
    "| output  = open('/tmp/spam', 'w') | Create output file ('w' means write)                             |\n",
    "| input   = open('data', 'r')      | Create input file ('r' means read)                               |\n",
    "| input   = open('data')           | Same as prior line ('r' is the default)                          |\n",
    "| aString = input.read( )          | Read entire file into a single string                            |\n",
    "| aString = input.read(N)          | Read next N bytes (one or more) into a string                    |\n",
    "| aString = input.readline( )      | Read next line (including end-of-line marker) into a string      |\n",
    "| aList   = input.readlines( )     | Read entire file into list of line strings                       |\n",
    "| output.write(aString)            | Write a string of bytes into file                                |\n",
    "| output.writelines(aList)         | Write all line strings in a list into file                       |\n",
    "| output.close( )                  | Manual close (done for you when file is collected)               |\n",
    "| outout.flush( )                  | Flush output buffer to disk without closing                      |\n",
    "| anyFile.seek(N)                  | Change file position to offset N for next operation              |\n"
   ]
  },
  {
   "cell_type": "code",
   "execution_count": 1,
   "metadata": {},
   "outputs": [],
   "source": [
    "# Write a file\n",
    "strg = \"\"\"Python is a great language.\n",
    "Yeah its great!!\n",
    "\"\"\"\n",
    "\n",
    "fileName = \"./test_FileIO_Written.txt\"\n",
    "\n",
    "fo = open(fileName, \"w\")\n",
    "fo.write(strg) \n",
    "fo.close()"
   ]
  },
  {
   "cell_type": "code",
   "execution_count": 2,
   "metadata": {},
   "outputs": [],
   "source": [
    "#Open a file in append mode\n",
    "\n",
    "fileName = \"./test_FileIO_Written.txt\"\n",
    "\n",
    "strg2 = \"---Appended this line\"\n",
    "faPtr = open(fileName, \"a\")\n",
    "faPtr.write(strg2 + \" At End\\n\") ; # Default pointer opens at end of file\n",
    "\n",
    "faPtr.close()\n"
   ]
  },
  {
   "cell_type": "code",
   "execution_count": 3,
   "metadata": {},
   "outputs": [
    {
     "name": "stdout",
     "output_type": "stream",
     "text": [
      "['Python is a great language.\\n', 'Yeah its great!!\\n', '---Appended this line At End\\n']\n"
     ]
    }
   ],
   "source": [
    "fileName = \"./test_FileIO_Written.txt\"\n",
    "\n",
    "frPtr = open(fileName, \"r\")\n",
    "# Reads all lines and holds that in array. Not memory efficient\n",
    "print( frPtr.readlines() ) ; \n",
    "frPtr.close()"
   ]
  },
  {
   "cell_type": "code",
   "execution_count": 6,
   "metadata": {},
   "outputs": [
    {
     "name": "stdout",
     "output_type": "stream",
     "text": [
      "Python is a great language.\n",
      "\n",
      "Yeah its great!!\n",
      "\n",
      "---Appended this line At End\n",
      "\n"
     ]
    }
   ],
   "source": [
    "fr = open(\"test_FileIO_Written.txt\", \"r\")\n",
    "for line in fr:\n",
    "    print(line)\n",
    "    # print(\"Current file position : \", fr.tell())\n",
    "    # OSError: telling position disabled by next() call\n",
    "    #     # \n",
    "\n"
   ]
  },
  {
   "cell_type": "code",
   "execution_count": 4,
   "metadata": {},
   "outputs": [
    {
     "name": "stdout",
     "output_type": "stream",
     "text": [
      "Python is a great language.\n",
      "\n",
      "Yeah its great!!\n",
      "\n",
      "---Appended this line At End\n",
      "\n"
     ]
    }
   ],
   "source": [
    "fileName = \"./test_FileIO_Written.txt\"\n",
    "\n",
    "frPtr = open(fileName, \"r\")\n",
    "for line in frPtr.readlines():\n",
    "    print(line)\n",
    "frPtr.close()"
   ]
  },
  {
   "cell_type": "code",
   "execution_count": 5,
   "metadata": {},
   "outputs": [
    {
     "name": "stdout",
     "output_type": "stream",
     "text": [
      "Read String is :  Python is \n",
      "Read String is :  a great la\n",
      "Current file position :  20\n",
      "\n",
      "# Move pointer to begining\n",
      "Current file position :  0\n",
      "Again read String is :  Python is \n"
     ]
    }
   ],
   "source": [
    "# Refered: \n",
    "# https://www.tutorialspoint.com/python/python_files_io.htm\n",
    "## Learn:\n",
    "#\n",
    "#  read, tell, seek methods\n",
    "#   \n",
    "\n",
    "# Open a file\n",
    "fo = open(\"test_FileIO_Written.txt\", \"r+\")\n",
    "strg = fo.read(10);\n",
    "print(\"Read String is : \", strg)\n",
    "strg = fo.read(10);\n",
    "print(\"Read String is : \", strg)\n",
    "\n",
    "# Check current position\n",
    "position = fo.tell();\n",
    "print(\"Current file position : \", position)\n",
    "\n",
    "print(\"\\n# Move pointer to begining\")\n",
    "# Reposition pointer at the beginning once again\n",
    "position = fo.seek(0, 0);\n",
    "print(\"Current file position : \", position)\n",
    "\n",
    "strg = fo.read(10);\n",
    "print(\"Again read String is : \", strg)\n",
    "# Close opend file\n",
    "fo.close()\n"
   ]
  },
  {
   "cell_type": "code",
   "execution_count": 7,
   "metadata": {},
   "outputs": [
    {
     "data": {
      "text/plain": [
       "39"
      ]
     },
     "execution_count": 7,
     "metadata": {},
     "output_type": "execute_result"
    }
   ],
   "source": [
    "fr.fileno()"
   ]
  },
  {
   "cell_type": "code",
   "execution_count": 12,
   "metadata": {},
   "outputs": [],
   "source": [
    "fw = open(\"CH05_FileIO_01_STD_Channels.py\", \"w\")\n",
    "\n",
    "fw.write( \"\"\"\n",
    "import sys\n",
    "\n",
    "fp = sys.stdin\n",
    "fo = sys.stdout\n",
    "fe = sys.stderr\n",
    "\n",
    "for line in fp.readlines():\n",
    "    print(\"-- Print  :\" , line, end=' ')\n",
    "    fo.write(\"-- stdout : \"+line)\n",
    "    fe.write(\"-- stderr : \"+line)\n",
    "\"\"\" )\n",
    "\n",
    "fw.close()\n",
    "\n",
    "\n"
   ]
  },
  {
   "cell_type": "code",
   "execution_count": 13,
   "metadata": {},
   "outputs": [
    {
     "name": "stdout",
     "output_type": "stream",
     "text": [
      "-- Print  : Python is a great language.\r\n",
      " -- stdout : Python is a great language.\r\n",
      "-- stderr : Python is a great language.\r\n",
      "-- Print  : Yeah its great!!\r\n",
      " -- stdout : Yeah its great!!\r\n",
      "-- stderr : Yeah its great!!\r\n",
      "-- Print  : ---Appended this line At End\r\n",
      " -- stdout : ---Appended this line At End\r\n",
      "-- stderr : ---Appended this line At End\r\n"
     ]
    }
   ],
   "source": [
    "!cat test_FileIO_Written.txt | python CH05_FileIO_01_STD_Channels.py"
   ]
  },
  {
   "cell_type": "code",
   "execution_count": 14,
   "metadata": {},
   "outputs": [
    {
     "name": "stdout",
     "output_type": "stream",
     "text": [
      "-- stderr : Python is a great language.\r\n",
      "-- stderr : Yeah its great!!\r\n",
      "-- stderr : ---Appended this line At End\r\n"
     ]
    }
   ],
   "source": [
    "!cat test_FileIO_Written.txt | python CH05_FileIO_01_STD_Channels.py > foo.stdout"
   ]
  },
  {
   "cell_type": "markdown",
   "metadata": {},
   "source": [
    "## References\n",
    "\n",
    "* OSError: telling position disabled by next() call\n",
    "\n",
    "    https://stackoverflow.com/questions/49785865/meaning-of-oserror-telling-position-disabled-by-next-call-error?noredirect=1&lq=1\n",
    "    \n",
    "\n",
    "* read, tell, seek\n",
    "\n",
    "    https://www.tutorialspoint.com/python/python_files_io.htm\n",
    "    "
   ]
  },
  {
   "cell_type": "code",
   "execution_count": null,
   "metadata": {},
   "outputs": [],
   "source": []
  }
 ],
 "metadata": {
  "kernelspec": {
   "display_name": "Python 3",
   "language": "python",
   "name": "python3"
  },
  "language_info": {
   "codemirror_mode": {
    "name": "ipython",
    "version": 3
   },
   "file_extension": ".py",
   "mimetype": "text/x-python",
   "name": "python",
   "nbconvert_exporter": "python",
   "pygments_lexer": "ipython3",
   "version": "3.6.5"
  }
 },
 "nbformat": 4,
 "nbformat_minor": 2
}
