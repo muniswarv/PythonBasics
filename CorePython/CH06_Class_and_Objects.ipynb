{
 "cells": [
  {
   "cell_type": "code",
   "execution_count": 28,
   "metadata": {},
   "outputs": [],
   "source": [
    "class Car:\n",
    "    wheels = 4\n",
    "    \n",
    "    def __init__(self, make , model ):\n",
    "        print(\"Called the __INIT__ function\")\n",
    "        self.make = make\n",
    "        self.model = model\n",
    "        self.seats = 4 ;\n",
    "        self.distance = 0\n",
    "        self.people = []\n",
    "        \n",
    "    def hasVacency(self):\n",
    "        return len(self.people) < self.seats\n",
    "\n",
    "    def checkin(self, person):\n",
    "        # self is prepending to accessing the class attribute\n",
    "        if self.hasVacency(): \n",
    "            self.people.append(person)\n",
    "        else:\n",
    "            print(\"No Vacency, try later\")\n",
    "\n",
    "    def checkout(self, person):\n",
    "        # self is prepending to accessing the class attribute\n",
    "        if person in self.people: \n",
    "            self.people.remove(person)\n",
    "        else:\n",
    "            print(\"No passenger with name: \", person)\n",
    "            \n",
    "    def drive(self,miles):\n",
    "        self.distance += miles\n",
    "\n",
    "    def picnic(self):\n",
    "        # self to accessing the class attribute\n",
    "        self.checkin(\"Muniswara\")\n",
    "        self.checkin(\"Rajitha\")\n",
    "\n",
    "        \n",
    "    def show(self):\n",
    "        print(\"make     :\", self.make)\n",
    "        print(\"model    :\", self.model)\n",
    "        print(\"seats    :\", self.seats)\n",
    "        print(\"people   :\", self.people)\n",
    "        print(\"distance :\", self.distance)\n",
    "        "
   ]
  },
  {
   "cell_type": "code",
   "execution_count": 19,
   "metadata": {},
   "outputs": [
    {
     "name": "stdout",
     "output_type": "stream",
     "text": [
      "Called the __INIT__ function\n",
      "make     : MarutiSuzuki\n",
      "model    : switz\n",
      "seats    : 4\n",
      "people   : []\n",
      "distance : 0\n"
     ]
    }
   ],
   "source": [
    "mCar = Car('MarutiSuzuki','switz')\n",
    "mCar.show()\n"
   ]
  },
  {
   "cell_type": "code",
   "execution_count": 20,
   "metadata": {},
   "outputs": [],
   "source": [
    "mCar.picnic()\n",
    "mCar.checkin(\"Ramu\")\n",
    "mCar.checkin(\"Ravi\")\n"
   ]
  },
  {
   "cell_type": "code",
   "execution_count": 21,
   "metadata": {},
   "outputs": [],
   "source": [
    "mCar.drive(20)"
   ]
  },
  {
   "cell_type": "code",
   "execution_count": 22,
   "metadata": {},
   "outputs": [
    {
     "name": "stdout",
     "output_type": "stream",
     "text": [
      "make     : MarutiSuzuki\n",
      "model    : switz\n",
      "seats    : 4\n",
      "people   : ['Muniswara', 'Rajitha', 'Ramu', 'Ravi']\n",
      "distance : 20\n"
     ]
    }
   ],
   "source": [
    "mCar.show()"
   ]
  },
  {
   "cell_type": "code",
   "execution_count": 23,
   "metadata": {},
   "outputs": [
    {
     "name": "stdout",
     "output_type": "stream",
     "text": [
      "No Vacency, try later\n"
     ]
    }
   ],
   "source": [
    "mCar.checkin(\"Kumba\")\n"
   ]
  },
  {
   "cell_type": "code",
   "execution_count": 24,
   "metadata": {},
   "outputs": [
    {
     "name": "stdout",
     "output_type": "stream",
     "text": [
      "make     : MarutiSuzuki\n",
      "model    : switz\n",
      "seats    : 4\n",
      "people   : ['Muniswara', 'Rajitha', 'Ramu', 'Kumba']\n",
      "distance : 20\n"
     ]
    }
   ],
   "source": [
    "mCar.checkout(\"Ravi\")\n",
    "mCar.checkin(\"Kumba\")\n",
    "mCar.show()"
   ]
  },
  {
   "cell_type": "code",
   "execution_count": 25,
   "metadata": {},
   "outputs": [],
   "source": [
    "class SUV(Car):\n",
    "    \"\"\"Class inheritance\"\"\"\n",
    "\n",
    "    def __init__(self, make , model ):\n",
    "       Car.__init__(self, make, model)\n",
    "       self.seats = 6 ; #includes new attribute\n",
    "\n"
   ]
  },
  {
   "cell_type": "code",
   "execution_count": 26,
   "metadata": {},
   "outputs": [
    {
     "name": "stdout",
     "output_type": "stream",
     "text": [
      "Called the __INIT__ function\n",
      "make     : Mahendra\n",
      "model    : SUV\n",
      "seats    : 6\n",
      "people   : []\n",
      "distance : 0\n"
     ]
    }
   ],
   "source": [
    "aCar = SUV(\"Mahendra\", \"SUV\")\n",
    "aCar.show()"
   ]
  },
  {
   "cell_type": "code",
   "execution_count": 27,
   "metadata": {},
   "outputs": [
    {
     "name": "stdout",
     "output_type": "stream",
     "text": [
      "make     : Mahendra\n",
      "model    : SUV\n",
      "seats    : 6\n",
      "people   : ['Muniswara', 'Rajitha', 'Ramu', 'Ravi', 'Kumba']\n",
      "distance : 0\n"
     ]
    }
   ],
   "source": [
    "aCar.picnic()\n",
    "aCar.checkin(\"Ramu\")\n",
    "aCar.checkin(\"Ravi\")\n",
    "aCar.checkin(\"Kumba\")\n",
    "aCar.show()"
   ]
  },
  {
   "cell_type": "code",
   "execution_count": null,
   "metadata": {},
   "outputs": [],
   "source": []
  }
 ],
 "metadata": {
  "kernelspec": {
   "display_name": "Python 3",
   "language": "python",
   "name": "python3"
  },
  "language_info": {
   "codemirror_mode": {
    "name": "ipython",
    "version": 3
   },
   "file_extension": ".py",
   "mimetype": "text/x-python",
   "name": "python",
   "nbconvert_exporter": "python",
   "pygments_lexer": "ipython3",
   "version": "3.6.5"
  }
 },
 "nbformat": 4,
 "nbformat_minor": 2
}
