{
 "cells": [
  {
   "cell_type": "markdown",
   "metadata": {},
   "source": [
    "# Regular Expression"
   ]
  },
  {
   "cell_type": "markdown",
   "metadata": {},
   "source": [
    "Intro: Regular Expressions\n",
    "\n",
    "    * Module re\n",
    "    \n",
    "Method: \n",
    "    * \n",
    "    "
   ]
  },
  {
   "cell_type": "raw",
   "metadata": {},
   "source": [
    "Notation    | Description                                              | Example RE\n",
    ":---        | :---                                                     | :---\n",
    "re_string   | match literal string value re_string                     | foo\n",
    "re1|re2     | match literal string value re1 or re2                    |\n",
    "foo|bar     | match any character (except NEWLINE)                     | ::.+:: ->\n",
    "^           | match start of string                                    | ^Dear\n",
    "$           | match end of string                                      | /bin/\\w*sh$\n",
    ".           | match any character                                      | .*\n",
    "*           | match 0 or more occurrences of preceding RE              | [A-Za-z]\\w*\n",
    "+           | match 1 or more occurrences of preceding RE              | \\d+\\.|\\.\\d+\n",
    "?           | match 0 or 1 occurrence(s) of preceding RE               | goo?\n",
    "{N}         | match N occurrences of preceding RE                      | \\d{3}\n",
    "{M,N}       | match from M to N occurrences of preceding RE            | \\d{5,9}\n",
    "[...]       | match any single character from character class          | [aeiou]\n",
    "[..x–y..]   | match any single character in the range from x to y      | [0–9], [A-Za-z]\n",
    "[^...]      | do not match any character from character class          | [^aeiou], [^A-Za-z0–9_]\n",
    "            | including any ranges, if present                         |\n",
    "(*|+|?|{})? | apply non-greedy versions of above occurrence/repetition | .*?\\w\n",
    "            | includes symbols ( *, +, ?, {})                          |\n",
    "(...)       | match enclosed RE and save as subgroup                   | (\\d{3})?, f(oo|u)bar\n"
   ]
  },
  {
   "cell_type": "raw",
   "metadata": {},
   "source": [
    "Notation  | Inverse | Description                                            | Example RE\n",
    ":---      | :---    | :---                                                   | :---\n",
    "\\d        | \\D      | match any decimal digit, same as [0–9]                 | data\\d+.txt\n",
    "\\w        | \\W      | match any alphanumeric character, same as [A-Za-z_]\\w+ | .\n",
    "\\s        | \\S      | match any whitespace character, same as [\\n\\t\\r\\v\\f]   | of\\sthe\n",
    "\\b        | \\B      | match any word boundary                                | \\bThe\\b\n",
    "\\nn       |         | match saved subgroup nn (see (...) above)              | price: \\16\n",
    "\\c        |         | match any special character c verbatim                 | \\., \\\\, \\*\n",
    "          |         | (i.e., without its special meaning, literal)           | .\n",
    "\\A (\\Z)   |         | match start (end) of string (also see ^ and $ above)   | \\ADear"
   ]
  },
  {
   "cell_type": "markdown",
   "metadata": {},
   "source": [
    "Intro: Regular Expression \n",
    "\n",
    "__Methods__\n",
    "    \n",
    "| Methods | Description                                                                            |\n",
    "| :---    | :---                                                                                   |\n",
    "| compile | Compile a regular expression                                                           |\n",
    "| findall | Finds all the matched strings                                                          |\n",
    "| match   | Match a string from begining. Returns match object  if matched otherwise return None   |\n",
    "| search  | Match a string in whole string. Returns match object  if matched otherwise return None |\n",
    "| split   | Splits the string with given regular expression                                        |\n",
    "| sub     | Substiute the string, with given regular expression                                    |\n",
    "\n",
    "\n",
    "__Attributes__\n",
    "\n",
    "\n",
    "| Attribute     | Description          |\n",
    "| :---          | :---                 |\n",
    "| A             | All matched          |\n",
    "| I, IGNORECASE | Ignore case          |\n",
    "| L             |                      |\n",
    "| M, MULTILINE  | Multiple line string |\n",
    "| S, Scanner    |                      |\n",
    "| U, UNICODE    | Unicode string       |\n",
    "| X             |                      |\n",
    "\n"
   ]
  },
  {
   "cell_type": "code",
   "execution_count": 5,
   "metadata": {},
   "outputs": [],
   "source": [
    "import re"
   ]
  },
  {
   "cell_type": "code",
   "execution_count": 10,
   "metadata": {},
   "outputs": [],
   "source": [
    "l_regex = [r\"abc\", \"junk\", r\"(\\w+)\", r\"(\\d+)\", r\"(\\d)(\\d+)\", r\"(\\d+)(\\w+)\" ]\n",
    "l_str = [ \"abcdabcd\" , \"123abcd1234\" ]\n",
    "l_method = {\"match\":re.match, \"search\":re.search, \"findall\":re.findall}\n",
    "\n",
    "frmtStr = \"{method:8s} | {e:20s} | {regex:10s} | {val}\"\n"
   ]
  },
  {
   "cell_type": "code",
   "execution_count": 23,
   "metadata": {},
   "outputs": [
    {
     "name": "stdout",
     "output_type": "stream",
     "text": [
      "match    | 123abcd1234          | abc           | [] \n",
      "match    | 123abcd1234          | junk          | [] \n",
      "match    | 123abcd1234          | (\\w+)         | ('123abcd1234',) \n",
      "match    | 123abcd1234          | (\\d+)         | ('123',) \n",
      "match    | 123abcd1234          | (\\d+?)        | ('1',) \n",
      "match    | 123abcd1234          | (\\d)(\\d+)     | ('1', '23') \n",
      "match    | 123abcd1234          | (\\d)(\\d{2})   | ('1', '23') \n",
      "match    | 123abcd1234          | (\\d+)(\\w+)    | ('123', 'abcd1234') \n"
     ]
    }
   ],
   "source": [
    "frmtStr = \"{method:8s} | {e:20s} | {regex:13s} | {val} \"\n",
    "for regex in l_regex:\n",
    "    for e in l_str:\n",
    "        match = re.match(regex, e)\n",
    "        val = match.groups() if match else []\n",
    "        print ( frmtStr.format(e=e, regex=regex, method=\"match\", val=val ))"
   ]
  },
  {
   "cell_type": "code",
   "execution_count": 12,
   "metadata": {},
   "outputs": [
    {
     "name": "stdout",
     "output_type": "stream",
     "text": [
      "search   | abcdabcd             | abc        | True\n",
      "search   | 123abcd1234          | abc        | True\n",
      "search   | abcdabcd             | junk       | False\n",
      "search   | 123abcd1234          | junk       | False\n",
      "search   | abcdabcd             | (\\w+)      | True\n",
      "search   | 123abcd1234          | (\\w+)      | True\n",
      "search   | abcdabcd             | (\\d+)      | False\n",
      "search   | 123abcd1234          | (\\d+)      | True\n",
      "search   | abcdabcd             | (\\d)(\\d+)  | False\n",
      "search   | 123abcd1234          | (\\d)(\\d+)  | True\n",
      "search   | abcdabcd             | (\\d+)(\\w+) | False\n",
      "search   | 123abcd1234          | (\\d+)(\\w+) | True\n"
     ]
    }
   ],
   "source": [
    "frmtStr = \"{method:8s} | {e:20s} | {regex:10s} | {val}\"\n",
    "for regex in l_regex:\n",
    "    for e in l_str:\n",
    "        val = True if re.search(regex, e) else False\n",
    "        print ( frmtStr.format(e=e, regex=regex, method=\"search\", val=val))"
   ]
  },
  {
   "cell_type": "code",
   "execution_count": 18,
   "metadata": {},
   "outputs": [
    {
     "name": "stdout",
     "output_type": "stream",
     "text": [
      "findall  | 123abcd1234          | abc             | ['abc']\n",
      "findall  | 123abcd1234          | junk            | []\n",
      "findall  | 123abcd1234          | (\\w+)           | ['123abcd1234']\n",
      "findall  | 123abcd1234          | (\\d+)           | ['123', '1234']\n",
      "findall  | 123abcd1234          | (\\d+?)          | ['1', '2', '3', '1', '2', '3', '4']\n",
      "findall  | 123abcd1234          | (\\d)(\\d+)       | [('1', '23'), ('1', '234')]\n",
      "findall  | 123abcd1234          | (\\d)(\\d{2})     | [('1', '23'), ('1', '23')]\n",
      "findall  | 123abcd1234          | (\\d+)(\\w+)      | [('123', 'abcd1234')]\n"
     ]
    }
   ],
   "source": [
    "frmtStr = \"{method:8s} | {e:20s} | {regex:15s} | {val}\"\n",
    "\n",
    "l_regex =  [r\"abc\", \"junk\", r\"(\\w+)\", r\"(\\d+)\", r\"(\\d+?)\", r\"(\\d)(\\d+)\", r\"(\\d)(\\d{2})\", r\"(\\d+)(\\w+)\" ]\n",
    "l_str = [ \"123abcd1234\" ]\n",
    "\n",
    "\n",
    "for regex in l_regex:\n",
    "    for e in l_str:\n",
    "        val = re.findall(regex, e)\n",
    "        print ( frmtStr.format(e=e, regex=regex, method=\"findall\", val=val))"
   ]
  },
  {
   "cell_type": "code",
   "execution_count": null,
   "metadata": {},
   "outputs": [],
   "source": []
  },
  {
   "cell_type": "code",
   "execution_count": null,
   "metadata": {},
   "outputs": [],
   "source": []
  }
 ],
 "metadata": {
  "kernelspec": {
   "display_name": "Python 3",
   "language": "python",
   "name": "python3"
  },
  "language_info": {
   "codemirror_mode": {
    "name": "ipython",
    "version": 3
   },
   "file_extension": ".py",
   "mimetype": "text/x-python",
   "name": "python",
   "nbconvert_exporter": "python",
   "pygments_lexer": "ipython3",
   "version": "3.6.5"
  }
 },
 "nbformat": 4,
 "nbformat_minor": 2
}
