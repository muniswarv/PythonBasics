{
 "cells": [
  {
   "cell_type": "markdown",
   "metadata": {},
   "source": [
    "## Class Methods"
   ]
  },
  {
   "cell_type": "markdown",
   "metadata": {},
   "source": [
    "## Class: Magic Methods\n",
    "\n",
    "method               | object | str    | list   | tuple  | dict   | defaultdict | namedtuple |\n",
    ":--                  | :--    | :--    | :--    | :--    | :--    | :--    | :--    |\n",
    "\\_\\_class\\_\\_            | __Y__  | __Y__  | __Y__  | __Y__  | __Y__  | __Y__  | __Y__  |\n",
    "\\_\\_delattr\\_\\_          | __Y__  | __Y__  | __Y__  | __Y__  | __Y__  | __Y__  | __Y__  |\n",
    "\\_\\_dir\\_\\_              | __Y__  | __Y__  | __Y__  | __Y__  | __Y__  | __Y__  | __Y__  |\n",
    "\\_\\_doc\\_\\_              | __Y__  | __Y__  | __Y__  | __Y__  | __Y__  | __Y__  | __Y__  |\n",
    "\\_\\_eq\\_\\_               | __Y__  | __Y__  | __Y__  | __Y__  | __Y__  | __Y__  | __Y__  |\n",
    "\\_\\_format\\_\\_           | __Y__  | __Y__  | __Y__  | __Y__  | __Y__  | __Y__  | __Y__  |\n",
    "\\_\\_ge\\_\\_               | __Y__  | __Y__  | __Y__  | __Y__  | __Y__  | __Y__  | __Y__  |\n",
    "\\_\\_getattribute\\_\\_     | __Y__  | __Y__  | __Y__  | __Y__  | __Y__  | __Y__  | __Y__  |\n",
    "\\_\\_gt\\_\\_               | __Y__  | __Y__  | __Y__  | __Y__  | __Y__  | __Y__  | __Y__  |\n",
    "\\_\\_hash\\_\\_             | __Y__  | __Y__  | __Y__  | __Y__  | __Y__  | __Y__  | __Y__  |\n",
    "\\_\\_init\\_\\_             | __Y__  | __Y__  | __Y__  | __Y__  | __Y__  | __Y__  | __Y__  |\n",
    "\\_\\_init_subclass\\_\\_    | __Y__  | __Y__  | __Y__  | __Y__  | __Y__  | __Y__  | __Y__  |\n",
    "\\_\\_le\\_\\_               | __Y__  | __Y__  | __Y__  | __Y__  | __Y__  | __Y__  | __Y__  |\n",
    "\\_\\_lt\\_\\_               | __Y__  | __Y__  | __Y__  | __Y__  | __Y__  | __Y__  | __Y__  |\n",
    "\\_\\_ne\\_\\_               | __Y__  | __Y__  | __Y__  | __Y__  | __Y__  | __Y__  | __Y__  |\n",
    "\\_\\_new\\_\\_              | __Y__  | __Y__  | __Y__  | __Y__  | __Y__  | __Y__  | __Y__  |\n",
    "\\_\\_reduce\\_\\_           | __Y__  | __Y__  | __Y__  | __Y__  | __Y__  | __Y__  | __Y__  |\n",
    "\\_\\_reduce_ex\\_\\_        | __Y__  | __Y__  | __Y__  | __Y__  | __Y__  | __Y__  | __Y__  |\n",
    "\\_\\_repr\\_\\_             | __Y__  | __Y__  | __Y__  | __Y__  | __Y__  | __Y__  | __Y__  |\n",
    "\\_\\_setattr\\_\\_          | __Y__  | __Y__  | __Y__  | __Y__  | __Y__  | __Y__  | __Y__  |\n",
    "\\_\\_sizeof\\_\\_           | __Y__  | __Y__  | __Y__  | __Y__  | __Y__  | __Y__  | __Y__  |\n",
    "\\_\\_str\\_\\_              | __Y__  | __Y__  | __Y__  | __Y__  | __Y__  | __Y__  | __Y__  |\n",
    "\\_\\_subclasshook\\_\\_     | __Y__  | __Y__  | __Y__  | __Y__  | __Y__  | __Y__  | __Y__  |\n",
    "\\_\\_add\\_\\_              | N      | __Y__  | __Y__  | __Y__  | N      | N      | N      |\n",
    "\\_\\_contains\\_\\_         | N      | __Y__  | __Y__  | __Y__  | __Y__  | __Y__  | N      |\n",
    "\\_\\_getitem\\_\\_          | N      | __Y__  | __Y__  | __Y__  | __Y__  | __Y__  | N      |\n",
    "\\_\\_getnewargs\\_\\_       | N      | __Y__  | N      | __Y__  | N      | N      | N      |\n",
    "\\_\\_iter\\_\\_             | N      | __Y__  | __Y__  | __Y__  | __Y__  | __Y__  | N      |\n",
    "\\_\\_len\\_\\_              | N      | __Y__  | __Y__  | __Y__  | __Y__  | __Y__  | N      |\n",
    "\\_\\_mod\\_\\_              | N      | __Y__  | N      | N      | N      | N      | N      |\n",
    "\\_\\_mul\\_\\_              | N      | __Y__  | __Y__  | __Y__  | N      | N      | N      |\n",
    "\\_\\_rmod\\_\\_             | N      | __Y__  | N      | N      | N      | N      | N      |\n",
    "\\_\\_rmul\\_\\_             | N      | __Y__  | __Y__  | __Y__  | N      | N      | N      |\n",
    "\\_\\_delitem\\_\\_          | N      | N      | __Y__  | N      | __Y__  | __Y__  | N      |\n",
    "\\_\\_iadd\\_\\_             | N      | N      | __Y__  | N      | N      | N      | N      |\n",
    "\\_\\_imul\\_\\_             | N      | N      | __Y__  | N      | N      | N      | N      |\n",
    "\\_\\_reversed\\_\\_         | N      | N      | __Y__  | N      | N      | N      | N      |\n",
    "\\_\\_setitem\\_\\_          | N      | N      | __Y__  | N      | __Y__  | __Y__  | N      |\n",
    "\\_\\_copy\\_\\_             | N      | N      | N      | N      | N      | __Y__  | N      |\n",
    "\\_\\_missing\\_\\_          | N      | N      | N      | N      | N      | __Y__  | N      |\n",
    "\\_\\_annotations\\_\\_      | N      | N      | N      | N      | N      | N      | __Y__  |\n",
    "\\_\\_call\\_\\_             | N      | N      | N      | N      | N      | N      | __Y__  |\n",
    "\\_\\_closure\\_\\_          | N      | N      | N      | N      | N      | N      | __Y__  |\n",
    "\\_\\_code\\_\\_             | N      | N      | N      | N      | N      | N      | __Y__  |\n",
    "\\_\\_defaults\\_\\_         | N      | N      | N      | N      | N      | N      | __Y__  |\n",
    "\\_\\_dict\\_\\_             | N      | N      | N      | N      | N      | N      | __Y__  |\n",
    "\\_\\_get\\_\\_              | N      | N      | N      | N      | N      | N      | __Y__  |\n",
    "\\_\\_globals\\_\\_          | N      | N      | N      | N      | N      | N      | __Y__  |\n",
    "\\_\\_kwdefaults\\_\\_       | N      | N      | N      | N      | N      | N      | __Y__  |\n",
    "\\_\\_module\\_\\_           | N      | N      | N      | N      | N      | N      | __Y__  |\n",
    "\\_\\_name\\_\\_             | N      | N      | N      | N      | N      | N      | __Y__  |\n",
    "\\_\\_qualname\\_\\_         | N      | N      | N      | N      | N      | N      | __Y__  |"
   ]
  },
  {
   "cell_type": "code",
   "execution_count": 1,
   "metadata": {},
   "outputs": [
    {
     "data": {
      "text/plain": [
       "False"
      ]
     },
     "execution_count": 1,
     "metadata": {},
     "output_type": "execute_result"
    }
   ],
   "source": [
    "not True"
   ]
  },
  {
   "cell_type": "code",
   "execution_count": 7,
   "metadata": {},
   "outputs": [
    {
     "data": {
      "text/plain": [
       "False"
      ]
     },
     "execution_count": 7,
     "metadata": {},
     "output_type": "execute_result"
    }
   ],
   "source": [
    "callable(True)"
   ]
  },
  {
   "cell_type": "code",
   "execution_count": 5,
   "metadata": {},
   "outputs": [
    {
     "name": "stdout",
     "output_type": "stream",
     "text": [
      "Object `is` not found.\n"
     ]
    }
   ],
   "source": [
    "??is"
   ]
  },
  {
   "cell_type": "code",
   "execution_count": 9,
   "metadata": {},
   "outputs": [
    {
     "data": {
      "text/plain": [
       "True"
      ]
     },
     "execution_count": 9,
     "metadata": {},
     "output_type": "execute_result"
    }
   ],
   "source": [
    "callable(int)"
   ]
  },
  {
   "cell_type": "code",
   "execution_count": null,
   "metadata": {},
   "outputs": [],
   "source": []
  }
 ],
 "metadata": {
  "kernelspec": {
   "display_name": "Python 3",
   "language": "python",
   "name": "python3"
  },
  "language_info": {
   "codemirror_mode": {
    "name": "ipython",
    "version": 3
   },
   "file_extension": ".py",
   "mimetype": "text/x-python",
   "name": "python",
   "nbconvert_exporter": "python",
   "pygments_lexer": "ipython3",
   "version": "3.6.5"
  }
 },
 "nbformat": 4,
 "nbformat_minor": 2
}
