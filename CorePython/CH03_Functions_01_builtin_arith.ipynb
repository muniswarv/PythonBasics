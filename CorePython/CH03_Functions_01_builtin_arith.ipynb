{
 "cells": [
  {
   "cell_type": "markdown",
   "metadata": {},
   "source": [
    "# Functions: Builtin - Arith"
   ]
  },
  {
   "cell_type": "markdown",
   "metadata": {},
   "source": [
    "## method : sum, min, max"
   ]
  },
  {
   "cell_type": "code",
   "execution_count": 10,
   "metadata": {},
   "outputs": [],
   "source": [
    "s = \"abcdefghij\";\n",
    "l = [0, 1, 2, 3, 4, 5, 6, 7, 8, 9]\n",
    "d = { \"a\": 0, \"b\": 1, \"c\": 2, \"d\": 3, \"e\": 4 }\n",
    "t = (0, 1, 2, 3, 4, 5, 6, 7, 8, 9)\n",
    "S = set([0, 1, 2, 3, 4, 5, 6, 7, 8, 9])\n",
    "\n",
    "d_i = dict(zip(l, s))"
   ]
  },
  {
   "cell_type": "code",
   "execution_count": 68,
   "metadata": {},
   "outputs": [
    {
     "data": {
      "text/plain": [
       "45"
      ]
     },
     "execution_count": 68,
     "metadata": {},
     "output_type": "execute_result"
    }
   ],
   "source": [
    "sum(range(10))"
   ]
  },
  {
   "cell_type": "code",
   "execution_count": 11,
   "metadata": {},
   "outputs": [
    {
     "name": "stdout",
     "output_type": "stream",
     "text": [
      "sum(l)   : 45\n",
      "sum(t)   : 45\n",
      "sum(d_i) : 45\n"
     ]
    }
   ],
   "source": [
    "print( \"sum(l)   :\" , sum(l))\n",
    "print( \"sum(t)   :\" , sum(t))\n",
    "print( \"sum(d_i) :\" , sum(d_i))"
   ]
  },
  {
   "cell_type": "code",
   "execution_count": 19,
   "metadata": {},
   "outputs": [
    {
     "name": "stdout",
     "output_type": "stream",
     "text": [
      "min(l)   : 0\n",
      "min(t)   : 0\n",
      "min(d_i) : 0\n",
      "min(s) : a\n",
      "min(d) : a\n",
      "min(S) : 0\n"
     ]
    }
   ],
   "source": [
    "print( \"min(l)   :\" , min(l))\n",
    "print( \"min(t)   :\" , min(t))\n",
    "print( \"min(d_i) :\" , min(d_i))\n",
    "\n",
    "\n",
    "print( \"min(s) :\" , min(s))\n",
    "print( \"min(d) :\" , min(d))\n",
    "print( \"min(S) :\" , min(S))"
   ]
  },
  {
   "cell_type": "code",
   "execution_count": 18,
   "metadata": {},
   "outputs": [
    {
     "name": "stdout",
     "output_type": "stream",
     "text": [
      "max(l)   : 9\n",
      "max(t)   : 9\n",
      "max(d_i) : 9\n",
      "max(s) : j\n",
      "max(d) : e\n",
      "max(S) : 9\n"
     ]
    }
   ],
   "source": [
    "print( \"max(l)   :\" , max(l))\n",
    "print( \"max(t)   :\" , max(t))\n",
    "print( \"max(d_i) :\" , max(d_i))\n",
    "\n",
    "print( \"max(s) :\" , max(s))\n",
    "print( \"max(d) :\" , max(d))\n",
    "print( \"max(S) :\" , max(S))"
   ]
  },
  {
   "cell_type": "code",
   "execution_count": null,
   "metadata": {},
   "outputs": [],
   "source": []
  }
 ],
 "metadata": {
  "kernelspec": {
   "display_name": "Python 3",
   "language": "python",
   "name": "python3"
  },
  "language_info": {
   "codemirror_mode": {
    "name": "ipython",
    "version": 3
   },
   "file_extension": ".py",
   "mimetype": "text/x-python",
   "name": "python",
   "nbconvert_exporter": "python",
   "pygments_lexer": "ipython3",
   "version": "3.6.5"
  }
 },
 "nbformat": 4,
 "nbformat_minor": 2
}
