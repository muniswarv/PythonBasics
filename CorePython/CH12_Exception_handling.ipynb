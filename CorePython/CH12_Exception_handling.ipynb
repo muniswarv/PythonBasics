{
 "cells": [
  {
   "cell_type": "markdown",
   "metadata": {},
   "source": [
    "# Exception Handling\n",
    "\n",
    "Intro:\n",
    "    * Learn to catch exceptions\n",
    "    * Different exception class\n",
    "    * Create your own exception\n"
   ]
  },
  {
   "cell_type": "markdown",
   "metadata": {},
   "source": [
    "## Catch Exception with Global parent class"
   ]
  },
  {
   "cell_type": "code",
   "execution_count": 1,
   "metadata": {},
   "outputs": [
    {
     "name": "stdout",
     "output_type": "stream",
     "text": [
      "-=-=-=-=-=-=-=-=-=-=-=-=-=-=-=-=-=-=-=-=-=-=-=-=-=-=-=-=-=-=-=-=-=-=-=\n",
      "Caught an exemption. Message : division by zero\n"
     ]
    }
   ],
   "source": [
    "try:\n",
    "    1/0\n",
    "except Exception as err:\n",
    "    print(\"-=\"*35)        \n",
    "    print(\"Caught an exemption. Message : {msg}\".format(msg=str(err)))\n",
    "    "
   ]
  },
  {
   "cell_type": "code",
   "execution_count": 2,
   "metadata": {},
   "outputs": [
    {
     "name": "stdout",
     "output_type": "stream",
     "text": [
      "-- I excutes second on Exception\n"
     ]
    }
   ],
   "source": [
    "try:\n",
    "    try:\n",
    "        1/0\n",
    "    except Exception as err :\n",
    "        print(\"At Level 1 : Exception message : {err}\".format(err))\n",
    "        raise\n",
    "except Exception as err:\n",
    "    print(\"-- I excutes second on Exception\")"
   ]
  },
  {
   "cell_type": "code",
   "execution_count": 3,
   "metadata": {},
   "outputs": [
    {
     "name": "stdout",
     "output_type": "stream",
     "text": [
      "\n",
      "#--- Exception with int(0.0)\n",
      "int(0.0)  0\n",
      "--- program will exit on an exception\n",
      "--- Use me to close resources like file handles\n",
      "\n",
      "\n",
      "\n",
      "#--- Exception with int(x)\n",
      "Caught an exemption. Message : invalid literal for int() with base 10: 'x'\n",
      "--- program will exit on an exception\n",
      "--- Use me to close resources like file handles\n",
      "\n",
      "\n"
     ]
    }
   ],
   "source": [
    "# In both try/exception case finally will be executed\n",
    "\n",
    "objs = [0.0, \"x\"]\n",
    "for obj in objs:\n",
    "    print(\"\\n#--- Exception with int({0})\".format(obj))\n",
    "    try:\n",
    "        print( \"int({0}) \".format(obj), int(obj) )\n",
    "        \n",
    "    except Exception as err:\n",
    "        print(\"Caught an exemption. Message : {msg}\".format(msg=str(err)))\n",
    "    finally:\n",
    "        print(\"--- program will exit on an exception\")\n",
    "        print(\"--- Use me to close resources like file handles\\n\\n\") \n",
    "    \n"
   ]
  },
  {
   "cell_type": "markdown",
   "metadata": {},
   "source": [
    "## Catch Specific Exception"
   ]
  },
  {
   "cell_type": "code",
   "execution_count": 5,
   "metadata": {},
   "outputs": [
    {
     "ename": "SyntaxError",
     "evalue": "unexpected EOF while parsing (<ipython-input-5-3e6cdcbee5ac>, line 4)",
     "output_type": "error",
     "traceback": [
      "\u001b[0;36m  File \u001b[0;32m\"<ipython-input-5-3e6cdcbee5ac>\"\u001b[0;36m, line \u001b[0;32m4\u001b[0m\n\u001b[0;31m    \u001b[0m\n\u001b[0m    ^\u001b[0m\n\u001b[0;31mSyntaxError\u001b[0m\u001b[0;31m:\u001b[0m unexpected EOF while parsing\n"
     ]
    }
   ],
   "source": [
    "try:\n",
    "    assert(1)\n",
    "except AssertionError as err:\n",
    "    "
   ]
  },
  {
   "cell_type": "code",
   "execution_count": 6,
   "metadata": {},
   "outputs": [
    {
     "ename": "ModuleNotFoundError",
     "evalue": "No module named 'BaseException'",
     "output_type": "error",
     "traceback": [
      "\u001b[0;31m---------------------------------------------------------------------------\u001b[0m",
      "\u001b[0;31mModuleNotFoundError\u001b[0m                       Traceback (most recent call last)",
      "\u001b[0;32m<ipython-input-6-59bf4db8fb20>\u001b[0m in \u001b[0;36m<module>\u001b[0;34m()\u001b[0m\n\u001b[0;32m----> 1\u001b[0;31m \u001b[0;32mimport\u001b[0m \u001b[0mBaseException\u001b[0m\u001b[0;34m\u001b[0m\u001b[0m\n\u001b[0m",
      "\u001b[0;31mModuleNotFoundError\u001b[0m: No module named 'BaseException'"
     ]
    }
   ],
   "source": [
    "import BaseException"
   ]
  },
  {
   "cell_type": "code",
   "execution_count": 7,
   "metadata": {},
   "outputs": [
    {
     "data": {
      "text/plain": [
       "type"
      ]
     },
     "execution_count": 7,
     "metadata": {},
     "output_type": "execute_result"
    }
   ],
   "source": [
    "Exception.__class__"
   ]
  },
  {
   "cell_type": "code",
   "execution_count": 8,
   "metadata": {},
   "outputs": [
    {
     "data": {
      "text/plain": [
       "builtin_function_or_method"
      ]
     },
     "execution_count": 8,
     "metadata": {},
     "output_type": "execute_result"
    }
   ],
   "source": [
    "type(Exception.__subclasshook__)"
   ]
  },
  {
   "cell_type": "raw",
   "metadata": {},
   "source": [
    "Intro: All Built-in Exceptions\n",
    "\n",
    "Class | Description\n",
    ":--- | :---\n",
    "Exception            | Base class for all exceptions\n",
    "StopIteration        | Raised when the next() method of an iterator does not point to any object.\n",
    "SystemExit           | Raised by the sys.exit() function.\n",
    "StandardError        | Base class for all built-in exceptions except StopIteration and SystemExit.\n",
    "ArithmeticError      | Base class for all errors that occur for numeric calculation.\n",
    "OverflowError        | Raised when a calculation exceeds maximum limit for a numeric type.\n",
    "FloatingPointError   | Raised when a floating point calculation fails.\n",
    "ZeroDivisionError    | Raised when division or modulo by zero takes place for all numeric types.\n",
    "AssertionError       | Raised in case of failure of the Assert statement.\n",
    "AttributeError       | Raised in case of failure of attribute reference or assignment.\n",
    "EOFError             | Raised when there is no input from either the raw_input() or input() \n",
    "                     | function and the end of file is reached.\n",
    "ImportError          | Raised when an import statement fails.\n",
    "KeyboardInterrupt    | Raised when the user interrupts program execution, usually by pressing Ctrl+c.\n",
    "LookupError          | Base class for all lookup errors.\n",
    "IndexError           | Raised when an index is not found in a sequence.\n",
    "KeyError             | Raised when the specified key is not found in the dictionary.\n",
    "NameError            | Raised when an identifier is not found in the local or global namespace.\n",
    "UnboundLocalError    | Raised when trying to access a local variable in a function or method\n",
    "                     | but no value has been assigned to it.\n",
    "EnvironmentError     | Base class for all exceptions that occur outside the Python environment.\n",
    "IOError              | Raised when an input/ output operation fails, such as the print statement or\n",
    "                     | the open() function when trying to open a file that does not exist.\n",
    "OSError              | Raised for operating system-related errors.\n",
    "SyntaxError          | Raised when there is an error in Python syntax.\n",
    "IndentationError     | Raised when indentation is not specified properly.\n",
    "SystemError          | Raised when the interpreter finds an internal problem, \n",
    "                     | but when this error is encountered the Python interpreter does not exit.\n",
    "SystemExit           | Raised when Python interpreter is quit by using the sys.exit() function.\n",
    "                     | If not handled in the code, causes the interpreter to exit.\n",
    "TypeError            | Raised when an operation or function is attempted that is invalid for the specified data type.\n",
    "ValueError           | Raised when the built-in function for a data type has the valid type of arguments,\n",
    "                     | but the arguments have invalid values specified.\n",
    "RuntimeError         | Raised when a generated error does not fall into any category.\n",
    "NotImplementedError  | Raised when an abstract method that needs to be implemented in an inherited class is not actually implemented.\n"
   ]
  },
  {
   "cell_type": "code",
   "execution_count": 9,
   "metadata": {},
   "outputs": [
    {
     "name": "stdout",
     "output_type": "stream",
     "text": [
      "'ValueError' :  invalid literal for int() with base 10: 'a'\n"
     ]
    }
   ],
   "source": [
    "try:\n",
    "    int(\"a\")\n",
    "except ValueError as err:\n",
    "    print(\"'ValueError' : \", err)"
   ]
  },
  {
   "cell_type": "code",
   "execution_count": 10,
   "metadata": {},
   "outputs": [
    {
     "ename": "IndentationError",
     "evalue": "unexpected indent (<ipython-input-10-395d2b5a849a>, line 3)",
     "output_type": "error",
     "traceback": [
      "\u001b[0;36m  File \u001b[0;32m\"<ipython-input-10-395d2b5a849a>\"\u001b[0;36m, line \u001b[0;32m3\u001b[0m\n\u001b[0;31m    print(\"line 2\")\u001b[0m\n\u001b[0m    ^\u001b[0m\n\u001b[0;31mIndentationError\u001b[0m\u001b[0;31m:\u001b[0m unexpected indent\n"
     ]
    }
   ],
   "source": [
    "try:\n",
    "    print(\"line 1\")\n",
    "      print(\"line 2\")\n",
    "except Exception as err:\n",
    "    print(\"'IndentationError' : \", err)"
   ]
  },
  {
   "cell_type": "code",
   "execution_count": 11,
   "metadata": {},
   "outputs": [
    {
     "name": "stdout",
     "output_type": "stream",
     "text": [
      "'IndexError' :  list index out of range \n",
      "#-=-=-=-=-=-=-=-=-=-=-=-=-=-=-=-=-=-=-=-=-=-=-=-=-=-=-=-=-=-=-=-=-=-=-=\n"
     ]
    },
    {
     "ename": "IndexError",
     "evalue": "list index out of range",
     "output_type": "error",
     "traceback": [
      "\u001b[0;31m---------------------------------------------------------------------------\u001b[0m",
      "\u001b[0;31mIndexError\u001b[0m                                Traceback (most recent call last)",
      "\u001b[0;32m<ipython-input-11-7857f141854d>\u001b[0m in \u001b[0;36m<module>\u001b[0;34m()\u001b[0m\n\u001b[1;32m      2\u001b[0m \u001b[0;34m\u001b[0m\u001b[0m\n\u001b[1;32m      3\u001b[0m \u001b[0;32mtry\u001b[0m\u001b[0;34m:\u001b[0m\u001b[0;34m\u001b[0m\u001b[0m\n\u001b[0;32m----> 4\u001b[0;31m     \u001b[0ml\u001b[0m\u001b[0;34m[\u001b[0m\u001b[0;36m3\u001b[0m\u001b[0;34m]\u001b[0m\u001b[0;34m\u001b[0m\u001b[0m\n\u001b[0m\u001b[1;32m      5\u001b[0m \u001b[0;32mexcept\u001b[0m \u001b[0mIndexError\u001b[0m \u001b[0;32mas\u001b[0m \u001b[0merr\u001b[0m\u001b[0;34m:\u001b[0m\u001b[0;34m\u001b[0m\u001b[0m\n\u001b[1;32m      6\u001b[0m     \u001b[0mprint\u001b[0m\u001b[0;34m(\u001b[0m\u001b[0;34m\"'IndexError' : \"\u001b[0m\u001b[0;34m,\u001b[0m \u001b[0merr\u001b[0m\u001b[0;34m,\u001b[0m \u001b[0;34m\"\\n#\"\u001b[0m\u001b[0;34m+\u001b[0m\u001b[0;34m\"-=\"\u001b[0m\u001b[0;34m*\u001b[0m\u001b[0;36m35\u001b[0m\u001b[0;34m)\u001b[0m\u001b[0;34m\u001b[0m\u001b[0m\n",
      "\u001b[0;31mIndexError\u001b[0m: list index out of range"
     ]
    }
   ],
   "source": [
    "l = [1, 2]\n",
    "\n",
    "try:\n",
    "    l[3]\n",
    "except IndexError as err:\n",
    "    print(\"'IndexError' : \", err, \"\\n#\"+\"-=\"*35)\n",
    "    raise"
   ]
  },
  {
   "cell_type": "code",
   "execution_count": 12,
   "metadata": {},
   "outputs": [
    {
     "name": "stdout",
     "output_type": "stream",
     "text": [
      "'KeyError' :  3 \n",
      "#-=-=-=-=-=-=-=-=-=-=-=-=-=-=-=-=-=-=-=-=-=-=-=-=-=-=-=-=-=-=-=-=-=-=-=\n"
     ]
    },
    {
     "ename": "KeyError",
     "evalue": "3",
     "output_type": "error",
     "traceback": [
      "\u001b[0;31m---------------------------------------------------------------------------\u001b[0m",
      "\u001b[0;31mKeyError\u001b[0m                                  Traceback (most recent call last)",
      "\u001b[0;32m<ipython-input-12-4f1713983e59>\u001b[0m in \u001b[0;36m<module>\u001b[0;34m()\u001b[0m\n\u001b[1;32m      1\u001b[0m \u001b[0md\u001b[0m \u001b[0;34m=\u001b[0m \u001b[0;34m{\u001b[0m\u001b[0;34m}\u001b[0m\u001b[0;34m\u001b[0m\u001b[0m\n\u001b[1;32m      2\u001b[0m \u001b[0;32mtry\u001b[0m\u001b[0;34m:\u001b[0m\u001b[0;34m\u001b[0m\u001b[0m\n\u001b[0;32m----> 3\u001b[0;31m     \u001b[0md\u001b[0m\u001b[0;34m[\u001b[0m\u001b[0;36m3\u001b[0m\u001b[0;34m]\u001b[0m\u001b[0;34m\u001b[0m\u001b[0m\n\u001b[0m\u001b[1;32m      4\u001b[0m \u001b[0;32mexcept\u001b[0m \u001b[0mKeyError\u001b[0m \u001b[0;32mas\u001b[0m \u001b[0merr\u001b[0m\u001b[0;34m:\u001b[0m\u001b[0;34m\u001b[0m\u001b[0m\n\u001b[1;32m      5\u001b[0m     \u001b[0mprint\u001b[0m\u001b[0;34m(\u001b[0m\u001b[0;34m\"'KeyError' : \"\u001b[0m\u001b[0;34m,\u001b[0m \u001b[0merr\u001b[0m\u001b[0;34m,\u001b[0m \u001b[0;34m\"\\n#\"\u001b[0m\u001b[0;34m+\u001b[0m\u001b[0;34m\"-=\"\u001b[0m\u001b[0;34m*\u001b[0m\u001b[0;36m35\u001b[0m\u001b[0;34m)\u001b[0m\u001b[0;34m\u001b[0m\u001b[0m\n",
      "\u001b[0;31mKeyError\u001b[0m: 3"
     ]
    }
   ],
   "source": [
    "d = {}\n",
    "try:\n",
    "    d[3]\n",
    "except KeyError as err:\n",
    "    print(\"'KeyError' : \", err, \"\\n#\"+\"-=\"*35)\n",
    "    raise"
   ]
  },
  {
   "cell_type": "markdown",
   "metadata": {},
   "source": [
    "## Custom Exception\n",
    "\n",
    "Create and catch with custom exception name"
   ]
  },
  {
   "cell_type": "code",
   "execution_count": 13,
   "metadata": {},
   "outputs": [
    {
     "name": "stdout",
     "output_type": "stream",
     "text": [
      "'UsrCustomErr' :  'UsrCustomErr'-User created exceptions \n",
      "#-=-=-=-=-=-=-=-=-=-=-=-=-=-=-=-=-=-=-=-=-=-=-=-=-=-=-=-=-=-=-=-=-=-=-=\n"
     ]
    },
    {
     "ename": "UsrCustomErr",
     "evalue": "'UsrCustomErr'-User created exceptions",
     "output_type": "error",
     "traceback": [
      "\u001b[0;31m---------------------------------------------------------------------------\u001b[0m",
      "\u001b[0;31mUsrCustomErr\u001b[0m                              Traceback (most recent call last)",
      "\u001b[0;32m<ipython-input-13-6c3c87efa9bc>\u001b[0m in \u001b[0;36m<module>\u001b[0;34m()\u001b[0m\n\u001b[1;32m      4\u001b[0m \u001b[0;34m\u001b[0m\u001b[0m\n\u001b[1;32m      5\u001b[0m \u001b[0;32mtry\u001b[0m\u001b[0;34m:\u001b[0m\u001b[0;34m\u001b[0m\u001b[0m\n\u001b[0;32m----> 6\u001b[0;31m     \u001b[0;32mraise\u001b[0m \u001b[0mUsrCustomErr\u001b[0m\u001b[0;34m(\u001b[0m\u001b[0;34m\"User created exceptions\"\u001b[0m\u001b[0;34m)\u001b[0m\u001b[0;34m\u001b[0m\u001b[0m\n\u001b[0m\u001b[1;32m      7\u001b[0m \u001b[0;32mexcept\u001b[0m \u001b[0mUsrCustomErr\u001b[0m \u001b[0;32mas\u001b[0m \u001b[0merr\u001b[0m\u001b[0;34m:\u001b[0m\u001b[0;34m\u001b[0m\u001b[0m\n\u001b[1;32m      8\u001b[0m     \u001b[0mprint\u001b[0m\u001b[0;34m(\u001b[0m\u001b[0;34m\"'UsrCustomErr' : \"\u001b[0m\u001b[0;34m,\u001b[0m \u001b[0merr\u001b[0m\u001b[0;34m,\u001b[0m \u001b[0;34m\"\\n#\"\u001b[0m\u001b[0;34m+\u001b[0m\u001b[0;34m\"-=\"\u001b[0m\u001b[0;34m*\u001b[0m\u001b[0;36m35\u001b[0m\u001b[0;34m)\u001b[0m\u001b[0;34m\u001b[0m\u001b[0m\n",
      "\u001b[0;31mUsrCustomErr\u001b[0m: 'UsrCustomErr'-User created exceptions"
     ]
    }
   ],
   "source": [
    "class UsrCustomErr(Exception):\n",
    "    def __init__(self, msg):\n",
    "        Exception.__init__(self, \"'UsrCustomErr'-\" + msg)\n",
    "\n",
    "try:\n",
    "    raise UsrCustomErr(\"User created exceptions\")\n",
    "except UsrCustomErr as err:\n",
    "    print(\"'UsrCustomErr' : \", err, \"\\n#\"+\"-=\"*35)\n",
    "    raise"
   ]
  },
  {
   "cell_type": "code",
   "execution_count": null,
   "metadata": {},
   "outputs": [],
   "source": []
  },
  {
   "cell_type": "code",
   "execution_count": null,
   "metadata": {},
   "outputs": [],
   "source": []
  },
  {
   "cell_type": "code",
   "execution_count": null,
   "metadata": {},
   "outputs": [],
   "source": []
  }
 ],
 "metadata": {
  "kernelspec": {
   "display_name": "Python 3",
   "language": "python",
   "name": "python3"
  },
  "language_info": {
   "codemirror_mode": {
    "name": "ipython",
    "version": 3
   },
   "file_extension": ".py",
   "mimetype": "text/x-python",
   "name": "python",
   "nbconvert_exporter": "python",
   "pygments_lexer": "ipython3",
   "version": "3.6.5"
  }
 },
 "nbformat": 4,
 "nbformat_minor": 2
}
