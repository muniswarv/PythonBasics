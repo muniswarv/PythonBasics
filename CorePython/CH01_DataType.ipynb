{
 "cells": [
  {
   "cell_type": "markdown",
   "metadata": {},
   "source": [
    "# Data Types"
   ]
  },
  {
   "cell_type": "markdown",
   "metadata": {},
   "source": [
    "Intro: Data Types\n",
    "    \n",
    "* number\n",
    "    * Integers\n",
    "    * Long Integers\n",
    "    * Floating Point Real Numbers\n",
    "    * Complex Numbers\n",
    "* Sequences\n",
    "    * String\n",
    "    * List\n",
    "    * Tuple\n",
    "    * Dict\n",
    "    * Set\n",
    "    \n",
    "    https://docs.python.org/3.5/library/stdtypes.html#\n",
    "    "
   ]
  },
  {
   "cell_type": "raw",
   "metadata": {},
   "source": [
    "Intro: Introduction to data types\n",
    "    \n",
    "dataType | method  | Class of data type\n",
    ":---     | :---    | :---\n",
    "int      | int     | number\n",
    "float    | float   | number\n",
    "complex  | complex | number\n",
    "         |         |\n",
    "list     | list    | Mutable sequence\n",
    "dict     | dict    | Mutable sequence\n",
    "set      | set     | Mutable sequence\n",
    "         |         |\n",
    "string   | str     | Immutable sequence\n",
    "tuple    | tuple   | Immutable sequence\n"
   ]
  },
  {
   "cell_type": "code",
   "execution_count": 48,
   "metadata": {},
   "outputs": [],
   "source": [
    "i   =  1 ; # Interger\n",
    "f   = 3.1415926535897932384626433832795 ; # Floating point number\n",
    "c   = 1.23 + 4.56J ; # Complex numbers"
   ]
  },
  {
   "cell_type": "code",
   "execution_count": 2,
   "metadata": {},
   "outputs": [
    {
     "name": "stdout",
     "output_type": "stream",
     "text": [
      "Interger : i =  1\n",
      "Float    : f =  3.141592653589793\n",
      "Complex  : c =  (1.23+4.56j)\n"
     ]
    }
   ],
   "source": [
    "print( \"Interger : i = \", i)\n",
    "print( \"Float    : f = \", f)\n",
    "print( \"Complex  : c = \", c)"
   ]
  },
  {
   "cell_type": "code",
   "execution_count": 30,
   "metadata": {},
   "outputs": [],
   "source": [
    "s = \"abcdefghij\";  # String\n",
    "l = [0, 1, 2, 3, 4, 5, 6, 7, 8, 9]; # List \n",
    "t = (0, 1, 2, 3, 4, 5, 6, 7, 8, 9); # Tuple\n",
    "d = { \"a\": 0, \"b\": 1, \"c\": 2, \"d\": 3, \"e\": 4 } ; # Dict\n",
    "S = { 0, 1, 2, 3, 4, 5, 6, 7, 8, 9} ; # Set "
   ]
  },
  {
   "cell_type": "code",
   "execution_count": 49,
   "metadata": {},
   "outputs": [
    {
     "name": "stdout",
     "output_type": "stream",
     "text": [
      "String   : s =  abcdefghij\n",
      "List     : l =  ['a', 'b', 'c']\n",
      "Tuple    : t =  ('a', 'b', 'c')\n",
      "Dict     : d =  {'a': 0, 'b': 1, 'c': 2, 'd': 3, 'e': 4}\n",
      "Set      : S =  {0, 1, 2, 3, 4, 5, 6, 7, 8, 9}\n"
     ]
    }
   ],
   "source": [
    "print( \"String   : s = \", s)\n",
    "print( \"List     : l = \", l)\n",
    "print( \"Tuple    : t = \", t)\n",
    "print( \"Dict     : d = \", d)\n",
    "print( \"Set      : S = \", S)"
   ]
  }
 ],
 "metadata": {
  "kernelspec": {
   "display_name": "Python 3",
   "language": "python",
   "name": "python3"
  },
  "language_info": {
   "codemirror_mode": {
    "name": "ipython",
    "version": 3
   },
   "file_extension": ".py",
   "mimetype": "text/x-python",
   "name": "python",
   "nbconvert_exporter": "python",
   "pygments_lexer": "ipython3",
   "version": "3.6.5"
  }
 },
 "nbformat": 4,
 "nbformat_minor": 2
}
