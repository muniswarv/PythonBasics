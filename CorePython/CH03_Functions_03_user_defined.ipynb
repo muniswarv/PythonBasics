{
 "cells": [
  {
   "cell_type": "markdown",
   "metadata": {},
   "source": [
    "# User Defined methods\n",
    "\n",
    "Create methods\n",
    "   * positional/mandatory arguments\n",
    "       * In function call, all positional arguments are manadatory, and  follow order\n",
    "       \n",
    "   * KeyWord/Defaults arguments\n",
    "       * define the default value\n",
    "       \n",
    "   * \n",
    "       \n",
    "   * Variable arguments\n",
    "       * Value list : \n",
    "           * In function call, all  arguments are manadatory, and  follow order\n",
    "   * Madatory: Key Word arguments\n",
    "   * Anonimus function\n",
    "     "
   ]
  },
  {
   "cell_type": "code",
   "execution_count": 1,
   "metadata": {},
   "outputs": [],
   "source": [
    "def mtd_name(arg1, arg2, *args, **kwargs):\n",
    "    # Body comes here\n",
    "    i = 0\n",
    "    return i"
   ]
  },
  {
   "cell_type": "markdown",
   "metadata": {},
   "source": [
    "## Positional/manadatory arguments"
   ]
  },
  {
   "cell_type": "code",
   "execution_count": 2,
   "metadata": {},
   "outputs": [],
   "source": [
    "\n",
    "def demo_args_position(arg1, arg2):\n",
    "    print(\"arg1   = \", arg1   )\n",
    "    print(\"arg2   = \", arg2   )\n"
   ]
  },
  {
   "cell_type": "code",
   "execution_count": 3,
   "metadata": {},
   "outputs": [
    {
     "name": "stdout",
     "output_type": "stream",
     "text": [
      "arg1   =  1\n",
      "arg2   =  2\n"
     ]
    }
   ],
   "source": [
    "demo_args_position(1, 2)"
   ]
  },
  {
   "cell_type": "markdown",
   "metadata": {},
   "source": [
    "## KeyWord/Defaults arguments"
   ]
  },
  {
   "cell_type": "code",
   "execution_count": 4,
   "metadata": {},
   "outputs": [],
   "source": [
    "def demo_args_dflt(arg1, e_arg1='e_dfltval1', e_arg2='e_dfltval2'):\n",
    "    print(\"arg1   = \", arg1   )\n",
    "    print(\"e_arg1 = \", e_arg1 )\n",
    "    print(\"e_arg2 = \", e_arg2 )\n",
    "    "
   ]
  },
  {
   "cell_type": "code",
   "execution_count": 5,
   "metadata": {},
   "outputs": [
    {
     "name": "stdout",
     "output_type": "stream",
     "text": [
      "arg1   =  usr_arg1\n",
      "e_arg1 =  e_dfltval1\n",
      "e_arg2 =  e_dfltval2\n"
     ]
    }
   ],
   "source": [
    "# KeyWord arguments\n",
    "demo_args_dflt(\"usr_arg1\")"
   ]
  },
  {
   "cell_type": "code",
   "execution_count": 6,
   "metadata": {},
   "outputs": [
    {
     "name": "stdout",
     "output_type": "stream",
     "text": [
      "arg1   =  usr_arg1\n",
      "e_arg1 =  e_dfltval1\n",
      "e_arg2 =  e_val2\n"
     ]
    }
   ],
   "source": [
    "demo_args_dflt(\"usr_arg1\", e_arg2=\"e_val2\")"
   ]
  },
  {
   "cell_type": "code",
   "execution_count": 7,
   "metadata": {},
   "outputs": [
    {
     "name": "stdout",
     "output_type": "stream",
     "text": [
      "arg1   =  usr_arg1\n",
      "e_arg1 =  e_val1\n",
      "e_arg2 =  e_val2\n"
     ]
    }
   ],
   "source": [
    "demo_args_dflt(\"usr_arg1\", e_arg2=\"e_val2\", e_arg1=\"e_val1\")"
   ]
  },
  {
   "cell_type": "code",
   "execution_count": 8,
   "metadata": {},
   "outputs": [
    {
     "name": "stdout",
     "output_type": "stream",
     "text": [
      "arg1   =  usr_arg1\n",
      "e_arg1 =  d_val1\n",
      "e_arg2 =  d_val2\n"
     ]
    }
   ],
   "source": [
    "d = { \"e_arg2\": \"d_val2\", \"e_arg1\": \"d_val1\" }\n",
    "demo_args_dflt(\"usr_arg1\", **d)"
   ]
  },
  {
   "cell_type": "markdown",
   "metadata": {},
   "source": [
    "## Variable positional, keyword arguments\n",
    "\n",
    "Usage: \n",
    "   * Both variable arguments and keyWord Arguments\n",
    "   * Mixed variable arguments and keyWord Arguments\n",
    "   \n",
    "Illegal usage:\n",
    "   * Positional/Variable arguments comes before Key Word arguments"
   ]
  },
  {
   "cell_type": "code",
   "execution_count": 9,
   "metadata": {},
   "outputs": [],
   "source": [
    "def demo_args_variable_dflt(arg1, *args, **kwargs):\n",
    "    print(\"arg1   =\", arg1   )\n",
    "    print(\"args   =\", args   )\n",
    "    print(\"kwargs =\", kwargs )"
   ]
  },
  {
   "cell_type": "code",
   "execution_count": 10,
   "metadata": {},
   "outputs": [
    {
     "name": "stdout",
     "output_type": "stream",
     "text": [
      "arg1   = arg1_val1\n",
      "args   = ('v_val1', 'v_val2')\n",
      "kwargs = {'d_arg1': 'd_val1', 'd_arg2': 'd_val1'}\n"
     ]
    }
   ],
   "source": [
    "demo_args_variable_dflt(\"arg1_val1\", \"v_val1\", \"v_val2\", d_arg1=\"d_val1\", d_arg2=\"d_val1\")"
   ]
  },
  {
   "cell_type": "code",
   "execution_count": 11,
   "metadata": {},
   "outputs": [
    {
     "name": "stdout",
     "output_type": "stream",
     "text": [
      "arg1   = arg1_val1\n",
      "args   = ()\n",
      "kwargs = {'d_arg1': 'd_val1', 'd_arg2': 'd_val1'}\n"
     ]
    }
   ],
   "source": [
    "demo_args_variable_dflt(\"arg1_val1\", d_arg1=\"d_val1\", d_arg2=\"d_val1\")"
   ]
  },
  {
   "cell_type": "code",
   "execution_count": 12,
   "metadata": {
    "scrolled": true
   },
   "outputs": [
    {
     "name": "stdout",
     "output_type": "stream",
     "text": [
      "arg1   = arg1_val1\n",
      "args   = ('v_val1', 'v_val2')\n",
      "kwargs = {}\n"
     ]
    }
   ],
   "source": [
    "demo_args_variable_dflt(\"arg1_val1\", \"v_val1\", \"v_val2\")"
   ]
  },
  {
   "cell_type": "code",
   "execution_count": 13,
   "metadata": {},
   "outputs": [
    {
     "name": "stdout",
     "output_type": "stream",
     "text": [
      "arg1   = arg1_val1\n",
      "args   = ('v_val1', 'v_val2')\n",
      "kwargs = {'d_arg1': 'd_val1', 'd_arg2': 'd_val1'}\n"
     ]
    }
   ],
   "source": [
    "l_args = ('v_val1', 'v_val2')\n",
    "d_kwargs = {'d_arg1': 'd_val1', 'd_arg2': 'd_val1'}\n",
    "\n",
    "demo_args_variable_dflt(\"arg1_val1\", *l_args, **d_kwargs)"
   ]
  },
  {
   "cell_type": "code",
   "execution_count": 14,
   "metadata": {},
   "outputs": [],
   "source": [
    "def demo_args_mixed(arg1, *args, e_arg2=\"e_dflt_val2\", e_arg1=\"e_dflt_val1\", **kwargs):\n",
    "    print(\"arg1   =\", arg1   )\n",
    "    print(\"e_arg1 =\", e_arg1 )\n",
    "    print(\"e_arg2 =\", e_arg2 )\n",
    "    print(\"args   =\", args   )\n",
    "    print(\"kwargs =\", kwargs )"
   ]
  },
  {
   "cell_type": "code",
   "execution_count": 15,
   "metadata": {},
   "outputs": [
    {
     "name": "stdout",
     "output_type": "stream",
     "text": [
      "arg1   = usr_arg1\n",
      "e_arg1 = e_dflt_val1\n",
      "e_arg2 = e_dflt_val2\n",
      "args   = ()\n",
      "kwargs = {}\n"
     ]
    }
   ],
   "source": [
    "demo_args_mixed(\"usr_arg1\")"
   ]
  },
  {
   "cell_type": "code",
   "execution_count": 16,
   "metadata": {},
   "outputs": [],
   "source": [
    "l_args = ('v_val1', 'v_val2')\n",
    "d_kwargs = {\"e_arg1\":\"e_val1\", 'd_arg1': 'd_val1', 'd_arg2': 'd_val1'}"
   ]
  },
  {
   "cell_type": "code",
   "execution_count": 17,
   "metadata": {},
   "outputs": [
    {
     "name": "stdout",
     "output_type": "stream",
     "text": [
      "arg1   = usr_arg1\n",
      "e_arg1 = e_val1\n",
      "e_arg2 = e_dflt_val2\n",
      "args   = ('v_val1', 'v_val2')\n",
      "kwargs = {'d_arg1': 'd_val1', 'd_arg2': 'd_val1'}\n"
     ]
    }
   ],
   "source": [
    "demo_args_mixed(\"usr_arg1\", *l_args, **d_kwargs)"
   ]
  },
  {
   "cell_type": "code",
   "execution_count": 18,
   "metadata": {
    "scrolled": true
   },
   "outputs": [
    {
     "name": "stdout",
     "output_type": "stream",
     "text": [
      "arg1   = usr_arg1\n",
      "e_arg1 = e_val1\n",
      "e_arg2 = e_val2\n",
      "args   = ('v_val1', 'v_val2')\n",
      "kwargs = {'d_arg1': 'd_val1', 'd_arg2': 'd_val1'}\n"
     ]
    }
   ],
   "source": [
    "demo_args_mixed(\"usr_arg1\", *l_args, e_arg2=\"e_val2\", **d_kwargs)"
   ]
  },
  {
   "cell_type": "markdown",
   "metadata": {},
   "source": [
    "### Illegal Usage"
   ]
  },
  {
   "cell_type": "code",
   "execution_count": 19,
   "metadata": {
    "scrolled": true
   },
   "outputs": [
    {
     "ename": "TypeError",
     "evalue": "demo_args_position() missing 1 required positional argument: 'arg2'",
     "output_type": "error",
     "traceback": [
      "\u001b[0;31m---------------------------------------------------------------------------\u001b[0m",
      "\u001b[0;31mTypeError\u001b[0m                                 Traceback (most recent call last)",
      "\u001b[0;32m<ipython-input-19-4dbd01e9db17>\u001b[0m in \u001b[0;36m<module>\u001b[0;34m()\u001b[0m\n\u001b[1;32m      1\u001b[0m \u001b[0;31m# Gets an exception, if one or more arguments missing\u001b[0m\u001b[0;34m\u001b[0m\u001b[0;34m\u001b[0m\u001b[0m\n\u001b[0;32m----> 2\u001b[0;31m \u001b[0mdemo_args_position\u001b[0m\u001b[0;34m(\u001b[0m\u001b[0;36m1\u001b[0m\u001b[0;34m)\u001b[0m\u001b[0;34m\u001b[0m\u001b[0m\n\u001b[0m",
      "\u001b[0;31mTypeError\u001b[0m: demo_args_position() missing 1 required positional argument: 'arg2'"
     ]
    }
   ],
   "source": [
    "# Gets an exception, if one or more arguments missing\n",
    "demo_args_position(1)"
   ]
  },
  {
   "cell_type": "code",
   "execution_count": 20,
   "metadata": {
    "scrolled": true
   },
   "outputs": [
    {
     "ename": "TypeError",
     "evalue": "demo_args_dflt() got an unexpected keyword argument 'e_junk'",
     "output_type": "error",
     "traceback": [
      "\u001b[0;31m---------------------------------------------------------------------------\u001b[0m",
      "\u001b[0;31mTypeError\u001b[0m                                 Traceback (most recent call last)",
      "\u001b[0;32m<ipython-input-20-809854b3c630>\u001b[0m in \u001b[0;36m<module>\u001b[0;34m()\u001b[0m\n\u001b[0;32m----> 1\u001b[0;31m \u001b[0mdemo_args_dflt\u001b[0m\u001b[0;34m(\u001b[0m\u001b[0;34m\"usr_arg1\"\u001b[0m\u001b[0;34m,\u001b[0m \u001b[0me_junk\u001b[0m\u001b[0;34m=\u001b[0m\u001b[0;34m\"\"\u001b[0m\u001b[0;34m)\u001b[0m\u001b[0;34m\u001b[0m\u001b[0m\n\u001b[0m",
      "\u001b[0;31mTypeError\u001b[0m: demo_args_dflt() got an unexpected keyword argument 'e_junk'"
     ]
    }
   ],
   "source": [
    "demo_args_dflt(\"usr_arg1\", e_junk=\"\")"
   ]
  },
  {
   "cell_type": "code",
   "execution_count": 21,
   "metadata": {
    "scrolled": true
   },
   "outputs": [
    {
     "ename": "TypeError",
     "evalue": "demo_args_mixed() got multiple values for keyword argument 'e_arg1'",
     "output_type": "error",
     "traceback": [
      "\u001b[0;31m---------------------------------------------------------------------------\u001b[0m",
      "\u001b[0;31mTypeError\u001b[0m                                 Traceback (most recent call last)",
      "\u001b[0;32m<ipython-input-21-a9c8761ff5f5>\u001b[0m in \u001b[0;36m<module>\u001b[0;34m()\u001b[0m\n\u001b[0;32m----> 1\u001b[0;31m \u001b[0mdemo_args_mixed\u001b[0m\u001b[0;34m(\u001b[0m\u001b[0;34m\"usr_arg1\"\u001b[0m\u001b[0;34m,\u001b[0m \u001b[0;34m*\u001b[0m\u001b[0ml_args\u001b[0m\u001b[0;34m,\u001b[0m \u001b[0me_arg1\u001b[0m\u001b[0;34m=\u001b[0m\u001b[0;34m\"e_val1\"\u001b[0m\u001b[0;34m,\u001b[0m \u001b[0;34m**\u001b[0m\u001b[0md_kwargs\u001b[0m\u001b[0;34m)\u001b[0m\u001b[0;34m\u001b[0m\u001b[0m\n\u001b[0m",
      "\u001b[0;31mTypeError\u001b[0m: demo_args_mixed() got multiple values for keyword argument 'e_arg1'"
     ]
    }
   ],
   "source": [
    "demo_args_mixed(\"usr_arg1\", *l_args, e_arg1=\"e_val1\", **d_kwargs)"
   ]
  },
  {
   "cell_type": "raw",
   "metadata": {},
   "source": [
    "lambda [arg1[, arg2, ... argN]]: expression"
   ]
  },
  {
   "cell_type": "code",
   "execution_count": null,
   "metadata": {},
   "outputs": [],
   "source": [
    "### lambda"
   ]
  },
  {
   "cell_type": "code",
   "execution_count": 28,
   "metadata": {},
   "outputs": [],
   "source": [
    "mySum =  lambda a, b: a + b"
   ]
  },
  {
   "cell_type": "code",
   "execution_count": 29,
   "metadata": {},
   "outputs": [
    {
     "data": {
      "text/plain": [
       "3"
      ]
     },
     "execution_count": 29,
     "metadata": {},
     "output_type": "execute_result"
    }
   ],
   "source": [
    "mySum(1, 2)"
   ]
  },
  {
   "cell_type": "code",
   "execution_count": null,
   "metadata": {},
   "outputs": [],
   "source": []
  }
 ],
 "metadata": {
  "kernelspec": {
   "display_name": "Python 3",
   "language": "python",
   "name": "python3"
  },
  "language_info": {
   "codemirror_mode": {
    "name": "ipython",
    "version": 3
   },
   "file_extension": ".py",
   "mimetype": "text/x-python",
   "name": "python",
   "nbconvert_exporter": "python",
   "pygments_lexer": "ipython3",
   "version": "3.6.5"
  }
 },
 "nbformat": 4,
 "nbformat_minor": 2
}
