{
 "cells": [
  {
   "cell_type": "markdown",
   "metadata": {},
   "source": [
    "# Operator : Data Type"
   ]
  },
  {
   "cell_type": "code",
   "execution_count": 1,
   "metadata": {},
   "outputs": [],
   "source": [
    "i_1   =  1 ; # Interger\n",
    "f_1   = 1.0 ; # Floating point number\n",
    "c_1   = 1 + 1J ; # Complex numbers\n",
    "\n",
    "i_2   =  2 ; # Interger\n",
    "f_2   = 2.0 ; # Floating point number\n",
    "c_2   = 2 + 2J ; # Complex numbers\n",
    "\n",
    "i_3   =  3 ; # Interger\n",
    "f_3   = 3.0 ; # Floating point number\n",
    "c_3   = 3 + 3J ; # Complex numbers"
   ]
  },
  {
   "cell_type": "code",
   "execution_count": 2,
   "metadata": {},
   "outputs": [
    {
     "name": "stdout",
     "output_type": "stream",
     "text": [
      "i_1 + i_2 =  3\n",
      "i_1 - i_2 =  -1\n",
      "i_1 * i_2 =  2\n",
      "i_3 / i_2 =  2.0\n",
      "i_3 % i_2 =  1\n"
     ]
    }
   ],
   "source": [
    "print( \"i_1 + i_2 = \", i_1 + i_2 )\n",
    "print( \"i_1 - i_2 = \", i_1 - i_2 )\n",
    "print( \"i_1 * i_2 = \", i_1 * i_2 )\n",
    "print( \"i_3 / i_2 = \", i_2 / i_1 )\n",
    "print( \"i_3 % i_2 = \", i_3 % i_2 )"
   ]
  },
  {
   "cell_type": "code",
   "execution_count": 3,
   "metadata": {},
   "outputs": [
    {
     "name": "stdout",
     "output_type": "stream",
     "text": [
      "f_1 + f_2 =  3.0\n",
      "f_1 - f_2 =  -1.0\n",
      "f_2 - f_1 =  1.0\n",
      "f_1 * f_2 =  2.0\n",
      "f_3 / f_2 =  2.0\n",
      "f_3 % f_2 =  1.0\n"
     ]
    }
   ],
   "source": [
    "print( \"f_1 + f_2 = \", f_1 + f_2 )\n",
    "print( \"f_1 - f_2 = \", f_1 - f_2 )\n",
    "print( \"f_2 - f_1 = \", f_2 - f_1 )\n",
    "print( \"f_1 * f_2 = \", f_1 * f_2 )\n",
    "print( \"f_3 / f_2 = \", f_2 / f_1 )\n",
    "print( \"f_3 % f_2 = \", f_3 % f_2 )\n",
    "\n"
   ]
  },
  {
   "cell_type": "code",
   "execution_count": 4,
   "metadata": {},
   "outputs": [
    {
     "name": "stdout",
     "output_type": "stream",
     "text": [
      "c_1 + c_2 =  (3+3j)\n",
      "c_1 - c_2 =  (-1-1j)\n",
      "c_2 - c_1 =  (1+1j)\n"
     ]
    }
   ],
   "source": [
    "print( \"c_1 + c_2 = \", c_1 + c_2 )\n",
    "print( \"c_1 - c_2 = \", c_1 - c_2 )\n",
    "print( \"c_2 - c_1 = \", c_2 - c_1 )"
   ]
  },
  {
   "cell_type": "code",
   "execution_count": null,
   "metadata": {},
   "outputs": [],
   "source": []
  },
  {
   "cell_type": "code",
   "execution_count": 5,
   "metadata": {},
   "outputs": [
    {
     "name": "stdout",
     "output_type": "stream",
     "text": [
      "i_1 + f_2 + c_3 =  (6+3j)\n"
     ]
    }
   ],
   "source": [
    "print( \"i_1 + f_2 + c_3 = \", i_1 + f_2 + c_3 )"
   ]
  },
  {
   "cell_type": "code",
   "execution_count": 6,
   "metadata": {},
   "outputs": [
    {
     "name": "stdout",
     "output_type": "stream",
     "text": [
      "i_1 + f_2 =  3.0\n"
     ]
    }
   ],
   "source": [
    "print( \"i_1 + f_2 = \", i_1 + f_2  )"
   ]
  },
  {
   "cell_type": "code",
   "execution_count": 7,
   "metadata": {},
   "outputs": [
    {
     "name": "stdout",
     "output_type": "stream",
     "text": [
      "c_3 / c_2 =  (2+0j)\n"
     ]
    },
    {
     "ename": "TypeError",
     "evalue": "can't mod complex numbers.",
     "output_type": "error",
     "traceback": [
      "\u001b[0;31m---------------------------------------------------------------------------\u001b[0m",
      "\u001b[0;31mTypeError\u001b[0m                                 Traceback (most recent call last)",
      "\u001b[0;32m<ipython-input-7-264a4f10b4f1>\u001b[0m in \u001b[0;36m<module>\u001b[0;34m()\u001b[0m\n\u001b[1;32m      1\u001b[0m \u001b[0mprint\u001b[0m\u001b[0;34m(\u001b[0m \u001b[0;34m\"c_3 / c_2 = \"\u001b[0m\u001b[0;34m,\u001b[0m \u001b[0mc_2\u001b[0m \u001b[0;34m/\u001b[0m \u001b[0mc_1\u001b[0m \u001b[0;34m)\u001b[0m\u001b[0;34m\u001b[0m\u001b[0m\n\u001b[0;32m----> 2\u001b[0;31m \u001b[0mprint\u001b[0m\u001b[0;34m(\u001b[0m \u001b[0;34m\"c_3 % c_2 = \"\u001b[0m\u001b[0;34m,\u001b[0m \u001b[0mc_3\u001b[0m \u001b[0;34m%\u001b[0m \u001b[0mc_2\u001b[0m \u001b[0;34m)\u001b[0m\u001b[0;34m\u001b[0m\u001b[0m\n\u001b[0m",
      "\u001b[0;31mTypeError\u001b[0m: can't mod complex numbers."
     ]
    }
   ],
   "source": [
    "print( \"c_3 / c_2 = \", c_2 / c_1 )\n",
    "print( \"c_3 % c_2 = \", c_3 % c_2 )"
   ]
  },
  {
   "cell_type": "code",
   "execution_count": 8,
   "metadata": {},
   "outputs": [
    {
     "name": "stdout",
     "output_type": "stream",
     "text": [
      "1 >  2 ==  False\n",
      "1 <  2 ==  True\n",
      "1 >= 2 ==  False\n",
      "3 <= 2 ==  False\n",
      "3 == 2 ==  False\n"
     ]
    }
   ],
   "source": [
    "print( i_1, \"> \", i_2 , \"== \", i_1 > i_2 )\n",
    "print( i_1, \"< \", i_2 , \"== \", i_1 < i_2 )\n",
    "print( i_1, \">=\", i_2 , \"== \", i_1 >= i_2 )\n",
    "print( i_3, \"<=\", i_2 , \"== \", i_2 <= i_1 )\n",
    "print( i_3, \"==\", i_2 , \"== \", i_3 == i_2 )\n"
   ]
  },
  {
   "cell_type": "code",
   "execution_count": 14,
   "metadata": {},
   "outputs": [
    {
     "name": "stdout",
     "output_type": "stream",
     "text": [
      "1 >  2 >  3 =>  False\n",
      "1 >  2 <  3 =>  False\n",
      "1 <  2 <  3 =>  True\n"
     ]
    }
   ],
   "source": [
    "print( i_1, \"> \", i_2, \"> \", i_3, \"=> \", i_1 > i_2 > i_3 )\n",
    "print( i_1, \"> \", i_2, \"< \", i_3, \"=> \", i_1 > i_2 < i_3 )\n",
    "print( i_1, \"< \", i_2, \"< \", i_3, \"=> \", i_1 < i_2 < i_3 )\n"
   ]
  },
  {
   "cell_type": "code",
   "execution_count": 9,
   "metadata": {},
   "outputs": [
    {
     "name": "stdout",
     "output_type": "stream",
     "text": [
      "1.0 >  2.0 ==  False\n",
      "3.0 >  2.0 ==  True\n",
      "\n",
      "1.0 <  2.0 ==  True\n",
      "3.0 <  2.0 ==  False\n",
      "\n",
      "1.0 >= 2.0 ==  False\n",
      "3.0 >= 2.0 ==  True\n",
      "\n",
      "1.0 <= 2.0 ==  True\n",
      "3.0 <= 2.0 ==  False\n",
      "\n",
      "3.0 == 2.0 ==  False\n",
      "2.0 == 2.0 ==  True\n"
     ]
    }
   ],
   "source": [
    "print( f_1, \"> \", f_2 , \"== \", f_1 > f_2 )\n",
    "print( f_3, \"> \", f_2 , \"== \", f_3 > f_2 )\n",
    "print()\n",
    "\n",
    "print( f_1, \"< \", f_2 , \"== \", f_1 < f_2 )\n",
    "print( f_3, \"< \", f_2 , \"== \", f_3 <= f_2 )\n",
    "print()\n",
    "\n",
    "print( f_1, \">=\", f_2 , \"== \", f_1 >= f_2 )\n",
    "print( f_3, \">=\", f_2 , \"== \", f_3 >= f_2 )\n",
    "print()\n",
    "\n",
    "print( f_1, \"<=\", f_2 , \"== \", f_1 <= f_2 )\n",
    "print( f_3, \"<=\", f_2 , \"== \", f_3 <= f_2 )\n",
    "print()\n",
    "\n",
    "print( f_3, \"==\", f_2 , \"== \", f_3 == f_2 )\n",
    "print( f_2, \"==\", f_2 , \"== \", f_2 == f_2 )\n"
   ]
  },
  {
   "cell_type": "code",
   "execution_count": 10,
   "metadata": {},
   "outputs": [
    {
     "name": "stdout",
     "output_type": "stream",
     "text": [
      "(3+3j) == (2+2j) =>  False\n",
      "(2+2j) == (2+2j) =>  True\n"
     ]
    }
   ],
   "source": [
    "# print( c_1, \"> \", c_2 , \"= \", c_1 > c_2 )\n",
    "# print( c_1, \"< \", c_2 , \"= \", c_1 < c_2 )\n",
    "# print( c_1, \">=\", c_2 , \"= \", c_1 >= c_2 )\n",
    "# print( c_3, \"<=\", c_2 , \"= \", c_2 <= c_1 )\n",
    "print( c_3, \"==\", c_2 , \"=> \", c_3 == c_2 )\n",
    "print( c_2, \"==\", c_2 , \"=> \", c_2 == c_2 )\n"
   ]
  },
  {
   "cell_type": "code",
   "execution_count": null,
   "metadata": {},
   "outputs": [],
   "source": []
  }
 ],
 "metadata": {
  "kernelspec": {
   "display_name": "Python 3",
   "language": "python",
   "name": "python3"
  },
  "language_info": {
   "codemirror_mode": {
    "name": "ipython",
    "version": 3
   },
   "file_extension": ".py",
   "mimetype": "text/x-python",
   "name": "python",
   "nbconvert_exporter": "python",
   "pygments_lexer": "ipython3",
   "version": "3.6.5"
  }
 },
 "nbformat": 4,
 "nbformat_minor": 2
}
