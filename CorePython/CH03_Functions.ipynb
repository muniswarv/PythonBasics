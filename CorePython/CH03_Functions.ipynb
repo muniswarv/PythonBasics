{
 "cells": [
  {
   "cell_type": "markdown",
   "metadata": {},
   "source": [
    "# Functions: Callable Objects"
   ]
  },
  {
   "cell_type": "raw",
   "metadata": {},
   "source": [
    "| Function type          | description                                                           |\n",
    "| :---                   | :---                                                                  |\n",
    "| Built-in functions     | A function implemented in C (for CPython), like len or time.strftime. |\n",
    "| Built-in methods       | Methods implemented in C, like dict.get.                              |\n",
    "| User-defined functions | Created with def statements or lambda expressions.                    |\n",
    "| Methods                | Functions defined in the body of a class.                             |\n",
    "| Magic Class            | Method predefined in object class, with certain task                  |\n",
    "| User-Defined Callable  | Class instance with __call__ method                                   |\n",
    "| Generator functions    | Functions or methods that use the yield keyword    "
   ]
  }
 ],
 "metadata": {
  "kernelspec": {
   "display_name": "Python 3",
   "language": "python",
   "name": "python3"
  },
  "language_info": {
   "codemirror_mode": {
    "name": "ipython",
    "version": 3
   },
   "file_extension": ".py",
   "mimetype": "text/x-python",
   "name": "python",
   "nbconvert_exporter": "python",
   "pygments_lexer": "ipython3",
   "version": "3.6.5"
  }
 },
 "nbformat": 4,
 "nbformat_minor": 2
}
