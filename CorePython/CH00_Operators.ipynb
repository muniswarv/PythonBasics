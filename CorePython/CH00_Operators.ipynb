{
 "cells": [
  {
   "cell_type": "code",
   "execution_count": 1,
   "metadata": {},
   "outputs": [
    {
     "name": "stdout",
     "output_type": "stream",
     "text": [
      "i = 1     => i =  1\n",
      "i = i + 2 => i =  3\n",
      "i = i - 2 => i =  1\n",
      "i = i * 3 => i =  3\n",
      "i = i / 3 => i =  1.0\n",
      "i = i % 2 => i =  1.0\n"
     ]
    }
   ],
   "source": [
    "i = 1      ; print (\"i = 1     => i = \", i)\n",
    "i = i + 2  ; print (\"i = i + 2 => i = \", i)\n",
    "i = i - 2  ; print (\"i = i - 2 => i = \", i)\n",
    "i = i * 3  ; print (\"i = i * 3 => i = \", i)\n",
    "i = i / 3  ; print (\"i = i / 3 => i = \", i)\n",
    "i = i % 2  ; print (\"i = i % 2 => i = \", i)"
   ]
  },
  {
   "cell_type": "code",
   "execution_count": 2,
   "metadata": {},
   "outputs": [
    {
     "name": "stdout",
     "output_type": "stream",
     "text": [
      "j = 1.0   => j =  1.0\n",
      "j = j + 2 => j =  3.0\n",
      "j = j - 2 => j =  1.0\n",
      "j = j * 3 => j =  3.0\n",
      "j = j / 3 => j =  1.0\n",
      "j = j % 2 => j =  1.0\n"
     ]
    }
   ],
   "source": [
    "j = 1.0    ; print (\"j = 1.0   => j = \", j)\n",
    "j = j + 2  ; print (\"j = j + 2 => j = \", j)\n",
    "j = j - 2  ; print (\"j = j - 2 => j = \", j)\n",
    "j = j * 3  ; print (\"j = j * 3 => j = \", j)\n",
    "j = j / 3  ; print (\"j = j / 3 => j = \", j)\n",
    "j = j % 2  ; print (\"j = j % 2 => j = \", j)"
   ]
  },
  {
   "cell_type": "code",
   "execution_count": 3,
   "metadata": {},
   "outputs": [
    {
     "name": "stdout",
     "output_type": "stream",
     "text": [
      "i = 1  => i =  1\n",
      "i += 2 => i =  3\n",
      "i *= 3 => i =  9\n",
      "i /= 3 => i =  3.0\n",
      "i %= 2 => i =  1.0\n"
     ]
    }
   ],
   "source": [
    "i = 1   ; print (\"i = 1  => i = \", i)\n",
    "i += 2  ; print (\"i += 2 => i = \", i)\n",
    "i *= 3  ; print (\"i *= 3 => i = \", i)\n",
    "i /= 3  ; print (\"i /= 3 => i = \", i)\n",
    "i %= 2  ; print (\"i %= 2 => i = \", i)"
   ]
  },
  {
   "cell_type": "code",
   "execution_count": 4,
   "metadata": {},
   "outputs": [
    {
     "name": "stdout",
     "output_type": "stream",
     "text": [
      "a = 1 ; b = 2\n"
     ]
    }
   ],
   "source": [
    "a = \"1\"\n",
    "b = \"2\"\n",
    "print(\"a =\", a, \"; b =\", b)"
   ]
  },
  {
   "cell_type": "code",
   "execution_count": 5,
   "metadata": {},
   "outputs": [
    {
     "name": "stdout",
     "output_type": "stream",
     "text": [
      "a = 1 ; b = 2\n",
      "a = 2 ; b = 1\n"
     ]
    }
   ],
   "source": [
    "print(\"a =\", a, \"; b =\", b)\n",
    "b, a = a, b\n",
    "print(\"a =\", a, \"; b =\", b)"
   ]
  },
  {
   "cell_type": "code",
   "execution_count": 6,
   "metadata": {},
   "outputs": [],
   "source": [
    "b, a = (1, 2)"
   ]
  },
  {
   "cell_type": "code",
   "execution_count": 7,
   "metadata": {},
   "outputs": [
    {
     "name": "stdout",
     "output_type": "stream",
     "text": [
      "a = 2 ; b = 1\n"
     ]
    },
    {
     "ename": "ValueError",
     "evalue": "too many values to unpack (expected 2)",
     "output_type": "error",
     "traceback": [
      "\u001b[0;31m---------------------------------------------------------------------------\u001b[0m",
      "\u001b[0;31mValueError\u001b[0m                                Traceback (most recent call last)",
      "\u001b[0;32m<ipython-input-7-20da5725ccc1>\u001b[0m in \u001b[0;36m<module>\u001b[0;34m()\u001b[0m\n\u001b[1;32m      1\u001b[0m \u001b[0mprint\u001b[0m\u001b[0;34m(\u001b[0m\u001b[0;34m\"a =\"\u001b[0m\u001b[0;34m,\u001b[0m \u001b[0ma\u001b[0m\u001b[0;34m,\u001b[0m \u001b[0;34m\"; b =\"\u001b[0m\u001b[0;34m,\u001b[0m \u001b[0mb\u001b[0m\u001b[0;34m)\u001b[0m\u001b[0;34m\u001b[0m\u001b[0m\n\u001b[0;32m----> 2\u001b[0;31m \u001b[0mb\u001b[0m\u001b[0;34m,\u001b[0m \u001b[0ma\u001b[0m \u001b[0;34m=\u001b[0m \u001b[0;36m1\u001b[0m\u001b[0;34m,\u001b[0m \u001b[0;36m2\u001b[0m\u001b[0;34m,\u001b[0m \u001b[0;36m3\u001b[0m\u001b[0;34m\u001b[0m\u001b[0m\n\u001b[0m",
      "\u001b[0;31mValueError\u001b[0m: too many values to unpack (expected 2)"
     ]
    }
   ],
   "source": [
    "print(\"a =\", a, \"; b =\", b)\n",
    "b, a = 1, 2, 3"
   ]
  },
  {
   "cell_type": "code",
   "execution_count": 8,
   "metadata": {},
   "outputs": [
    {
     "name": "stdout",
     "output_type": "stream",
     "text": [
      "a = 2 ; b = 1\n"
     ]
    }
   ],
   "source": [
    "print(\"a =\", a, \"; b =\", b)"
   ]
  },
  {
   "cell_type": "code",
   "execution_count": 9,
   "metadata": {},
   "outputs": [],
   "source": [
    "b, a = 1, 2"
   ]
  },
  {
   "cell_type": "markdown",
   "metadata": {},
   "source": [
    "Intro: Logical Operator\n",
    "\n",
    "| function       | operator                                          |\n",
    "| :---           | :---                                              |\n",
    "| expr1 < expr2  | expr1 is less than expr2                          |\n",
    "| expr1 > expr2  | expr1 is greater than expr2                       |\n",
    "| expr1 <= expr2 | expr1 is less than or equal to expr2              |\n",
    "| expr1 >= expr2 | expr1 is greater than or equal to expr2           |\n",
    "| expr1 == expr2 | expr1 is equal to expr2                           |\n",
    "| expr1 != expr2 | expr1 is not equal to expr2 (C-style)             |\n",
    "| expr1 <> expr2 | expr1 is not equal to expr2 (ABC/Pascal-style)[a] |\n"
   ]
  },
  {
   "cell_type": "code",
   "execution_count": null,
   "metadata": {},
   "outputs": [],
   "source": []
  }
 ],
 "metadata": {
  "kernelspec": {
   "display_name": "Python 3",
   "language": "python",
   "name": "python3"
  },
  "language_info": {
   "codemirror_mode": {
    "name": "ipython",
    "version": 3
   },
   "file_extension": ".py",
   "mimetype": "text/x-python",
   "name": "python",
   "nbconvert_exporter": "python",
   "pygments_lexer": "ipython3",
   "version": "3.6.5"
  }
 },
 "nbformat": 4,
 "nbformat_minor": 2
}
